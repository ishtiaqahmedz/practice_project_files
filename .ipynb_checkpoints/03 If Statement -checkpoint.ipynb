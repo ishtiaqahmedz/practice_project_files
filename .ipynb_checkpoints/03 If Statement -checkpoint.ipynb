{
 "cells": [
  {
   "cell_type": "code",
   "execution_count": 1,
   "metadata": {},
   "outputs": [
    {
     "name": "stdout",
     "output_type": "stream",
     "text": [
      "5\n",
      "10\n",
      "15\n"
     ]
    }
   ],
   "source": [
    "a=5\n",
    "b=10\n",
    "\n",
    "if a<b:       # this will create an \"if block\" , that will be intented automatically\n",
    "    print (a)\n",
    "    print (b)\n",
    "    \n",
    "print (a+b)  #used back space to exit from the if-block\n",
    "\n",
    "\n"
   ]
  },
  {
   "cell_type": "code",
   "execution_count": 16,
   "metadata": {},
   "outputs": [
    {
     "name": "stdout",
     "output_type": "stream",
     "text": [
      "12\n"
     ]
    }
   ],
   "source": [
    "\"\"\"\n",
    "\n",
    "Comments can also be enclosed \n",
    "in these three commas,when used, \n",
    "all paragraphs written between these commas will be \n",
    "ignored by Python as the \n",
    "lines are for human- not for machines\n",
    "\n",
    "\"\"\"\n",
    "\n",
    "print(12)\n"
   ]
  },
  {
   "cell_type": "code",
   "execution_count": 6,
   "metadata": {},
   "outputs": [
    {
     "name": "stdout",
     "output_type": "stream",
     "text": [
      "AA\n"
     ]
    }
   ],
   "source": [
    "\n",
    "ab=\"A\"\n",
    "ba=\"A\"\n",
    "\n",
    "if ab==ba:\n",
    "    print (ab+ba)\n",
    "    \n",
    "else:\n",
    "    print (\"done\")\n",
    "\n",
    "if 2==3:\n",
    "    print(2)"
   ]
  },
  {
   "cell_type": "code",
   "execution_count": 8,
   "metadata": {},
   "outputs": [
    {
     "name": "stdout",
     "output_type": "stream",
     "text": [
      "20\n"
     ]
    }
   ],
   "source": [
    "\n",
    "\n",
    "a=10\n",
    "b=15\n",
    "c=20\n",
    "\n",
    "\n",
    "if a>b:\n",
    "    print(a)\n",
    "elif b>c:\n",
    "    print(b)\n",
    "elif b==c:\n",
    "    print (b+c)\n",
    "elif c>b>a:\n",
    "    print (c)\n",
    "elif a==b:\n",
    "    print (\"Equalizer\")\n",
    "    \n",
    "else:\n",
    "    pass\n",
    "\n"
   ]
  },
  {
   "cell_type": "code",
   "execution_count": null,
   "metadata": {},
   "outputs": [],
   "source": []
  },
  {
   "cell_type": "code",
   "execution_count": null,
   "metadata": {},
   "outputs": [],
   "source": []
  }
 ],
 "metadata": {
  "kernelspec": {
   "display_name": "Python 3 (ipykernel)",
   "language": "python",
   "name": "python3"
  },
  "language_info": {
   "codemirror_mode": {
    "name": "ipython",
    "version": 3
   },
   "file_extension": ".py",
   "mimetype": "text/x-python",
   "name": "python",
   "nbconvert_exporter": "python",
   "pygments_lexer": "ipython3",
   "version": "3.10.13"
  }
 },
 "nbformat": 4,
 "nbformat_minor": 4
}
