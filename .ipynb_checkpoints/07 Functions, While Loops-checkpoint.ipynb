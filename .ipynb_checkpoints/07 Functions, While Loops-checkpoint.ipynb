{
 "cells": [
  {
   "cell_type": "markdown",
   "metadata": {},
   "source": [
    "# Defination of a FUNCTION\n"
   ]
  },
  {
   "cell_type": "code",
   "execution_count": 1,
   "metadata": {},
   "outputs": [],
   "source": [
    "#Function vs Method - Function is called directly from command prompt using brackets ()\n",
    "#Function can be built-in and custom-made\n",
    "#Method is called by a dot after the object. Like: MyStr.count\n",
    "\n",
    "\n",
    "def Addition():#Parameter less Function\n",
    "    number1=int(input(\"Please enter First Num\"))\n",
    "    \n",
    "    number2=int(input(\"Please enter Second Num\"))\n",
    "    \n",
    "    print(number1+number2)"
   ]
  },
  {
   "cell_type": "markdown",
   "metadata": {},
   "source": [
    "# Calling a FUNCTION\n",
    "\n"
   ]
  },
  {
   "cell_type": "code",
   "execution_count": 2,
   "metadata": {},
   "outputs": [
    {
     "name": "stdout",
     "output_type": "stream",
     "text": [
      "Please enter First Num1\n",
      "Please enter Second Num2\n",
      "3\n"
     ]
    }
   ],
   "source": [
    "Addition()"
   ]
  },
  {
   "cell_type": "markdown",
   "metadata": {},
   "source": [
    "# Passing Positional Aurguments in Function"
   ]
  },
  {
   "cell_type": "code",
   "execution_count": 3,
   "metadata": {},
   "outputs": [],
   "source": [
    "#Parameters are what we define in functions\n",
    "#Aurguments are what we provide to funcitons while calling them\n",
    "\n",
    "\n",
    "\n",
    "\n",
    "def Add(num1,num2): #Parameterized function, they are Positional Aurguments \n",
    "    print(num1-num2)\n"
   ]
  },
  {
   "cell_type": "code",
   "execution_count": 4,
   "metadata": {},
   "outputs": [
    {
     "name": "stdout",
     "output_type": "stream",
     "text": [
      "-1\n"
     ]
    }
   ],
   "source": [
    "Add(2,3) #passing aurguments in function\n",
    "\n",
    "#To see signature of a function , press shift tab\n"
   ]
  },
  {
   "cell_type": "markdown",
   "metadata": {},
   "source": [
    "# Passing Keyword Aurguments in Function\n"
   ]
  },
  {
   "cell_type": "code",
   "execution_count": 5,
   "metadata": {},
   "outputs": [
    {
     "name": "stdout",
     "output_type": "stream",
     "text": [
      "1\n"
     ]
    }
   ],
   "source": [
    "Add(num2=2,num1=3) #Postiion of auguments are changed - they are assigned to respective parameters by using related keywords "
   ]
  },
  {
   "cell_type": "code",
   "execution_count": 6,
   "metadata": {},
   "outputs": [
    {
     "name": "stdout",
     "output_type": "stream",
     "text": [
      "4\n"
     ]
    }
   ],
   "source": [
    "Add(2,num2=-2) #the later aurguments can be given as keyword augument \n",
    "               #but positional augument can't follow keyword aurgument, this will prompt a run-time error. \n",
    "               #That is position must be followed but once position breaks, the keywors aurgument can continue...\n",
    "               #but after keyword aurgument, position aurgument is not possible to be included\n",
    "            \n"
   ]
  },
  {
   "cell_type": "markdown",
   "metadata": {},
   "source": [
    "# Passing Default Aurguments in Function"
   ]
  },
  {
   "cell_type": "code",
   "execution_count": 7,
   "metadata": {},
   "outputs": [
    {
     "name": "stdout",
     "output_type": "stream",
     "text": [
      "-1\n"
     ]
    }
   ],
   "source": [
    "Add(2,num2=3)"
   ]
  },
  {
   "cell_type": "code",
   "execution_count": 8,
   "metadata": {},
   "outputs": [],
   "source": [
    "def Sub(Num1,Num2=0): #Default parameters must begins in end of other auguments - \n",
    "    #that is non-default cannot follow default aurguments \n",
    "    print (Num1-Num2)"
   ]
  },
  {
   "cell_type": "code",
   "execution_count": 9,
   "metadata": {},
   "outputs": [
    {
     "name": "stdout",
     "output_type": "stream",
     "text": [
      "4\n"
     ]
    }
   ],
   "source": [
    "Sub(4,) #defrault augument left blank intentionally "
   ]
  },
  {
   "cell_type": "markdown",
   "metadata": {},
   "source": [
    "# Passing unknown number of auguments - Arbitrary number of aurguments"
   ]
  },
  {
   "cell_type": "code",
   "execution_count": 10,
   "metadata": {},
   "outputs": [],
   "source": [
    "#unknow number of auguments will be saved as Tupple - as Pythons always stores more than one values in form of a Tuple"
   ]
  },
  {
   "cell_type": "code",
   "execution_count": 11,
   "metadata": {},
   "outputs": [],
   "source": [
    "def PizzaOrder(Size,Flavor,*Topping): #Asteric sign defines that aurgument is Arbitrary\n",
    "    print(f\"Your Pizza with size {Size} and Flavor {Flavor} is ready. The selected Toppings are {Topping}\")\n",
    "          "
   ]
  },
  {
   "cell_type": "code",
   "execution_count": 12,
   "metadata": {},
   "outputs": [
    {
     "name": "stdout",
     "output_type": "stream",
     "text": [
      "Your Pizza with size 14 inches and Flavor Chicken Fajita is ready. The selected Toppings are ('Extra Cheeze', 'Olives', 'Mashrooms')\n"
     ]
    }
   ],
   "source": [
    "PizzaOrder(\"14 inches\",\"Chicken Fajita\",\"Extra Cheeze\",\"Olives\",\"Mashrooms\")"
   ]
  },
  {
   "cell_type": "code",
   "execution_count": 13,
   "metadata": {},
   "outputs": [],
   "source": [
    "#('Extra Cheeze', 'Olives') this aurgument is saved and displayed as a Tuple"
   ]
  },
  {
   "cell_type": "markdown",
   "metadata": {},
   "source": [
    "# Getting Informaiton Back from a Function"
   ]
  },
  {
   "cell_type": "code",
   "execution_count": 14,
   "metadata": {},
   "outputs": [],
   "source": [
    "def Division(Num1, Num2=1):\n",
    "    \n",
    "    return Num1/Num2, \"Division Result\"#The function will return the value in form of Tuple - as result has multiple outputs\n"
   ]
  },
  {
   "cell_type": "code",
   "execution_count": 15,
   "metadata": {},
   "outputs": [],
   "source": [
    "DivResult=Division(3,2)"
   ]
  },
  {
   "cell_type": "code",
   "execution_count": 16,
   "metadata": {},
   "outputs": [
    {
     "name": "stdout",
     "output_type": "stream",
     "text": [
      "(1.5, 'Division Result')\n"
     ]
    }
   ],
   "source": [
    "print (DivResult)"
   ]
  },
  {
   "cell_type": "markdown",
   "metadata": {},
   "source": [
    "# Using Function as Variables\n"
   ]
  },
  {
   "cell_type": "code",
   "execution_count": 17,
   "metadata": {},
   "outputs": [
    {
     "name": "stdout",
     "output_type": "stream",
     "text": [
      "6\n",
      "6\n"
     ]
    }
   ],
   "source": [
    "def Add(a,b):\n",
    "    return a+b\n",
    "\n",
    "def Sub (a,b):\n",
    "    return b-a\n",
    "\n",
    "result=Add(2,3) + Sub(2,3)\n",
    "\n",
    "print (Add(2,3) + Sub(2,3))\n",
    "print (result)"
   ]
  },
  {
   "cell_type": "markdown",
   "metadata": {},
   "source": [
    "# Local Variables: Used and called within a function. Global Variables: They can be called and used within and outside a function\n"
   ]
  },
  {
   "cell_type": "markdown",
   "metadata": {},
   "source": [
    "# Using/Calling a fucniton within another Function \n"
   ]
  },
  {
   "cell_type": "code",
   "execution_count": 20,
   "metadata": {},
   "outputs": [],
   "source": [
    "def SalaryCalc (Basic, Sales):\n",
    "    return Basic+Sales*.2\n",
    "\n",
    "\n",
    "def CommisionCal (Sales):\n",
    "    if Sales >100:\n",
    "        return Sales*100/100\n",
    "    \n",
    "    elif Sales >50:\n",
    "        return Sales*50/100\n",
    "    \n",
    "    elif Sales >20:\n",
    "        return Sales*20/100\n",
    "    \n",
    "    else:\n",
    "        return 0\n"
   ]
  },
  {
   "cell_type": "code",
   "execution_count": 21,
   "metadata": {},
   "outputs": [
    {
     "name": "stdout",
     "output_type": "stream",
     "text": [
      "510.0\n",
      "<function SalaryCalc at 0x000002B6087FA320>\n"
     ]
    }
   ],
   "source": [
    "print (SalaryCalc (500,50))\n",
    "\n",
    "#Functions serve the purpose of DRY that is Don't Repeat Yourself\n",
    "print(SalaryCalc)#without brackets, printing the function will show its memory location \n",
    "\n"
   ]
  },
  {
   "cell_type": "markdown",
   "metadata": {},
   "source": [
    "# WHILE LOOPS"
   ]
  },
  {
   "cell_type": "code",
   "execution_count": null,
   "metadata": {},
   "outputs": [],
   "source": [
    "a=0\n",
    "ListOfWhile=[]\n",
    "while a<=10:\n",
    "    ListOfWhile.append(a)\n",
    "    a+=1\n",
    "    \n",
    "print (ListOfWhile)"
   ]
  },
  {
   "cell_type": "code",
   "execution_count": null,
   "metadata": {},
   "outputs": [],
   "source": [
    "for a in range (10):\n",
    "    print (a)\n",
    "    "
   ]
  },
  {
   "cell_type": "code",
   "execution_count": null,
   "metadata": {},
   "outputs": [],
   "source": [
    "FavFoods=[]\n",
    "FoodFlag=True\n",
    "\n",
    "\n",
    "while FoodFlag:\n",
    "    MyFood=(input(\"Enter your Favorite Food\"))\n",
    "    \n",
    "    if MyFood==\"Biryani\":\n",
    "        FoodFlag=False\n",
    "    else:\n",
    "        FavFoods.append (MyFood)\n",
    "        \n",
    "        "
   ]
  },
  {
   "cell_type": "code",
   "execution_count": null,
   "metadata": {},
   "outputs": [],
   "source": [
    "FoodFlag"
   ]
  },
  {
   "cell_type": "code",
   "execution_count": null,
   "metadata": {},
   "outputs": [],
   "source": [
    "FavFoods\n"
   ]
  },
  {
   "cell_type": "code",
   "execution_count": null,
   "metadata": {},
   "outputs": [],
   "source": [
    "a=0\n",
    "\n",
    "while a <5:\n",
    "    \n",
    "    a+=1\n",
    "    if a==2:\n",
    "        continue #this will break the loop and go to the initial point \n",
    "    print(a)     #at a==2, the loop will not print a and get back to the initial point\n",
    "    \n",
    "    pass #this will pass the loop to the next line\n",
    "\n",
    "    if a==3:\n",
    "        break\n",
    "else:\n",
    "    print(\"While loop is done\")\n",
    "    \n",
    "    \n",
    "    "
   ]
  },
  {
   "cell_type": "code",
   "execution_count": null,
   "metadata": {},
   "outputs": [],
   "source": []
  }
 ],
 "metadata": {
  "kernelspec": {
   "display_name": "Python 3 (ipykernel)",
   "language": "python",
   "name": "python3"
  },
  "language_info": {
   "codemirror_mode": {
    "name": "ipython",
    "version": 3
   },
   "file_extension": ".py",
   "mimetype": "text/x-python",
   "name": "python",
   "nbconvert_exporter": "python",
   "pygments_lexer": "ipython3",
   "version": "3.10.9"
  }
 },
 "nbformat": 4,
 "nbformat_minor": 4
}
