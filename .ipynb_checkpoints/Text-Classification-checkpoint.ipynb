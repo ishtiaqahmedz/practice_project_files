{
 "cells": [
  {
   "cell_type": "markdown",
   "id": "976c132e-9ad4-4749-a084-4b862dec6ef6",
   "metadata": {},
   "source": [
    "https://realpython.com/python-keras-text-classification/"
   ]
  },
  {
   "cell_type": "code",
   "execution_count": 1,
   "id": "53eb1cd6-97c3-4b44-aceb-b882c15823f6",
   "metadata": {},
   "outputs": [],
   "source": [
    "import pandas as pd\n"
   ]
  },
  {
   "cell_type": "code",
   "execution_count": 2,
   "id": "41c62af3-17f9-44c4-b24f-9777c7a83704",
   "metadata": {},
   "outputs": [],
   "source": [
    "filepath_dict={'yelp':\"data/sentiment_analysis/yelp_labelled.txt\",\n",
    "              'amazon':\"data/sentiment_analysis/yelp_labelled.txt\",\n",
    "              \"imdb\":\"data/sentiment_analysis/yelp_labelled.txt\"}"
   ]
  },
  {
   "cell_type": "code",
   "execution_count": 8,
   "id": "f6b24f6b-bdd1-43a1-9fd3-9dc6b43c05ab",
   "metadata": {},
   "outputs": [
    {
     "data": {
      "text/plain": [
       "{'yelp': 'data/sentiment_analysis/yelp_labelled.txt',\n",
       " 'amazon': 'data/sentiment_analysis/yelp_labelled.txt',\n",
       " 'imdb': 'data/sentiment_analysis/yelp_labelled.txt'}"
      ]
     },
     "execution_count": 8,
     "metadata": {},
     "output_type": "execute_result"
    }
   ],
   "source": [
    "filepath_dict"
   ]
  },
  {
   "cell_type": "code",
   "execution_count": 10,
   "id": "7e76c661-9d88-41d8-9542-1111a7812650",
   "metadata": {},
   "outputs": [],
   "source": [
    "df_list=[]\n",
    "\n",
    "for source, filepath in filepath_dict.items():\n",
    "    #Name=equence of Hashable, optional Sequence of column labels to apply. If the file contains a header row,\n",
    "    #then you should explicitly pass ``header=0`` to override the column names.\n",
    "    df=pd.read_csv(filepath,names=['sentence', 'label'],sep=\"\\t\")\n",
    "    df['source']=source ## Add another column filled with the source name\n",
    "    df_list.append(df)\n",
    "    \n",
    "\n",
    "df=pd.concat(df_list) #Concatenate pandas objects along a particular axis.\n"
   ]
  },
  {
   "cell_type": "code",
   "execution_count": 27,
   "id": "3b30bbd2-be80-429f-8080-0d622a68b25e",
   "metadata": {},
   "outputs": [
    {
     "data": {
      "text/plain": [
       "[                                              sentence  label source\n",
       " 0                             Wow... Loved this place.      1   yelp\n",
       " 1                                   Crust is not good.      0   yelp\n",
       " 2            Not tasty and the texture was just nasty.      0   yelp\n",
       " 3    Stopped by during the late May bank holiday of...      1   yelp\n",
       " 4    The selection on the menu was great and so wer...      1   yelp\n",
       " ..                                                 ...    ...    ...\n",
       " 995  I think food should have flavor and texture an...      0   yelp\n",
       " 996                           Appetite instantly gone.      0   yelp\n",
       " 997  Overall I was not impressed and would not go b...      0   yelp\n",
       " 998  The whole experience was underwhelming, and I ...      0   yelp\n",
       " 999  Then, as if I hadn't wasted enough of my life ...      0   yelp\n",
       " \n",
       " [1000 rows x 3 columns],\n",
       "                                               sentence  label  source\n",
       " 0                             Wow... Loved this place.      1  amazon\n",
       " 1                                   Crust is not good.      0  amazon\n",
       " 2            Not tasty and the texture was just nasty.      0  amazon\n",
       " 3    Stopped by during the late May bank holiday of...      1  amazon\n",
       " 4    The selection on the menu was great and so wer...      1  amazon\n",
       " ..                                                 ...    ...     ...\n",
       " 995  I think food should have flavor and texture an...      0  amazon\n",
       " 996                           Appetite instantly gone.      0  amazon\n",
       " 997  Overall I was not impressed and would not go b...      0  amazon\n",
       " 998  The whole experience was underwhelming, and I ...      0  amazon\n",
       " 999  Then, as if I hadn't wasted enough of my life ...      0  amazon\n",
       " \n",
       " [1000 rows x 3 columns],\n",
       "                                               sentence  label source\n",
       " 0                             Wow... Loved this place.      1   imdb\n",
       " 1                                   Crust is not good.      0   imdb\n",
       " 2            Not tasty and the texture was just nasty.      0   imdb\n",
       " 3    Stopped by during the late May bank holiday of...      1   imdb\n",
       " 4    The selection on the menu was great and so wer...      1   imdb\n",
       " ..                                                 ...    ...    ...\n",
       " 995  I think food should have flavor and texture an...      0   imdb\n",
       " 996                           Appetite instantly gone.      0   imdb\n",
       " 997  Overall I was not impressed and would not go b...      0   imdb\n",
       " 998  The whole experience was underwhelming, and I ...      0   imdb\n",
       " 999  Then, as if I hadn't wasted enough of my life ...      0   imdb\n",
       " \n",
       " [1000 rows x 3 columns]]"
      ]
     },
     "execution_count": 27,
     "metadata": {},
     "output_type": "execute_result"
    }
   ],
   "source": [
    "\n",
    "df_list[0:3]"
   ]
  },
  {
   "cell_type": "code",
   "execution_count": 29,
   "id": "612d614d-864a-49ec-8b1f-4dc4e03bce57",
   "metadata": {},
   "outputs": [
    {
     "data": {
      "text/html": [
       "<div>\n",
       "<style scoped>\n",
       "    .dataframe tbody tr th:only-of-type {\n",
       "        vertical-align: middle;\n",
       "    }\n",
       "\n",
       "    .dataframe tbody tr th {\n",
       "        vertical-align: top;\n",
       "    }\n",
       "\n",
       "    .dataframe thead th {\n",
       "        text-align: right;\n",
       "    }\n",
       "</style>\n",
       "<table border=\"1\" class=\"dataframe\">\n",
       "  <thead>\n",
       "    <tr style=\"text-align: right;\">\n",
       "      <th></th>\n",
       "      <th>sentence</th>\n",
       "      <th>label</th>\n",
       "      <th>source</th>\n",
       "    </tr>\n",
       "  </thead>\n",
       "  <tbody>\n",
       "    <tr>\n",
       "      <th>0</th>\n",
       "      <td>Wow... Loved this place.</td>\n",
       "      <td>1</td>\n",
       "      <td>yelp</td>\n",
       "    </tr>\n",
       "    <tr>\n",
       "      <th>1</th>\n",
       "      <td>Crust is not good.</td>\n",
       "      <td>0</td>\n",
       "      <td>yelp</td>\n",
       "    </tr>\n",
       "    <tr>\n",
       "      <th>2</th>\n",
       "      <td>Not tasty and the texture was just nasty.</td>\n",
       "      <td>0</td>\n",
       "      <td>yelp</td>\n",
       "    </tr>\n",
       "    <tr>\n",
       "      <th>3</th>\n",
       "      <td>Stopped by during the late May bank holiday of...</td>\n",
       "      <td>1</td>\n",
       "      <td>yelp</td>\n",
       "    </tr>\n",
       "    <tr>\n",
       "      <th>4</th>\n",
       "      <td>The selection on the menu was great and so wer...</td>\n",
       "      <td>1</td>\n",
       "      <td>yelp</td>\n",
       "    </tr>\n",
       "    <tr>\n",
       "      <th>5</th>\n",
       "      <td>Now I am getting angry and I want my damn pho.</td>\n",
       "      <td>0</td>\n",
       "      <td>yelp</td>\n",
       "    </tr>\n",
       "    <tr>\n",
       "      <th>6</th>\n",
       "      <td>Honeslty it didn't taste THAT fresh.)</td>\n",
       "      <td>0</td>\n",
       "      <td>yelp</td>\n",
       "    </tr>\n",
       "    <tr>\n",
       "      <th>7</th>\n",
       "      <td>The potatoes were like rubber and you could te...</td>\n",
       "      <td>0</td>\n",
       "      <td>yelp</td>\n",
       "    </tr>\n",
       "    <tr>\n",
       "      <th>8</th>\n",
       "      <td>The fries were great too.</td>\n",
       "      <td>1</td>\n",
       "      <td>yelp</td>\n",
       "    </tr>\n",
       "    <tr>\n",
       "      <th>9</th>\n",
       "      <td>A great touch.</td>\n",
       "      <td>1</td>\n",
       "      <td>yelp</td>\n",
       "    </tr>\n",
       "    <tr>\n",
       "      <th>10</th>\n",
       "      <td>Service was very prompt.</td>\n",
       "      <td>1</td>\n",
       "      <td>yelp</td>\n",
       "    </tr>\n",
       "  </tbody>\n",
       "</table>\n",
       "</div>"
      ],
      "text/plain": [
       "                                             sentence  label source\n",
       "0                            Wow... Loved this place.      1   yelp\n",
       "1                                  Crust is not good.      0   yelp\n",
       "2           Not tasty and the texture was just nasty.      0   yelp\n",
       "3   Stopped by during the late May bank holiday of...      1   yelp\n",
       "4   The selection on the menu was great and so wer...      1   yelp\n",
       "5      Now I am getting angry and I want my damn pho.      0   yelp\n",
       "6               Honeslty it didn't taste THAT fresh.)      0   yelp\n",
       "7   The potatoes were like rubber and you could te...      0   yelp\n",
       "8                           The fries were great too.      1   yelp\n",
       "9                                      A great touch.      1   yelp\n",
       "10                           Service was very prompt.      1   yelp"
      ]
     },
     "execution_count": 29,
     "metadata": {},
     "output_type": "execute_result"
    }
   ],
   "source": [
    "df.iloc[0:11]"
   ]
  },
  {
   "cell_type": "code",
   "execution_count": null,
   "id": "517c71b6-25be-4f22-810e-d3917c6b80ec",
   "metadata": {},
   "outputs": [],
   "source": []
  }
 ],
 "metadata": {
  "kernelspec": {
   "display_name": "Python 3 (ipykernel)",
   "language": "python",
   "name": "python3"
  },
  "language_info": {
   "codemirror_mode": {
    "name": "ipython",
    "version": 3
   },
   "file_extension": ".py",
   "mimetype": "text/x-python",
   "name": "python",
   "nbconvert_exporter": "python",
   "pygments_lexer": "ipython3",
   "version": "3.10.13"
  }
 },
 "nbformat": 4,
 "nbformat_minor": 5
}
