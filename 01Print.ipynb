{
 "cells": [
  {
   "cell_type": "code",
   "execution_count": 1,
   "metadata": {},
   "outputs": [
    {
     "name": "stdout",
     "output_type": "stream",
     "text": [
      "123\n"
     ]
    }
   ],
   "source": [
    "print (123) #integer"
   ]
  },
  {
   "cell_type": "code",
   "execution_count": null,
   "metadata": {},
   "outputs": [],
   "source": []
  },
  {
   "cell_type": "code",
   "execution_count": null,
   "metadata": {},
   "outputs": [],
   "source": []
  },
  {
   "cell_type": "code",
   "execution_count": 8,
   "metadata": {},
   "outputs": [
    {
     "name": "stdout",
     "output_type": "stream",
     "text": [
      "246 123.55\n"
     ]
    }
   ],
   "source": [
    "print (123+123,123.55)  #interger and floating point data types"
   ]
  },
  {
   "cell_type": "code",
   "execution_count": 4,
   "metadata": {},
   "outputs": [
    {
     "name": "stdout",
     "output_type": "stream",
     "text": [
      "hello world hello world\n",
      "hello world 13\n"
     ]
    }
   ],
   "source": [
    "print (\"hello world\",\"hello world\") #string data type\n",
    "print (\"hello world 13\")"
   ]
  },
  {
   "cell_type": "code",
   "execution_count": 5,
   "metadata": {},
   "outputs": [
    {
     "name": "stdout",
     "output_type": "stream",
     "text": [
      "hello world  @@  hello world\n",
      "hello world 3\n"
     ]
    }
   ],
   "source": [
    "print (\"hello world\",\"hello world\",sep=\"  @@  \") #seperator aurgument is used\n",
    "print (\"hello world 3\")"
   ]
  },
  {
   "cell_type": "code",
   "execution_count": 8,
   "metadata": {},
   "outputs": [
    {
     "name": "stdout",
     "output_type": "stream",
     "text": [
      "hello world  @@  hello world\n",
      "\n",
      "\t\t\t\thello world 3\n"
     ]
    }
   ],
   "source": [
    "print (\"hello world\",\"hello world\",sep=\"  @@  \",end=\"\\n\\n\\t\\t\\t\\t\") #end is called escape character, it tells how to print \n",
    "#next output when previous output is done - n is used for a next line/new line and t is for insertion of a tab.\n",
    "\n",
    "print (\"hello world 3\")\n"
   ]
  },
  {
   "cell_type": "code",
   "execution_count": 6,
   "metadata": {},
   "outputs": [
    {
     "name": "stdout",
     "output_type": "stream",
     "text": [
      "hello^^^^citizen^^^^125000\n",
      "\n",
      "\thope you are doing fine\n"
     ]
    }
   ],
   "source": [
    "print (\"hello\",\"citizen\", 125000, sep = \"^^^^\",end=\"\\n\\n\\t\")\n",
    "\n",
    "print (\"hope you are doing fine\")"
   ]
  },
  {
   "cell_type": "code",
   "execution_count": 7,
   "metadata": {},
   "outputs": [
    {
     "name": "stdout",
     "output_type": "stream",
     "text": [
      "This is the first line\t\t\t<--\n",
      "\t\t\t\t\t\t\t\t\t\t\t\t This is the second line <--\n",
      "\t\t\t\t\t\tAnd this is the last one\n"
     ]
    }
   ],
   "source": [
    "print (\"This is the first line\",\"<--\",sep=\"\\t\\t\\t\",end=\"\\n\\t\\t\\t\\t\\t\\t\")\n",
    "print (\"\\t\\t\\t\\t\\t\\t\",\"This is the second line\",\"<--\",end=\"\\n\\t\\t\\t\\t\\t\\t\")\n",
    "print (\"And this is the last one\")"
   ]
  },
  {
   "cell_type": "code",
   "execution_count": null,
   "metadata": {},
   "outputs": [],
   "source": []
  },
  {
   "cell_type": "code",
   "execution_count": null,
   "metadata": {},
   "outputs": [],
   "source": []
  },
  {
   "cell_type": "code",
   "execution_count": null,
   "metadata": {},
   "outputs": [],
   "source": []
  },
  {
   "cell_type": "code",
   "execution_count": null,
   "metadata": {},
   "outputs": [],
   "source": []
  },
  {
   "cell_type": "code",
   "execution_count": null,
   "metadata": {},
   "outputs": [],
   "source": []
  }
 ],
 "metadata": {
  "kernelspec": {
   "display_name": "practice_env",
   "language": "python",
   "name": "python3"
  },
  "language_info": {
   "codemirror_mode": {
    "name": "ipython",
    "version": 3
   },
   "file_extension": ".py",
   "mimetype": "text/x-python",
   "name": "python",
   "nbconvert_exporter": "python",
   "pygments_lexer": "ipython3",
   "version": "3.12.8"
  }
 },
 "nbformat": 4,
 "nbformat_minor": 4
}
