{
 "cells": [
  {
   "cell_type": "code",
   "execution_count": 5,
   "metadata": {},
   "outputs": [
    {
     "name": "stdout",
     "output_type": "stream",
     "text": [
      "10.6\n",
      "<class 'float'>\n",
      "ab##125\t\t\n"
     ]
    },
    {
     "data": {
      "text/plain": [
       "<function str.upper()>"
      ]
     },
     "execution_count": 5,
     "metadata": {},
     "output_type": "execute_result"
    }
   ],
   "source": [
    "a=10.6 # this will create a variable with float point data type - Python infers data type automatically\n",
    "\n",
    "print (a) \n",
    "\n",
    "print(type(a))\n",
    " \n",
    "a=\"ab\" #Python allows change in variable type - same variable type is changes to string here\n",
    "\n",
    "print(a,\"125\",sep=\"##\",end= \"\\t\\t\\n\")\n",
    "type (a)\n",
    "a.upper"
   ]
  },
  {
   "cell_type": "code",
   "execution_count": 11,
   "metadata": {},
   "outputs": [
    {
     "name": "stdout",
     "output_type": "stream",
     "text": [
      "Ishtiaq Altaf\n"
     ]
    }
   ],
   "source": [
    "student_name=\"Ishtiaq\"\n",
    "father_name=\"Altaf\"\n",
    "\n",
    "print (student_name+\" \"+father_name)"
   ]
  },
  {
   "cell_type": "code",
   "execution_count": 14,
   "metadata": {},
   "outputs": [
    {
     "name": "stdout",
     "output_type": "stream",
     "text": [
      "30.5\n"
     ]
    }
   ],
   "source": [
    "num1=10\n",
    "num2=20.5\n",
    "\n",
    "sum1=num1+num2  # \"+\" is called plus operator - common operators are +-*/ \n",
    "\n",
    "print (sum1)"
   ]
  },
  {
   "cell_type": "code",
   "execution_count": 2,
   "metadata": {},
   "outputs": [
    {
     "name": "stdout",
     "output_type": "stream",
     "text": [
      "my,name,us,c,"
     ]
    }
   ],
   "source": []
  },
  {
   "cell_type": "code",
   "execution_count": null,
   "metadata": {},
   "outputs": [],
   "source": []
  }
 ],
 "metadata": {
  "kernelspec": {
   "display_name": "Python 3 (ipykernel)",
   "language": "python",
   "name": "python3"
  },
  "language_info": {
   "codemirror_mode": {
    "name": "ipython",
    "version": 3
   },
   "file_extension": ".py",
   "mimetype": "text/x-python",
   "name": "python",
   "nbconvert_exporter": "python",
   "pygments_lexer": "ipython3",
   "version": "3.11.4"
  }
 },
 "nbformat": 4,
 "nbformat_minor": 4
}
