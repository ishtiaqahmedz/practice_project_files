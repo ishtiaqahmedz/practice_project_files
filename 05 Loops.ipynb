{
 "cells": [
  {
   "cell_type": "markdown",
   "metadata": {},
   "source": [
    "# LOOPS"
   ]
  },
  {
   "cell_type": "code",
   "execution_count": 2,
   "metadata": {},
   "outputs": [
    {
     "name": "stdout",
     "output_type": "stream",
     "text": [
      "KHI\n",
      "HYD\n",
      "SUK\n",
      "JCD\n",
      "QTA\n",
      "MUL\n"
     ]
    }
   ],
   "source": [
    "Cities=[\"KHI\",\"HYD\",\"SUK\",\"JCD\",\"QTA\",\"MUL\",\"GUJ\",\"LHR\",\"ISB\"]\n",
    "\n",
    "for City in Cities:\n",
    "    print (City) #the intended block was missing here,so this code initially was promtping errors until it was intented  \n",
    "    if City ==\"MUL\":\n",
    "        break  # the loop will be terminated when the city Multan is found\n",
    "    "
   ]
  },
  {
   "cell_type": "code",
   "execution_count": 7,
   "metadata": {},
   "outputs": [
    {
     "name": "stdout",
     "output_type": "stream",
     "text": [
      "KHI\n",
      "HYD\n",
      "SUK\n",
      "JCD\n",
      "MUL\n",
      "GUJ\n",
      "LHR\n",
      "ISB\n"
     ]
    }
   ],
   "source": [
    "#Continue keyword: this will skip that particular action on that iteration and go to next element of the loop\n",
    "\n",
    "for City in Cities:\n",
    "    if City==\"QTA\": #this will skip printing of QTA\n",
    "        continue    #this is IF block\n",
    "    print (City)    #this is ELSE block \n",
    "    \n",
    "    \n",
    "\n"
   ]
  },
  {
   "cell_type": "code",
   "execution_count": 18,
   "metadata": {},
   "outputs": [
    {
     "name": "stdout",
     "output_type": "stream",
     "text": [
      "0 Ishtiaq0\n",
      "1 Ishtiaq1\n",
      "2 Ishtiaq2\n",
      "3 Ishtiaq3\n",
      "4 Ishtiaq4\n"
     ]
    }
   ],
   "source": [
    "for a in range (5,):#this function create a  range of 5 numbers in created, from 0 to 4\n",
    "    \n",
    "    print(a,\"Ishtiaq\" + str(a)) #str convert number into string"
   ]
  },
  {
   "cell_type": "code",
   "execution_count": 5,
   "metadata": {},
   "outputs": [
    {
     "name": "stdout",
     "output_type": "stream",
     "text": [
      "10 Ishtiaq10\n",
      "8 Ishtiaq8\n",
      "6 Ishtiaq6\n",
      "4 Ishtiaq4\n"
     ]
    }
   ],
   "source": [
    "for a in range (10,2,-2):#range from 10 to 2 number is created with -2 decrease in number\n",
    "    print(a,\"Ishtiaq\" + str(a)) #str convert number into string\n",
    "    \n",
    "    "
   ]
  },
  {
   "cell_type": "markdown",
   "metadata": {},
   "source": [
    "# NESTED FOR LOOP"
   ]
  },
  {
   "cell_type": "code",
   "execution_count": 4,
   "metadata": {},
   "outputs": [
    {
     "name": "stdout",
     "output_type": "stream",
     "text": [
      "0 inner loop begings\n",
      "0  P\n",
      "0  A\n",
      "0  K\n",
      "0  I\n",
      "0  S\n",
      "0  T\n",
      "0  A\n",
      "0  N\n",
      "1 inner loop begings\n",
      "1  P\n",
      "1  A\n",
      "1  K\n",
      "1  I\n",
      "1  S\n",
      "1  T\n",
      "1  A\n",
      "1  N\n",
      "2 inner loop begings\n",
      "2  P\n",
      "2  A\n",
      "2  K\n",
      "2  I\n",
      "2  S\n",
      "2  T\n",
      "2  A\n",
      "2  N\n",
      "3 inner loop begings\n",
      "3  P\n",
      "3  A\n",
      "3  K\n",
      "3  I\n",
      "3  S\n",
      "3  T\n",
      "3  A\n",
      "3  N\n",
      "4 inner loop begings\n",
      "4  P\n",
      "4  A\n",
      "4  K\n",
      "4  I\n",
      "4  S\n",
      "4  T\n",
      "4  A\n",
      "4  N\n"
     ]
    }
   ],
   "source": [
    "#press shift enter for above heading\n",
    "\n",
    "for a in range(5):\n",
    "    print (str(a)+ \" inner loop begins\")\n",
    "    for char in \"PAKISTAN\":\n",
    "        print (a,\"\",char)"
   ]
  },
  {
   "cell_type": "markdown",
   "metadata": {},
   "source": [
    "# GET INPUT AND PRINT RELATED TABLE"
   ]
  },
  {
   "cell_type": "code",
   "execution_count": 7,
   "metadata": {},
   "outputs": [
    {
     "name": "stdout",
     "output_type": "stream",
     "text": [
      "Enter Table Number2\n",
      "2 x 1 = 2\n",
      "2 x 2 = 4\n",
      "2 x 3 = 6\n",
      "2 x 4 = 8\n",
      "2 x 5 = 10\n",
      "2 x 6 = 12\n",
      "2 x 7 = 14\n",
      "2 x 8 = 16\n",
      "2 x 9 = 18\n",
      "2 x 10 = 20\n",
      "2  *   1 =  2\n",
      "2  *   2 =  4\n",
      "2  *   3 =  6\n",
      "2  *   4 =  8\n",
      "2  *   5 =  10\n",
      "2  *   6 =  12\n",
      "2  *   7 =  14\n",
      "2  *   8 =  16\n",
      "2  *   9 =  18\n",
      "2  *   10 =  20\n"
     ]
    }
   ],
   "source": [
    "TableNumber = int(input(\"Enter Table Number\"))\n",
    "\n",
    "#print fucntion is used in two different ways for same output\n",
    "\n",
    "\n",
    "for a in range(1,11): print (TableNumber,\"x\",a,\"=\",a*TableNumber,sep=' ' )\n",
    "    \n",
    "    \n",
    "for a in range(1,11):\n",
    "    print(f\"{TableNumber}  *   {a} =  {TableNumber*a}\")\n",
    "\n"
   ]
  },
  {
   "cell_type": "markdown",
   "metadata": {},
   "source": [
    "# GENERATE RANGE OF TABLES - NESTED FOR LOOP"
   ]
  },
  {
   "cell_type": "code",
   "execution_count": 8,
   "metadata": {},
   "outputs": [
    {
     "name": "stdout",
     "output_type": "stream",
     "text": [
      "Enter Range of Tables: Generate Table from Number:2\n",
      "Generate Table till Number: 5\n",
      "2 * 1 = 2\n",
      "2 * 2 = 4\n",
      "2 * 3 = 6\n",
      "2 * 4 = 8\n",
      "2 * 5 = 10\n",
      "2 * 6 = 12\n",
      "2 * 7 = 14\n",
      "2 * 8 = 16\n",
      "2 * 9 = 18\n",
      "2 * 10 = 20\n",
      "3 * 1 = 3\n",
      "3 * 2 = 6\n",
      "3 * 3 = 9\n",
      "3 * 4 = 12\n",
      "3 * 5 = 15\n",
      "3 * 6 = 18\n",
      "3 * 7 = 21\n",
      "3 * 8 = 24\n",
      "3 * 9 = 27\n",
      "3 * 10 = 30\n",
      "4 * 1 = 4\n",
      "4 * 2 = 8\n",
      "4 * 3 = 12\n",
      "4 * 4 = 16\n",
      "4 * 5 = 20\n",
      "4 * 6 = 24\n",
      "4 * 7 = 28\n",
      "4 * 8 = 32\n",
      "4 * 9 = 36\n",
      "4 * 10 = 40\n",
      "5 * 1 = 5\n",
      "5 * 2 = 10\n",
      "5 * 3 = 15\n",
      "5 * 4 = 20\n",
      "5 * 5 = 25\n",
      "5 * 6 = 30\n",
      "5 * 7 = 35\n",
      "5 * 8 = 40\n",
      "5 * 9 = 45\n",
      "5 * 10 = 50\n"
     ]
    }
   ],
   "source": [
    "TableRangeFrom=int(input(\"Enter Range of Tables: Generate Table from Number:\"))\n",
    "\n",
    "TableRangeTo=int(input(\"Generate Table till Number: \"))\n",
    "\n",
    "\n",
    "for Table in range(TableRangeFrom,TableRangeTo+1):\n",
    "    for a in range(1,11):\n",
    "        print(f\"{Table} * {a} = {Table*a}\")\n",
    "\n",
    "    #   print(Table)       \n",
    "    \n"
   ]
  },
  {
   "cell_type": "markdown",
   "metadata": {},
   "source": [
    "# Type Casting"
   ]
  },
  {
   "cell_type": "code",
   "execution_count": 37,
   "metadata": {},
   "outputs": [
    {
     "name": "stdout",
     "output_type": "stream",
     "text": [
      "Enter a Number5\n"
     ]
    },
    {
     "data": {
      "text/plain": [
       "int"
      ]
     },
     "execution_count": 37,
     "metadata": {},
     "output_type": "execute_result"
    }
   ],
   "source": [
    "#change in data type\n",
    "\n",
    "a=int(input(\"Enter a Number\"))\n",
    "type(a)\n",
    "\n"
   ]
  },
  {
   "cell_type": "markdown",
   "metadata": {},
   "source": [
    "# Changing Case"
   ]
  },
  {
   "cell_type": "code",
   "execution_count": 41,
   "metadata": {},
   "outputs": [
    {
     "data": {
      "text/plain": [
       "'I AM LEDGEND'"
      ]
     },
     "execution_count": 41,
     "metadata": {},
     "output_type": "execute_result"
    }
   ],
   "source": [
    "Sentence=\"i aM LedgEnd\"\n",
    "\n",
    "#here sentence is a string and it is also treated as an object in OOPL \n",
    "#therefore we perform actions on that object\n",
    "\n",
    "Sentence.upper() \n",
    "\n",
    "#Other functions of a string change-casing str.lower(), str.title() \n",
    "\n"
   ]
  },
  {
   "cell_type": "code",
   "execution_count": 1,
   "metadata": {},
   "outputs": [
    {
     "name": "stdout",
     "output_type": "stream",
     "text": [
      "[2]\n"
     ]
    }
   ],
   "source": []
  },
  {
   "cell_type": "code",
   "execution_count": null,
   "metadata": {},
   "outputs": [],
   "source": []
  }
 ],
 "metadata": {
  "kernelspec": {
   "display_name": "Python 3",
   "language": "python",
   "name": "python3"
  },
  "language_info": {
   "codemirror_mode": {
    "name": "ipython",
    "version": 3
   },
   "file_extension": ".py",
   "mimetype": "text/x-python",
   "name": "python",
   "nbconvert_exporter": "python",
   "pygments_lexer": "ipython3",
   "version": "3.7.6"
  }
 },
 "nbformat": 4,
 "nbformat_minor": 4
}
