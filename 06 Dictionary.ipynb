{
 "cells": [
  {
   "cell_type": "markdown",
   "metadata": {},
   "source": [
    "# Dictionary "
   ]
  },
  {
   "cell_type": "code",
   "execution_count": 1,
   "metadata": {},
   "outputs": [],
   "source": [
    "\n",
    "# Dictionary is a data structure which stores the element in key-pairs, every element of dictionary has a key and value \n",
    "# data type of key can be int, float or str AND data type of value may int, float,str,list,tuple or even another dictionary \n",
    "#we use square brackets to create/define a List , paranthesis for a Tuple and curly brackets for a Dictionary\n",
    "\n"
   ]
  },
  {
   "cell_type": "code",
   "execution_count": 2,
   "metadata": {},
   "outputs": [
    {
     "data": {
      "text/plain": [
       "4"
      ]
     },
     "execution_count": 2,
     "metadata": {},
     "output_type": "execute_result"
    }
   ],
   "source": [
    "MyDict={\"name\":\"NasirHussain\",\"age\":30,\"Gender\":\"M\",\"Gender22\":\"F\"}\n",
    "\n",
    "len(MyDict)"
   ]
  },
  {
   "cell_type": "markdown",
   "metadata": {},
   "source": [
    "# Adding a New Key to an Existing Dictionary\n"
   ]
  },
  {
   "cell_type": "code",
   "execution_count": 3,
   "metadata": {},
   "outputs": [],
   "source": [
    "MyDict[\"email\"]=\"abc@gmail.com\" #\n"
   ]
  },
  {
   "cell_type": "code",
   "execution_count": 4,
   "metadata": {},
   "outputs": [
    {
     "data": {
      "text/plain": [
       "{'name': 'NasirHussain',\n",
       " 'age': 30,\n",
       " 'Gender': 'M',\n",
       " 'Gender22': 'F',\n",
       " 'email': 'abc@gmail.com'}"
      ]
     },
     "execution_count": 4,
     "metadata": {},
     "output_type": "execute_result"
    }
   ],
   "source": [
    "MyDict"
   ]
  },
  {
   "cell_type": "code",
   "execution_count": 5,
   "metadata": {},
   "outputs": [],
   "source": [
    "#Accessing info from a Dictionary\n"
   ]
  },
  {
   "cell_type": "code",
   "execution_count": 6,
   "metadata": {},
   "outputs": [
    {
     "name": "stdout",
     "output_type": "stream",
     "text": [
      "NasirHussain\n"
     ]
    }
   ],
   "source": [
    "print(MyDict[\"name\"])"
   ]
  },
  {
   "cell_type": "markdown",
   "metadata": {},
   "source": [
    "# Overiding Values in Dictionary \n"
   ]
  },
  {
   "cell_type": "code",
   "execution_count": 7,
   "metadata": {},
   "outputs": [
    {
     "name": "stdout",
     "output_type": "stream",
     "text": [
      "Ishtiaq\n"
     ]
    }
   ],
   "source": [
    "MyDict[\"name\"]=\"Ishtiaq\"\n",
    "print(MyDict[\"name\"])"
   ]
  },
  {
   "cell_type": "code",
   "execution_count": 8,
   "metadata": {},
   "outputs": [],
   "source": [
    "#since key \"name\" is already there, so it override the existing value of same key"
   ]
  },
  {
   "cell_type": "code",
   "execution_count": 9,
   "metadata": {},
   "outputs": [
    {
     "data": {
      "text/plain": [
       "{'name': 'Ishtiaq',\n",
       " 'age': 30,\n",
       " 'Gender': 'M',\n",
       " 'Gender22': 'F',\n",
       " 'email': 'abc@gmail.com'}"
      ]
     },
     "execution_count": 9,
     "metadata": {},
     "output_type": "execute_result"
    }
   ],
   "source": [
    "MyDict"
   ]
  },
  {
   "cell_type": "markdown",
   "metadata": {},
   "source": [
    "# Accessing the Value in Dictionary "
   ]
  },
  {
   "cell_type": "code",
   "execution_count": 10,
   "metadata": {},
   "outputs": [
    {
     "data": {
      "text/plain": [
       "'Ishtiaq'"
      ]
     },
     "execution_count": 10,
     "metadata": {},
     "output_type": "execute_result"
    }
   ],
   "source": [
    "MyDict[\"name\"]"
   ]
  },
  {
   "cell_type": "markdown",
   "metadata": {},
   "source": [
    "# Deleting/ Removing Value from Dictionary\n"
   ]
  },
  {
   "cell_type": "code",
   "execution_count": 11,
   "metadata": {},
   "outputs": [
    {
     "data": {
      "text/plain": [
       "{'name': 'Ishtiaq', 'age': 30, 'Gender22': 'F', 'email': 'abc@gmail.com'}"
      ]
     },
     "execution_count": 11,
     "metadata": {},
     "output_type": "execute_result"
    }
   ],
   "source": [
    "del MyDict[\"Gender\"] #the member/element/pair of dictionary will be removed\n",
    "MyDict"
   ]
  },
  {
   "cell_type": "markdown",
   "metadata": {},
   "source": [
    "# Updating a Key Value"
   ]
  },
  {
   "cell_type": "code",
   "execution_count": 12,
   "metadata": {},
   "outputs": [],
   "source": [
    "MyDict [\"email\"]=\"ishtiaqahmedz@yahoo.com\""
   ]
  },
  {
   "cell_type": "code",
   "execution_count": 13,
   "metadata": {},
   "outputs": [
    {
     "data": {
      "text/plain": [
       "{'name': 'Ishtiaq',\n",
       " 'age': 30,\n",
       " 'Gender22': 'F',\n",
       " 'email': 'ishtiaqahmedz@yahoo.com'}"
      ]
     },
     "execution_count": 13,
     "metadata": {},
     "output_type": "execute_result"
    }
   ],
   "source": [
    "MyDict"
   ]
  },
  {
   "cell_type": "code",
   "execution_count": 14,
   "metadata": {},
   "outputs": [
    {
     "data": {
      "text/plain": [
       "{1: 400, 2: 200, 3: 300}"
      ]
     },
     "execution_count": 14,
     "metadata": {},
     "output_type": "execute_result"
    }
   ],
   "source": [
    "NewDict= {1:100,2:200,3:300,1:400} \n",
    "#If two or more keys are given in same dictionary, then the second one will override the first key \n",
    "#it will not generate an error\n",
    "\n",
    "\n",
    "NewDict"
   ]
  },
  {
   "cell_type": "code",
   "execution_count": 15,
   "metadata": {},
   "outputs": [
    {
     "data": {
      "text/plain": [
       "True"
      ]
     },
     "execution_count": 15,
     "metadata": {},
     "output_type": "execute_result"
    }
   ],
   "source": [
    "2 in NewDict #checking if 2 is the key in NewDict\n",
    "\n"
   ]
  },
  {
   "cell_type": "markdown",
   "metadata": {},
   "source": [
    "# Iterating informaiton from Dictionary"
   ]
  },
  {
   "cell_type": "code",
   "execution_count": 16,
   "metadata": {},
   "outputs": [
    {
     "name": "stdout",
     "output_type": "stream",
     "text": [
      "400\n",
      "200\n",
      "300\n"
     ]
    }
   ],
   "source": [
    "for val in NewDict.values():\n",
    "    print(val)\n",
    "    \n",
    "    "
   ]
  },
  {
   "cell_type": "code",
   "execution_count": 17,
   "metadata": {},
   "outputs": [
    {
     "name": "stdout",
     "output_type": "stream",
     "text": [
      "1\n",
      "2\n",
      "3\n"
     ]
    }
   ],
   "source": [
    "for key in NewDict.keys():\n",
    "    print(key)"
   ]
  },
  {
   "cell_type": "code",
   "execution_count": 18,
   "metadata": {},
   "outputs": [
    {
     "name": "stdout",
     "output_type": "stream",
     "text": [
      "1 400\n",
      "2 200\n",
      "3 300\n"
     ]
    }
   ],
   "source": [
    "for keys,val in NewDict.items():\n",
    "    print(keys,val)"
   ]
  },
  {
   "cell_type": "markdown",
   "metadata": {},
   "source": [
    "# Creating List of Dictionaries"
   ]
  },
  {
   "cell_type": "code",
   "execution_count": 19,
   "metadata": {},
   "outputs": [
    {
     "name": "stdout",
     "output_type": "stream",
     "text": [
      "{'Name': 'Ishtiaq', 'age': 42, 'class': 'AI'}\n",
      "{'Name': 'Abdul Samad', 'age': 11, 'class': 'AI'}\n"
     ]
    }
   ],
   "source": [
    "students=[] #list is created\n",
    "students.append({\"Name\":\"Ishtiaq\",\"age\":42,\"class\":\"AI\"})  #a dictionary member is added in the list \"student\"\n",
    "students.append({\"Name\":\"Abdul Samad\",\"age\":11,\"class\":\"AI\"})\n",
    "\n",
    "\n",
    "for student in students:\n",
    "    print(student)\n"
   ]
  },
  {
   "cell_type": "code",
   "execution_count": 20,
   "metadata": {},
   "outputs": [
    {
     "data": {
      "text/plain": [
       "'Ishtiaq'"
      ]
     },
     "execution_count": 20,
     "metadata": {},
     "output_type": "execute_result"
    }
   ],
   "source": [
    "students[0][\"Name\"] #index of the list will act as the name of dictionary , since we didnt give the name to the dictionary"
   ]
  },
  {
   "cell_type": "markdown",
   "metadata": {},
   "source": [
    "# Creating a Dictionary Holding List\n"
   ]
  },
  {
   "cell_type": "code",
   "execution_count": 21,
   "metadata": {},
   "outputs": [],
   "source": [
    "Employees ={\"Name\":[\"Ishtiaq\",\"Yasir\"],\"Children\":[\"Samad\",\"Ammad\",\"Abdullah\"]} #Dictionary \"Employees\" where keys has lists \n"
   ]
  },
  {
   "cell_type": "code",
   "execution_count": 22,
   "metadata": {},
   "outputs": [
    {
     "name": "stdout",
     "output_type": "stream",
     "text": [
      "Ishtiaq   F/O   Ammad\n"
     ]
    }
   ],
   "source": [
    "print(Employees[\"Name\"][0],Employees[\"Children\"][1],sep=\"   F/O   \")"
   ]
  },
  {
   "cell_type": "markdown",
   "metadata": {},
   "source": [
    "# Creating a Dictionary within a Dictionary \n"
   ]
  },
  {
   "cell_type": "code",
   "execution_count": 23,
   "metadata": {},
   "outputs": [],
   "source": [
    "#creation\n",
    "Employees ={\n",
    "    \"2020AI01\":{\"Name\":\"Ishtiaq Ahmed\",\"Class\":\"AI\",\"Cell\":\"0333\"}, \n",
    "    \"2020AI02\":{\"Name\":\"Aadil Quireshi\",\"Class\":\"AI\",\"Cell\":\"0345\"},\n",
    "}\n"
   ]
  },
  {
   "cell_type": "code",
   "execution_count": 28,
   "metadata": {},
   "outputs": [
    {
     "name": "stdout",
     "output_type": "stream",
     "text": [
      "Ishtiaq Ahmed->{'Name': 'Ishtiaq Ahmed', 'Class': 'AI', 'Cell': '0333'}\n"
     ]
    }
   ],
   "source": [
    "#Accessing\n",
    "print (Employees[\"2020AI01\"][\"Name\"],Employees[\"2020AI01\"], sep =\"->\")"
   ]
  },
  {
   "cell_type": "code",
   "execution_count": 27,
   "metadata": {},
   "outputs": [],
   "source": [
    "myD={}"
   ]
  },
  {
   "cell_type": "code",
   "execution_count": 26,
   "metadata": {},
   "outputs": [],
   "source": [
    "del myD\n",
    "            "
   ]
  },
  {
   "cell_type": "code",
   "execution_count": 55,
   "metadata": {},
   "outputs": [
    {
     "name": "stdout",
     "output_type": "stream",
     "text": [
      "{'a': 4, 'b': 2, 3: {'a': [5, 6, 7, 8], 'b': [9, 9, 9]}}\n",
      "[5, 6, 7, 8] ['b'] [9, 9, 9] 4\n",
      "[5, 6, 7, 8] ['b'] [9, 9, 9] 4\n"
     ]
    },
    {
     "data": {
      "text/plain": [
       "66"
      ]
     },
     "execution_count": 55,
     "metadata": {},
     "output_type": "execute_result"
    }
   ],
   "source": [
    "DictZTM={\n",
    "    \n",
    "    'a':[1,2,3,4],\n",
    "    'b':2, 3:{\n",
    "             'a':[5,6,7,8],\n",
    "        \n",
    "             'b':[9,9,9]   \n",
    "            }\n",
    "    ,'a':4\n",
    "        \n",
    "    \n",
    "    \n",
    "    \n",
    "}\n",
    "print(DictZTM)\n",
    "\n",
    "print(DictZTM[3]['a'],['b'],DictZTM[3]['b'],DictZTM['a'])\n",
    "\n",
    "print(DictZTM[3]['a'],['b'],DictZTM[3]['b'],DictZTM['a'])\n",
    "\n",
    "#Note that a in above dictionary is repetitive therefore it is returning the ambigious a\n",
    "\n",
    "DictZTM.get('gg',66) #fetch value of key, and return default - which is specified - if key doesn't exist \n"
   ]
  },
  {
   "cell_type": "code",
   "execution_count": 60,
   "metadata": {},
   "outputs": [],
   "source": [
    "username=dict(name=\"John\", cell=333)\n"
   ]
  },
  {
   "cell_type": "code",
   "execution_count": 66,
   "metadata": {},
   "outputs": [
    {
     "data": {
      "text/plain": [
       "'John'"
      ]
     },
     "execution_count": 66,
     "metadata": {},
     "output_type": "execute_result"
    }
   ],
   "source": [
    "username['name']"
   ]
  },
  {
   "cell_type": "code",
   "execution_count": 74,
   "metadata": {},
   "outputs": [
    {
     "data": {
      "text/plain": [
       "True"
      ]
     },
     "execution_count": 74,
     "metadata": {},
     "output_type": "execute_result"
    }
   ],
   "source": [
    "2 in DictZTM.values()\n"
   ]
  },
  {
   "cell_type": "code",
   "execution_count": 75,
   "metadata": {},
   "outputs": [
    {
     "data": {
      "text/plain": [
       "dict_items([('a', 4), ('b', 2), (3, {'a': [5, 6, 7, 8], 'b': [9, 9, 9]})])"
      ]
     },
     "execution_count": 75,
     "metadata": {},
     "output_type": "execute_result"
    }
   ],
   "source": [
    "DictZTM.items()\n"
   ]
  }
 ],
 "metadata": {
  "kernelspec": {
   "display_name": "Python 3 (ipykernel)",
   "language": "python",
   "name": "python3"
  },
  "language_info": {
   "codemirror_mode": {
    "name": "ipython",
    "version": 3
   },
   "file_extension": ".py",
   "mimetype": "text/x-python",
   "name": "python",
   "nbconvert_exporter": "python",
   "pygments_lexer": "ipython3",
   "version": "3.10.13"
  }
 },
 "nbformat": 4,
 "nbformat_minor": 4
}
