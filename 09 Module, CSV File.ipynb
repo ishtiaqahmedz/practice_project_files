{
 "cells": [
  {
   "cell_type": "markdown",
   "metadata": {},
   "source": [
    "# Modules\n",
    "\n"
   ]
  },
  {
   "cell_type": "code",
   "execution_count": 2,
   "metadata": {},
   "outputs": [],
   "source": [
    "#A module is a file that is used to store functions - this will shorten the main code file\n",
    "#Like Python file extension, Module has extention of .py\n",
    "#We can store functions, class and other things in Module\n",
    "\n"
   ]
  },
  {
   "cell_type": "code",
   "execution_count": null,
   "metadata": {},
   "outputs": [],
   "source": [
    "# %load FirstModule.py  <--- type this code to compile module file, system will put hash tag after module is loaded\n",
    "def Add(a,b):\n",
    "    return a+b\n",
    "\n",
    "def Sub(a,b):\n",
    "    return a-b\n",
    "\n",
    "def Div(a,b):\n",
    "    \n",
    "    return a/b\n",
    "          "
   ]
  },
  {
   "cell_type": "code",
   "execution_count": 5,
   "metadata": {},
   "outputs": [],
   "source": [
    "#now import this module in main Python file"
   ]
  },
  {
   "cell_type": "code",
   "execution_count": 6,
   "metadata": {},
   "outputs": [],
   "source": [
    "import FirstModule as m"
   ]
  },
  {
   "cell_type": "code",
   "execution_count": 8,
   "metadata": {},
   "outputs": [
    {
     "data": {
      "text/plain": [
       "5"
      ]
     },
     "execution_count": 8,
     "metadata": {},
     "output_type": "execute_result"
    }
   ],
   "source": [
    "m.Add (2,3)"
   ]
  },
  {
   "cell_type": "code",
   "execution_count": 9,
   "metadata": {},
   "outputs": [
    {
     "data": {
      "text/plain": [
       "-1"
      ]
     },
     "execution_count": 9,
     "metadata": {},
     "output_type": "execute_result"
    }
   ],
   "source": [
    "m.Sub(2,3)"
   ]
  },
  {
   "cell_type": "code",
   "execution_count": 10,
   "metadata": {},
   "outputs": [
    {
     "data": {
      "text/plain": [
       "0.6666666666666666"
      ]
     },
     "execution_count": 10,
     "metadata": {},
     "output_type": "execute_result"
    }
   ],
   "source": [
    "m.Div(2,3)\n"
   ]
  },
  {
   "cell_type": "markdown",
   "metadata": {},
   "source": [
    "# CSV  FILES"
   ]
  },
  {
   "cell_type": "code",
   "execution_count": 12,
   "metadata": {},
   "outputs": [],
   "source": [
    "#CSV helds for Comma Seperated Values, Excel files can be saved as a CSV file\n",
    "#Each row in Excel file is CSV line - that is header is a CSV line , the related rows are CSV lines \n",
    "#therefore a CSV file can be imagined as a simplified database or Excel file \n",
    "# \",\" is the delimeter that tells where new coulmns of data is started \n"
   ]
  },
  {
   "cell_type": "code",
   "execution_count": 14,
   "metadata": {},
   "outputs": [],
   "source": [
    "#Reading, Writing and Appending in a CSV file"
   ]
  },
  {
   "cell_type": "code",
   "execution_count": 3,
   "metadata": {},
   "outputs": [],
   "source": [
    "import csv"
   ]
  },
  {
   "cell_type": "code",
   "execution_count": 19,
   "metadata": {},
   "outputs": [
    {
     "name": "stdout",
     "output_type": "stream",
     "text": [
      "['year', 'event', 'winner']\n",
      "['1994', 'CWC', 'Pakistan']\n",
      "['1999', 'CWC', 'Sirilanka']\n",
      "['2003', 'CWC', 'India']\n",
      "[]\n"
     ]
    }
   ],
   "source": [
    "#READING A CSV FILE - this CWCWinners.csv file is just created (create text file and then save it with csv extention)\n",
    "\n",
    "with open (\"CWCWinners.csv\") as CSVFile: #Read parament is not given as it is a default parameter\n",
    "    contents = csv.reader(CSVFile)\n",
    "    for content in contents:\n",
    "        print (content)\n",
    "\n"
   ]
  },
  {
   "cell_type": "code",
   "execution_count": 20,
   "metadata": {},
   "outputs": [],
   "source": [
    "#WRITTING A CSV FILE\n",
    "#Like in text file, if you write a pre-existing file then all of it earlier contents will be erased \n"
   ]
  },
  {
   "cell_type": "code",
   "execution_count": 4,
   "metadata": {},
   "outputs": [],
   "source": [
    "with open (\"FIFAWinners.csv\",\"w\",newline=\"\") as file:\n",
    "#this newline parameter determines how the new line will add - here empty means that new line will be created without any space \n",
    "    FileWriter=csv.writer(file)\n",
    "    FileWriter.writerow([\"year\",\"event\",\"winner\"])\n",
    "    FileWriter.writerow([\"2018\",\"FIFAWC\",\"France\"])\n"
   ]
  },
  {
   "cell_type": "code",
   "execution_count": 9,
   "metadata": {},
   "outputs": [],
   "source": [
    "#APPENDING in CSV File\n",
    "\n",
    "with open (\"fiFawinners.csv\",\"a\",newline=\"\") as file: #Filenames are not case sensitive\n",
    "    FileWriter=csv.writer (file)\n",
    "    FileWriter.writerow ([\"2014\",\"FIFAWC\",\"GERMANY\"])\n",
    "    \n",
    "    \n",
    "    "
   ]
  },
  {
   "cell_type": "code",
   "execution_count": null,
   "metadata": {},
   "outputs": [],
   "source": []
  }
 ],
 "metadata": {
  "kernelspec": {
   "display_name": "Python 3 (ipykernel)",
   "language": "python",
   "name": "python3"
  },
  "language_info": {
   "codemirror_mode": {
    "name": "ipython",
    "version": 3
   },
   "file_extension": ".py",
   "mimetype": "text/x-python",
   "name": "python",
   "nbconvert_exporter": "python",
   "pygments_lexer": "ipython3",
   "version": "3.10.13"
  }
 },
 "nbformat": 4,
 "nbformat_minor": 4
}
