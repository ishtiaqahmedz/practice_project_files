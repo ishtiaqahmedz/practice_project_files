{
 "cells": [
  {
   "cell_type": "code",
   "execution_count": 206,
   "id": "5eb6bd2e-6b5c-4ac7-98a1-71d872845a0b",
   "metadata": {},
   "outputs": [],
   "source": [
    " #!pip install pillow --upgrade PIL was not working fine so I had to upgrade it\n",
    "#check this for additional learning\n",
    "\n",
    "#https://www.hackersrealm.net/post/transfer-learning-using-pretrained-model-python"
   ]
  },
  {
   "cell_type": "code",
   "execution_count": 207,
   "id": "80b97b23-3046-4ceb-8bae-5fb03a273f2c",
   "metadata": {},
   "outputs": [],
   "source": [
    "import scipy.io as sio\n",
    "import pandas as pd\n",
    "import numpy as np\n",
    "import matplotlib.pyplot as plt\n",
    "import sklearn\n",
    "import tensorflow as tf\n",
    "from IPython.display import display,Image\n",
    "from keras.models import Sequential\n",
    "from keras.layers import Dense, Conv2D , Conv3D, MaxPool2D , Flatten , Dropout \n",
    "import os\n",
    "from PIL import Image #the capital letter of Image wasted a lot of time - i was wrtting it as image\n",
    "\n",
    "%matplotlib inline\n",
    "\n"
   ]
  },
  {
   "cell_type": "code",
   "execution_count": 208,
   "id": "1dc55934-5ef7-4ccc-af3b-e64b464dd009",
   "metadata": {},
   "outputs": [
    {
     "name": "stdout",
     "output_type": "stream",
     "text": [
      "\n",
      "     active environment : d:\\ai local\\practice_projects\\env\n",
      "    active env location : d:\\ai local\\practice_projects\\env\n",
      "            shell level : 2\n",
      "       user config file : C:\\Users\\Dilawar Khan\\.condarc\n",
      " populated config files : \n",
      "          conda version : 23.5.2\n",
      "    conda-build version : not installed\n",
      "         python version : 3.11.4.final.0\n",
      "       virtual packages : __archspec=1=x86_64\n",
      "                          __win=0=0\n",
      "       base environment : C:\\ProgramData\\miniconda3  (read only)\n",
      "      conda av data dir : C:\\ProgramData\\miniconda3\\etc\\conda\n",
      "  conda av metadata url : None\n",
      "           channel URLs : https://repo.anaconda.com/pkgs/main/win-64\n",
      "                          https://repo.anaconda.com/pkgs/main/noarch\n",
      "                          https://repo.anaconda.com/pkgs/r/win-64\n",
      "                          https://repo.anaconda.com/pkgs/r/noarch\n",
      "                          https://repo.anaconda.com/pkgs/msys2/win-64\n",
      "                          https://repo.anaconda.com/pkgs/msys2/noarch\n",
      "          package cache : C:\\ProgramData\\miniconda3\\pkgs\n",
      "                          C:\\Users\\Dilawar Khan\\.conda\\pkgs\n",
      "                          C:\\Users\\Dilawar Khan\\AppData\\Local\\conda\\conda\\pkgs\n",
      "       envs directories : C:\\Users\\Dilawar Khan\\.conda\\envs\n",
      "                          C:\\ProgramData\\miniconda3\\envs\n",
      "                          C:\\Users\\Dilawar Khan\\AppData\\Local\\conda\\conda\\envs\n",
      "               platform : win-64\n",
      "             user-agent : conda/23.5.2 requests/2.29.0 CPython/3.11.4 Windows/10 Windows/10.0.22000\n",
      "          administrator : False\n",
      "             netrc file : None\n",
      "           offline mode : False\n",
      "\n",
      "\n"
     ]
    }
   ],
   "source": [
    "#!pip install tensorflow\n",
    "#!pip install opencv\n",
    "!conda info"
   ]
  },
  {
   "cell_type": "code",
   "execution_count": 209,
   "id": "1d0f6918-6f9e-43f4-ad6c-aaa16866e4e9",
   "metadata": {},
   "outputs": [
    {
     "name": "stdout",
     "output_type": "stream",
     "text": [
      "Package                      Version\n",
      "---------------------------- ------------\n",
      "absl-py                      2.1.0\n",
      "anyio                        4.2.0\n",
      "argon2-cffi                  21.3.0\n",
      "argon2-cffi-bindings         21.2.0\n",
      "asttokens                    2.0.5\n",
      "astunparse                   1.6.3\n",
      "async-lru                    2.0.4\n",
      "attrs                        23.1.0\n",
      "Babel                        2.11.0\n",
      "beautifulsoup4               4.12.2\n",
      "bleach                       4.1.0\n",
      "Bottleneck                   1.3.7\n",
      "Brotli                       1.0.9\n",
      "certifi                      2024.2.2\n",
      "cffi                         1.16.0\n",
      "charset-normalizer           2.0.4\n",
      "colorama                     0.4.6\n",
      "comm                         0.2.1\n",
      "contourpy                    1.2.0\n",
      "cycler                       0.11.0\n",
      "debugpy                      1.6.7\n",
      "decorator                    5.1.1\n",
      "defusedxml                   0.7.1\n",
      "dm-tree                      0.1.8\n",
      "exceptiongroup               1.2.0\n",
      "executing                    0.8.3\n",
      "fastjsonschema               2.16.2\n",
      "flatbuffers                  24.3.7\n",
      "fonttools                    4.25.0\n",
      "gast                         0.5.4\n",
      "google-pasta                 0.2.0\n",
      "grpcio                       1.62.1\n",
      "h5py                         3.10.0\n",
      "idna                         3.4\n",
      "ipykernel                    6.28.0\n",
      "ipython                      8.20.0\n",
      "ipywidgets                   8.1.2\n",
      "jedi                         0.18.1\n",
      "Jinja2                       3.1.3\n",
      "joblib                       1.2.0\n",
      "json5                        0.9.6\n",
      "jsonschema                   4.19.2\n",
      "jsonschema-specifications    2023.7.1\n",
      "jupyter                      1.0.0\n",
      "jupyter_client               8.6.0\n",
      "jupyter-console              6.6.3\n",
      "jupyter_core                 5.5.0\n",
      "jupyter-events               0.8.0\n",
      "jupyter-lsp                  2.2.0\n",
      "jupyter_server               2.10.0\n",
      "jupyter_server_terminals     0.4.4\n",
      "jupyterlab                   4.0.11\n",
      "jupyterlab-pygments          0.1.2\n",
      "jupyterlab_server            2.25.1\n",
      "jupyterlab-widgets           3.0.10\n",
      "keras                        3.0.5\n",
      "kiwisolver                   1.4.4\n",
      "libclang                     16.0.6\n",
      "Markdown                     3.6\n",
      "markdown-it-py               3.0.0\n",
      "MarkupSafe                   2.1.3\n",
      "matplotlib                   3.8.0\n",
      "matplotlib-inline            0.1.6\n",
      "mdurl                        0.1.2\n",
      "mistune                      2.0.4\n",
      "mkl-fft                      1.3.8\n",
      "mkl-random                   1.2.4\n",
      "mkl-service                  2.4.0\n",
      "ml-dtypes                    0.3.2\n",
      "munkres                      1.1.4\n",
      "namex                        0.0.7\n",
      "nbclient                     0.8.0\n",
      "nbconvert                    7.10.0\n",
      "nbformat                     5.9.2\n",
      "nest-asyncio                 1.6.0\n",
      "notebook                     7.0.8\n",
      "notebook_shim                0.2.3\n",
      "numexpr                      2.8.7\n",
      "numpy                        1.26.4\n",
      "opt-einsum                   3.3.0\n",
      "overrides                    7.4.0\n",
      "packaging                    23.1\n",
      "pandas                       2.2.1\n",
      "pandocfilters                1.5.0\n",
      "parso                        0.8.3\n",
      "pillow                       10.3.0\n",
      "pip                          23.3.1\n",
      "platformdirs                 3.10.0\n",
      "ply                          3.11\n",
      "prometheus-client            0.14.1\n",
      "prompt-toolkit               3.0.43\n",
      "protobuf                     4.25.3\n",
      "psutil                       5.9.0\n",
      "pure-eval                    0.2.2\n",
      "pycparser                    2.21\n",
      "Pygments                     2.15.1\n",
      "pyparsing                    3.0.9\n",
      "PyQt5                        5.15.10\n",
      "PyQt5-sip                    12.13.0\n",
      "PySocks                      1.7.1\n",
      "python-dateutil              2.8.2\n",
      "python-json-logger           2.0.7\n",
      "pytz                         2023.3.post1\n",
      "pywin32                      305.1\n",
      "pywinpty                     2.0.10\n",
      "PyYAML                       6.0.1\n",
      "pyzmq                        25.1.2\n",
      "qtconsole                    5.5.1\n",
      "QtPy                         2.4.1\n",
      "referencing                  0.30.2\n",
      "requests                     2.31.0\n",
      "rfc3339-validator            0.1.4\n",
      "rfc3986-validator            0.1.1\n",
      "rich                         13.7.1\n",
      "rpds-py                      0.10.6\n",
      "scikit-learn                 1.3.0\n",
      "scipy                        1.11.4\n",
      "Send2Trash                   1.8.2\n",
      "setuptools                   68.2.2\n",
      "sip                          6.7.12\n",
      "six                          1.16.0\n",
      "sniffio                      1.3.0\n",
      "soupsieve                    2.5\n",
      "stack-data                   0.2.0\n",
      "tensorboard                  2.16.2\n",
      "tensorboard-data-server      0.7.2\n",
      "tensorflow                   2.16.1\n",
      "tensorflow-intel             2.16.1\n",
      "tensorflow-io-gcs-filesystem 0.31.0\n",
      "termcolor                    2.4.0\n",
      "terminado                    0.17.1\n",
      "threadpoolctl                2.2.0\n",
      "tinycss2                     1.2.1\n",
      "tomli                        2.0.1\n",
      "tornado                      6.3.3\n",
      "traitlets                    5.7.1\n",
      "typing_extensions            4.9.0\n",
      "tzdata                       2023.3\n",
      "urllib3                      2.1.0\n",
      "wcwidth                      0.2.5\n",
      "webencodings                 0.5.1\n",
      "websocket-client             0.58.0\n",
      "Werkzeug                     3.0.1\n",
      "wheel                        0.41.2\n",
      "widgetsnbextension           4.0.10\n",
      "win-inet-pton                1.1.0\n",
      "wrapt                        1.16.0\n"
     ]
    }
   ],
   "source": [
    " !pip list"
   ]
  },
  {
   "cell_type": "code",
   "execution_count": 210,
   "id": "5c427dd4-b188-4ffc-83e1-b6c75da1447d",
   "metadata": {},
   "outputs": [
    {
     "name": "stdout",
     "output_type": "stream",
     "text": [
      "GPU Not Available\n"
     ]
    }
   ],
   "source": [
    "print(\"GPU\",\" avaiable\" if tf.config.list_physical_devices(\"GPU\") else \"Not Available\") \n"
   ]
  },
  {
   "cell_type": "code",
   "execution_count": 211,
   "id": "f51e9d9c-5012-4c07-972c-aca24f683169",
   "metadata": {},
   "outputs": [],
   "source": [
    "\n",
    "octave_data=sio.loadmat('data/ex4data1.mat')"
   ]
  },
  {
   "cell_type": "code",
   "execution_count": 212,
   "id": "5d2b85d0-0251-4c98-ac57-9b75325b5813",
   "metadata": {},
   "outputs": [
    {
     "data": {
      "text/plain": [
       "{'__header__': b'MATLAB 5.0 MAT-file, Platform: GLNXA64, Created on: Sun Oct 16 13:09:09 2011',\n",
       " '__version__': '1.0',\n",
       " '__globals__': [],\n",
       " 'X': array([[0., 0., 0., ..., 0., 0., 0.],\n",
       "        [0., 0., 0., ..., 0., 0., 0.],\n",
       "        [0., 0., 0., ..., 0., 0., 0.],\n",
       "        ...,\n",
       "        [0., 0., 0., ..., 0., 0., 0.],\n",
       "        [0., 0., 0., ..., 0., 0., 0.],\n",
       "        [0., 0., 0., ..., 0., 0., 0.]]),\n",
       " 'y': array([[10],\n",
       "        [10],\n",
       "        [10],\n",
       "        ...,\n",
       "        [ 9],\n",
       "        [ 9],\n",
       "        [ 9]], dtype=uint8)}"
      ]
     },
     "execution_count": 212,
     "metadata": {},
     "output_type": "execute_result"
    }
   ],
   "source": [
    "octave_data"
   ]
  },
  {
   "cell_type": "code",
   "execution_count": 213,
   "id": "a8c1b31e-73b7-4410-a3b9-8a2760d4d680",
   "metadata": {},
   "outputs": [
    {
     "name": "stdout",
     "output_type": "stream",
     "text": [
      "dict_keys(['__header__', '__version__', '__globals__', 'X', 'y'])\n"
     ]
    },
    {
     "data": {
      "text/plain": [
       "(dict, None)"
      ]
     },
     "execution_count": 213,
     "metadata": {},
     "output_type": "execute_result"
    }
   ],
   "source": [
    "type(octave_data),print(octave_data.keys())"
   ]
  },
  {
   "cell_type": "code",
   "execution_count": 214,
   "id": "eea6f755-1f3c-43af-882b-06de8ee085df",
   "metadata": {},
   "outputs": [],
   "source": [
    "del octave_data[\"__header__\"]\n",
    "del octave_data[\"__version__\"]\n",
    "del octave_data[\"__globals__\"]"
   ]
  },
  {
   "cell_type": "code",
   "execution_count": 215,
   "id": "5567a440-574a-4271-8670-36b5b02358a4",
   "metadata": {},
   "outputs": [
    {
     "data": {
      "text/plain": [
       "{'X': array([[0., 0., 0., ..., 0., 0., 0.],\n",
       "        [0., 0., 0., ..., 0., 0., 0.],\n",
       "        [0., 0., 0., ..., 0., 0., 0.],\n",
       "        ...,\n",
       "        [0., 0., 0., ..., 0., 0., 0.],\n",
       "        [0., 0., 0., ..., 0., 0., 0.],\n",
       "        [0., 0., 0., ..., 0., 0., 0.]]),\n",
       " 'y': array([[10],\n",
       "        [10],\n",
       "        [10],\n",
       "        ...,\n",
       "        [ 9],\n",
       "        [ 9],\n",
       "        [ 9]], dtype=uint8)}"
      ]
     },
     "execution_count": 215,
     "metadata": {},
     "output_type": "execute_result"
    }
   ],
   "source": [
    "octave_data"
   ]
  },
  {
   "cell_type": "code",
   "execution_count": 216,
   "id": "1d28bc94-672d-4a52-ac14-541ae8f3440d",
   "metadata": {},
   "outputs": [
    {
     "data": {
      "text/plain": [
       "(5000, 5000)"
      ]
     },
     "execution_count": 216,
     "metadata": {},
     "output_type": "execute_result"
    }
   ],
   "source": [
    "len(octave_data[\"X\"]),len(octave_data[\"y\"])"
   ]
  },
  {
   "cell_type": "code",
   "execution_count": 217,
   "id": "210d4425-85d1-41bd-967b-3cf6e5facd22",
   "metadata": {},
   "outputs": [],
   "source": [
    "#python_data=pd.DataFrame(octave_data)\n",
    "data=np.append(octave_data[\"X\"],octave_data[\"y\"],axis=1)"
   ]
  },
  {
   "cell_type": "code",
   "execution_count": 218,
   "id": "12344fe3-4e1e-440a-8ed5-0511930e8271",
   "metadata": {},
   "outputs": [],
   "source": [
    "python_data=pd.DataFrame(data)"
   ]
  },
  {
   "cell_type": "code",
   "execution_count": 219,
   "id": "5bc4a6a3-797b-4f20-ba22-c91b1ed0b4de",
   "metadata": {},
   "outputs": [],
   "source": [
    "python_data=python_data.sample(frac=1)"
   ]
  },
  {
   "cell_type": "code",
   "execution_count": 220,
   "id": "3bf2eb2c-08c4-4bd0-94a0-e06873db440e",
   "metadata": {},
   "outputs": [
    {
     "data": {
      "text/html": [
       "<div>\n",
       "<style scoped>\n",
       "    .dataframe tbody tr th:only-of-type {\n",
       "        vertical-align: middle;\n",
       "    }\n",
       "\n",
       "    .dataframe tbody tr th {\n",
       "        vertical-align: top;\n",
       "    }\n",
       "\n",
       "    .dataframe thead th {\n",
       "        text-align: right;\n",
       "    }\n",
       "</style>\n",
       "<table border=\"1\" class=\"dataframe\">\n",
       "  <thead>\n",
       "    <tr style=\"text-align: right;\">\n",
       "      <th></th>\n",
       "      <th>0</th>\n",
       "      <th>1</th>\n",
       "      <th>2</th>\n",
       "      <th>3</th>\n",
       "      <th>4</th>\n",
       "      <th>5</th>\n",
       "      <th>6</th>\n",
       "      <th>7</th>\n",
       "      <th>8</th>\n",
       "      <th>9</th>\n",
       "      <th>...</th>\n",
       "      <th>391</th>\n",
       "      <th>392</th>\n",
       "      <th>393</th>\n",
       "      <th>394</th>\n",
       "      <th>395</th>\n",
       "      <th>396</th>\n",
       "      <th>397</th>\n",
       "      <th>398</th>\n",
       "      <th>399</th>\n",
       "      <th>400</th>\n",
       "    </tr>\n",
       "  </thead>\n",
       "  <tbody>\n",
       "    <tr>\n",
       "      <th>2516</th>\n",
       "      <td>0.0</td>\n",
       "      <td>0.0</td>\n",
       "      <td>0.0</td>\n",
       "      <td>0.0</td>\n",
       "      <td>0.0</td>\n",
       "      <td>0.0</td>\n",
       "      <td>0.0</td>\n",
       "      <td>0.0</td>\n",
       "      <td>0.0</td>\n",
       "      <td>0.0</td>\n",
       "      <td>...</td>\n",
       "      <td>0.0</td>\n",
       "      <td>0.0</td>\n",
       "      <td>0.0</td>\n",
       "      <td>0.0</td>\n",
       "      <td>0.0</td>\n",
       "      <td>0.0</td>\n",
       "      <td>0.0</td>\n",
       "      <td>0.0</td>\n",
       "      <td>0.0</td>\n",
       "      <td>5.0</td>\n",
       "    </tr>\n",
       "    <tr>\n",
       "      <th>620</th>\n",
       "      <td>0.0</td>\n",
       "      <td>0.0</td>\n",
       "      <td>0.0</td>\n",
       "      <td>0.0</td>\n",
       "      <td>0.0</td>\n",
       "      <td>0.0</td>\n",
       "      <td>0.0</td>\n",
       "      <td>0.0</td>\n",
       "      <td>0.0</td>\n",
       "      <td>0.0</td>\n",
       "      <td>...</td>\n",
       "      <td>0.0</td>\n",
       "      <td>0.0</td>\n",
       "      <td>0.0</td>\n",
       "      <td>0.0</td>\n",
       "      <td>0.0</td>\n",
       "      <td>0.0</td>\n",
       "      <td>0.0</td>\n",
       "      <td>0.0</td>\n",
       "      <td>0.0</td>\n",
       "      <td>1.0</td>\n",
       "    </tr>\n",
       "    <tr>\n",
       "      <th>4563</th>\n",
       "      <td>0.0</td>\n",
       "      <td>0.0</td>\n",
       "      <td>0.0</td>\n",
       "      <td>0.0</td>\n",
       "      <td>0.0</td>\n",
       "      <td>0.0</td>\n",
       "      <td>0.0</td>\n",
       "      <td>0.0</td>\n",
       "      <td>0.0</td>\n",
       "      <td>0.0</td>\n",
       "      <td>...</td>\n",
       "      <td>0.0</td>\n",
       "      <td>0.0</td>\n",
       "      <td>0.0</td>\n",
       "      <td>0.0</td>\n",
       "      <td>0.0</td>\n",
       "      <td>0.0</td>\n",
       "      <td>0.0</td>\n",
       "      <td>0.0</td>\n",
       "      <td>0.0</td>\n",
       "      <td>9.0</td>\n",
       "    </tr>\n",
       "    <tr>\n",
       "      <th>502</th>\n",
       "      <td>0.0</td>\n",
       "      <td>0.0</td>\n",
       "      <td>0.0</td>\n",
       "      <td>0.0</td>\n",
       "      <td>0.0</td>\n",
       "      <td>0.0</td>\n",
       "      <td>0.0</td>\n",
       "      <td>0.0</td>\n",
       "      <td>0.0</td>\n",
       "      <td>0.0</td>\n",
       "      <td>...</td>\n",
       "      <td>0.0</td>\n",
       "      <td>0.0</td>\n",
       "      <td>0.0</td>\n",
       "      <td>0.0</td>\n",
       "      <td>0.0</td>\n",
       "      <td>0.0</td>\n",
       "      <td>0.0</td>\n",
       "      <td>0.0</td>\n",
       "      <td>0.0</td>\n",
       "      <td>1.0</td>\n",
       "    </tr>\n",
       "    <tr>\n",
       "      <th>533</th>\n",
       "      <td>0.0</td>\n",
       "      <td>0.0</td>\n",
       "      <td>0.0</td>\n",
       "      <td>0.0</td>\n",
       "      <td>0.0</td>\n",
       "      <td>0.0</td>\n",
       "      <td>0.0</td>\n",
       "      <td>0.0</td>\n",
       "      <td>0.0</td>\n",
       "      <td>0.0</td>\n",
       "      <td>...</td>\n",
       "      <td>0.0</td>\n",
       "      <td>0.0</td>\n",
       "      <td>0.0</td>\n",
       "      <td>0.0</td>\n",
       "      <td>0.0</td>\n",
       "      <td>0.0</td>\n",
       "      <td>0.0</td>\n",
       "      <td>0.0</td>\n",
       "      <td>0.0</td>\n",
       "      <td>1.0</td>\n",
       "    </tr>\n",
       "  </tbody>\n",
       "</table>\n",
       "<p>5 rows × 401 columns</p>\n",
       "</div>"
      ],
      "text/plain": [
       "      0    1    2    3    4    5    6    7    8    9    ...  391  392  393  \\\n",
       "2516  0.0  0.0  0.0  0.0  0.0  0.0  0.0  0.0  0.0  0.0  ...  0.0  0.0  0.0   \n",
       "620   0.0  0.0  0.0  0.0  0.0  0.0  0.0  0.0  0.0  0.0  ...  0.0  0.0  0.0   \n",
       "4563  0.0  0.0  0.0  0.0  0.0  0.0  0.0  0.0  0.0  0.0  ...  0.0  0.0  0.0   \n",
       "502   0.0  0.0  0.0  0.0  0.0  0.0  0.0  0.0  0.0  0.0  ...  0.0  0.0  0.0   \n",
       "533   0.0  0.0  0.0  0.0  0.0  0.0  0.0  0.0  0.0  0.0  ...  0.0  0.0  0.0   \n",
       "\n",
       "      394  395  396  397  398  399  400  \n",
       "2516  0.0  0.0  0.0  0.0  0.0  0.0  5.0  \n",
       "620   0.0  0.0  0.0  0.0  0.0  0.0  1.0  \n",
       "4563  0.0  0.0  0.0  0.0  0.0  0.0  9.0  \n",
       "502   0.0  0.0  0.0  0.0  0.0  0.0  1.0  \n",
       "533   0.0  0.0  0.0  0.0  0.0  0.0  1.0  \n",
       "\n",
       "[5 rows x 401 columns]"
      ]
     },
     "execution_count": 220,
     "metadata": {},
     "output_type": "execute_result"
    }
   ],
   "source": [
    "python_data.head()"
   ]
  },
  {
   "cell_type": "code",
   "execution_count": 221,
   "id": "8a2df2c6-0151-40e8-9067-963a3414b11e",
   "metadata": {},
   "outputs": [],
   "source": [
    "X=python_data.drop(columns=400,axis=1)"
   ]
  },
  {
   "cell_type": "code",
   "execution_count": 222,
   "id": "e921d26b-1c79-42f3-a24b-f198cccc85ef",
   "metadata": {},
   "outputs": [
    {
     "data": {
      "text/plain": [
       "(pandas.core.frame.DataFrame,\n",
       "       0    1    2    3    4    5    6    7    8    9    ...  390  391  392  \\\n",
       " 2516  0.0  0.0  0.0  0.0  0.0  0.0  0.0  0.0  0.0  0.0  ...  0.0  0.0  0.0   \n",
       " 620   0.0  0.0  0.0  0.0  0.0  0.0  0.0  0.0  0.0  0.0  ...  0.0  0.0  0.0   \n",
       " 4563  0.0  0.0  0.0  0.0  0.0  0.0  0.0  0.0  0.0  0.0  ...  0.0  0.0  0.0   \n",
       " 502   0.0  0.0  0.0  0.0  0.0  0.0  0.0  0.0  0.0  0.0  ...  0.0  0.0  0.0   \n",
       " 533   0.0  0.0  0.0  0.0  0.0  0.0  0.0  0.0  0.0  0.0  ...  0.0  0.0  0.0   \n",
       " \n",
       "       393  394  395  396  397  398  399  \n",
       " 2516  0.0  0.0  0.0  0.0  0.0  0.0  0.0  \n",
       " 620   0.0  0.0  0.0  0.0  0.0  0.0  0.0  \n",
       " 4563  0.0  0.0  0.0  0.0  0.0  0.0  0.0  \n",
       " 502   0.0  0.0  0.0  0.0  0.0  0.0  0.0  \n",
       " 533   0.0  0.0  0.0  0.0  0.0  0.0  0.0  \n",
       " \n",
       " [5 rows x 400 columns])"
      ]
     },
     "execution_count": 222,
     "metadata": {},
     "output_type": "execute_result"
    }
   ],
   "source": [
    "\n",
    "type(X),X.head()"
   ]
  },
  {
   "cell_type": "code",
   "execution_count": 223,
   "id": "f063a5a7-1d63-4a6c-8597-186c94624f14",
   "metadata": {},
   "outputs": [],
   "source": [
    "y=pd.DataFrame(python_data[400]) \n",
    "#Ptyhon_data[400] returned series, so this line of code converted series into a dataframe"
   ]
  },
  {
   "cell_type": "code",
   "execution_count": 224,
   "id": "6bd9a144-7f5a-481b-972a-b2c8e1cbc1e5",
   "metadata": {},
   "outputs": [
    {
     "data": {
      "text/plain": [
       "(pandas.core.frame.DataFrame,\n",
       "       400\n",
       " 2516  5.0\n",
       " 620   1.0\n",
       " 4563  9.0\n",
       " 502   1.0\n",
       " 533   1.0)"
      ]
     },
     "execution_count": 224,
     "metadata": {},
     "output_type": "execute_result"
    }
   ],
   "source": [
    "type(y),y.head()\n"
   ]
  },
  {
   "cell_type": "code",
   "execution_count": 225,
   "id": "714c48f5-df5c-47b0-a906-c426609e23af",
   "metadata": {},
   "outputs": [
    {
     "data": {
      "text/html": [
       "<div>\n",
       "<style scoped>\n",
       "    .dataframe tbody tr th:only-of-type {\n",
       "        vertical-align: middle;\n",
       "    }\n",
       "\n",
       "    .dataframe tbody tr th {\n",
       "        vertical-align: top;\n",
       "    }\n",
       "\n",
       "    .dataframe thead th {\n",
       "        text-align: right;\n",
       "    }\n",
       "</style>\n",
       "<table border=\"1\" class=\"dataframe\">\n",
       "  <thead>\n",
       "    <tr style=\"text-align: right;\">\n",
       "      <th></th>\n",
       "      <th>400</th>\n",
       "    </tr>\n",
       "  </thead>\n",
       "  <tbody>\n",
       "    <tr>\n",
       "      <th>2516</th>\n",
       "      <td>5.0</td>\n",
       "    </tr>\n",
       "    <tr>\n",
       "      <th>620</th>\n",
       "      <td>1.0</td>\n",
       "    </tr>\n",
       "    <tr>\n",
       "      <th>4563</th>\n",
       "      <td>9.0</td>\n",
       "    </tr>\n",
       "    <tr>\n",
       "      <th>502</th>\n",
       "      <td>1.0</td>\n",
       "    </tr>\n",
       "    <tr>\n",
       "      <th>533</th>\n",
       "      <td>1.0</td>\n",
       "    </tr>\n",
       "  </tbody>\n",
       "</table>\n",
       "</div>"
      ],
      "text/plain": [
       "      400\n",
       "2516  5.0\n",
       "620   1.0\n",
       "4563  9.0\n",
       "502   1.0\n",
       "533   1.0"
      ]
     },
     "execution_count": 225,
     "metadata": {},
     "output_type": "execute_result"
    }
   ],
   "source": [
    "y.head() #column name is 400 (numeric)"
   ]
  },
  {
   "cell_type": "code",
   "execution_count": 226,
   "id": "73133fb3-d357-4614-a08c-a76ce2fca86a",
   "metadata": {},
   "outputs": [],
   "source": [
    "y.rename(columns = {400:'labels'}, inplace = True) #change the numeric 400 name into labels\n"
   ]
  },
  {
   "cell_type": "code",
   "execution_count": 227,
   "id": "71cd1291-9a72-4b85-a2b6-5f5cfd0609b8",
   "metadata": {},
   "outputs": [
    {
     "data": {
      "text/html": [
       "<div>\n",
       "<style scoped>\n",
       "    .dataframe tbody tr th:only-of-type {\n",
       "        vertical-align: middle;\n",
       "    }\n",
       "\n",
       "    .dataframe tbody tr th {\n",
       "        vertical-align: top;\n",
       "    }\n",
       "\n",
       "    .dataframe thead th {\n",
       "        text-align: right;\n",
       "    }\n",
       "</style>\n",
       "<table border=\"1\" class=\"dataframe\">\n",
       "  <thead>\n",
       "    <tr style=\"text-align: right;\">\n",
       "      <th></th>\n",
       "      <th>labels</th>\n",
       "    </tr>\n",
       "  </thead>\n",
       "  <tbody>\n",
       "    <tr>\n",
       "      <th>2516</th>\n",
       "      <td>5.0</td>\n",
       "    </tr>\n",
       "    <tr>\n",
       "      <th>620</th>\n",
       "      <td>1.0</td>\n",
       "    </tr>\n",
       "    <tr>\n",
       "      <th>4563</th>\n",
       "      <td>9.0</td>\n",
       "    </tr>\n",
       "    <tr>\n",
       "      <th>502</th>\n",
       "      <td>1.0</td>\n",
       "    </tr>\n",
       "    <tr>\n",
       "      <th>533</th>\n",
       "      <td>1.0</td>\n",
       "    </tr>\n",
       "  </tbody>\n",
       "</table>\n",
       "</div>"
      ],
      "text/plain": [
       "      labels\n",
       "2516     5.0\n",
       "620      1.0\n",
       "4563     9.0\n",
       "502      1.0\n",
       "533      1.0"
      ]
     },
     "execution_count": 227,
     "metadata": {},
     "output_type": "execute_result"
    }
   ],
   "source": [
    "y.head()"
   ]
  },
  {
   "cell_type": "code",
   "execution_count": 228,
   "id": "83feff85-e6ee-4bab-81d8-b72e61fe9cfe",
   "metadata": {},
   "outputs": [],
   "source": [
    "#replacing the values of 10 as 0 , as the data is Matlab/ Octave compliant so they had to replace 0 as 10 \n",
    "#y[\"labels\"].replace(10,0,inplace=True) \n",
    "\n",
    "#the above code thrown a future warning that it will not work in Pandas 3.0, therefore below code is replaced with it\n",
    "\n",
    "y=y.replace(to_replace=10,value=0)"
   ]
  },
  {
   "cell_type": "code",
   "execution_count": 229,
   "id": "15107042-b039-4a11-871a-f1757a91b89c",
   "metadata": {},
   "outputs": [
    {
     "data": {
      "text/html": [
       "<div>\n",
       "<style scoped>\n",
       "    .dataframe tbody tr th:only-of-type {\n",
       "        vertical-align: middle;\n",
       "    }\n",
       "\n",
       "    .dataframe tbody tr th {\n",
       "        vertical-align: top;\n",
       "    }\n",
       "\n",
       "    .dataframe thead th {\n",
       "        text-align: right;\n",
       "    }\n",
       "</style>\n",
       "<table border=\"1\" class=\"dataframe\">\n",
       "  <thead>\n",
       "    <tr style=\"text-align: right;\">\n",
       "      <th></th>\n",
       "      <th>labels</th>\n",
       "    </tr>\n",
       "  </thead>\n",
       "  <tbody>\n",
       "    <tr>\n",
       "      <th>2516</th>\n",
       "      <td>5.0</td>\n",
       "    </tr>\n",
       "    <tr>\n",
       "      <th>620</th>\n",
       "      <td>1.0</td>\n",
       "    </tr>\n",
       "    <tr>\n",
       "      <th>4563</th>\n",
       "      <td>9.0</td>\n",
       "    </tr>\n",
       "    <tr>\n",
       "      <th>502</th>\n",
       "      <td>1.0</td>\n",
       "    </tr>\n",
       "    <tr>\n",
       "      <th>533</th>\n",
       "      <td>1.0</td>\n",
       "    </tr>\n",
       "  </tbody>\n",
       "</table>\n",
       "</div>"
      ],
      "text/plain": [
       "      labels\n",
       "2516     5.0\n",
       "620      1.0\n",
       "4563     9.0\n",
       "502      1.0\n",
       "533      1.0"
      ]
     },
     "execution_count": 229,
     "metadata": {},
     "output_type": "execute_result"
    }
   ],
   "source": [
    "y.head()"
   ]
  },
  {
   "cell_type": "code",
   "execution_count": 230,
   "id": "95f13dc3-519e-4db1-a139-bf7c2776e032",
   "metadata": {},
   "outputs": [
    {
     "data": {
      "text/plain": [
       "numpy.ndarray"
      ]
     },
     "execution_count": 230,
     "metadata": {},
     "output_type": "execute_result"
    }
   ],
   "source": [
    "#finding unique labels \n",
    "\n",
    "unique_labels=np.unique(y[\"labels\"])\n",
    "type(unique_labels)"
   ]
  },
  {
   "cell_type": "code",
   "execution_count": 231,
   "id": "e4883efc-df31-4b06-aa64-9530dc728ace",
   "metadata": {},
   "outputs": [],
   "source": [
    "boolean_labels2=[np.array(unique_labels)==label for label in y[\"labels\"]]\n",
    "\n"
   ]
  },
  {
   "cell_type": "code",
   "execution_count": 232,
   "id": "b4bdafde-bf3a-43c1-bb8a-561ee8384749",
   "metadata": {},
   "outputs": [
    {
     "data": {
      "text/plain": [
       "list"
      ]
     },
     "execution_count": 232,
     "metadata": {},
     "output_type": "execute_result"
    }
   ],
   "source": [
    "type(boolean_labels2)"
   ]
  },
  {
   "cell_type": "code",
   "execution_count": 233,
   "id": "964b18f8-e6e8-4957-8716-5d19ae95d26d",
   "metadata": {},
   "outputs": [
    {
     "data": {
      "text/plain": [
       "list"
      ]
     },
     "execution_count": 233,
     "metadata": {},
     "output_type": "execute_result"
    }
   ],
   "source": [
    "#boolean_labels=[label==np.array(unique_labels) for label in labels]\n",
    "\n",
    "#this can also be achieved with below code:\n",
    "cnt=0\n",
    "boolean_labels=[]\n",
    "\n",
    "for label in y[\"labels\"]:\n",
    "    boolean_label=(label==unique_labels)\n",
    "    \n",
    "    boolean_labels.append(boolean_label)\n",
    "    \n",
    "type(boolean_labels)"
   ]
  },
  {
   "cell_type": "code",
   "execution_count": 234,
   "id": "5aae829e-381e-4cd7-b6af-c8bc64d59369",
   "metadata": {},
   "outputs": [
    {
     "data": {
      "text/plain": [
       "array([], dtype=bool)"
      ]
     },
     "execution_count": 234,
     "metadata": {},
     "output_type": "execute_result"
    }
   ],
   "source": [
    "#both of the above functions are bringing the same result \n",
    "\n",
    "np.setdiff1d(np.array(boolean_labels), np.array((boolean_labels2)))"
   ]
  },
  {
   "cell_type": "code",
   "execution_count": 235,
   "id": "b179d866-69f1-45cd-94b2-34285775b3f5",
   "metadata": {},
   "outputs": [
    {
     "data": {
      "text/plain": [
       "[array([False, False, False, False, False,  True, False, False, False,\n",
       "        False]),\n",
       " array([False,  True, False, False, False, False, False, False, False,\n",
       "        False])]"
      ]
     },
     "execution_count": 235,
     "metadata": {},
     "output_type": "execute_result"
    }
   ],
   "source": [
    "boolean_labels[0:2]"
   ]
  },
  {
   "cell_type": "code",
   "execution_count": 236,
   "id": "d5a96913-8b71-405f-b84a-aeb3a87cf4c7",
   "metadata": {},
   "outputs": [
    {
     "name": "stdout",
     "output_type": "stream",
     "text": [
      "4.0\n",
      "(array([4], dtype=int64),)\n",
      "4\n",
      "7\n",
      "[0 0 0 0 0 0 0 1 0 0]\n"
     ]
    }
   ],
   "source": [
    "#convert booleans in to numbers for machine learning models\n",
    "\n",
    "print(y[\"labels\"][2000])\n",
    "\n",
    "print(np.where(unique_labels==y[\"labels\"][2000]))\n",
    "print(np.where(unique_labels==y[\"labels\"][2000])[0][0]) #transacted the above results to number 9 only\n",
    "print(boolean_labels[2000].argmax())\n",
    "print(boolean_labels[2000].astype(int))\n"
   ]
  },
  {
   "cell_type": "code",
   "execution_count": 237,
   "id": "629c4778-f41d-43c9-9ccf-687917ae6494",
   "metadata": {},
   "outputs": [],
   "source": [
    "X=X.to_numpy()\n"
   ]
  },
  {
   "cell_type": "code",
   "execution_count": 238,
   "id": "fb938ac6-552a-411e-a15c-90fea7241f4f",
   "metadata": {},
   "outputs": [
    {
     "data": {
      "text/plain": [
       "2"
      ]
     },
     "execution_count": 238,
     "metadata": {},
     "output_type": "execute_result"
    }
   ],
   "source": [
    "X.ndim"
   ]
  },
  {
   "cell_type": "code",
   "execution_count": 239,
   "id": "f332b1a5-2017-4fae-ac41-c4e3f4aa27a0",
   "metadata": {},
   "outputs": [
    {
     "data": {
      "text/plain": [
       "(5000, 400)"
      ]
     },
     "execution_count": 239,
     "metadata": {},
     "output_type": "execute_result"
    }
   ],
   "source": [
    "X.shape"
   ]
  },
  {
   "cell_type": "markdown",
   "id": "8819995d-3b3f-42a3-8044-a522720cf9e5",
   "metadata": {},
   "source": [
    "FROM HERE I WAS STUCK ABOUT HOW TO CONVERT OCTAVE BASED IMAGE DATA IN THE SHAPE WHICH IS ACCEPTABLE TO PYTHON AS PYTHON WAS SHOWING THE INVERTED IMAGE.\n",
    "I TRIED TRANPOSING WHCIH WORKED FINE FOR VIEWING AN IMAGE BUT IT DIDN'T WORK FINE(OR I WAS NOT ABLE TO DO IT ) TO CORRECT THE RAW OCTAVE DATA BY USING SOME COMMAND\n",
    "\n",
    "\n",
    "SO I DECIDED TO CONVERT OCTAVE MATRIX DATA IN NUMPY ARRAY IMAGE DATA BY CONVERTING RAW DATA USING ARRAYS... FOLLWING IS THE WORKING I DID"
   ]
  },
  {
   "cell_type": "code",
   "execution_count": 240,
   "id": "71d52696-4b83-4618-a5e3-0e53ddb82167",
   "metadata": {},
   "outputs": [],
   "source": [
    "A=np.array(X[4900:4901]) #.reshape(20,20))"
   ]
  },
  {
   "cell_type": "code",
   "execution_count": 241,
   "id": "c7ca45ab-81cd-46e2-a2d3-d92bb299156d",
   "metadata": {},
   "outputs": [],
   "source": [
    "A=A.reshape(20,20)\n"
   ]
  },
  {
   "cell_type": "code",
   "execution_count": 242,
   "id": "99a4bc3a-82f1-4a84-9e65-2dcd460b8368",
   "metadata": {},
   "outputs": [],
   "source": [
    "\n",
    "import csv\n",
    "with open (\"Variables.csv\",\"w\",newline=\"\") as file:\n",
    "    FileWriter=csv.writer(file)\n",
    "    FileWriter.writerow(A)\n",
    "    \n",
    "\n"
   ]
  },
  {
   "cell_type": "code",
   "execution_count": 243,
   "id": "82832d98-1ee2-475d-a9a7-1ac17a90fbaa",
   "metadata": {},
   "outputs": [],
   "source": [
    "df=pd.DataFrame(A)\n",
    "df.to_csv(r\"d:\\A_variable.csv\",index=False)"
   ]
  },
  {
   "cell_type": "code",
   "execution_count": 244,
   "id": "aa7cb52f-2c8a-4a7a-8f29-6fe9d8274c48",
   "metadata": {},
   "outputs": [
    {
     "data": {
      "text/plain": [
       "(20, 20)"
      ]
     },
     "execution_count": 244,
     "metadata": {},
     "output_type": "execute_result"
    }
   ],
   "source": [
    "A.T.shape"
   ]
  },
  {
   "cell_type": "code",
   "execution_count": 245,
   "id": "96a05460-640f-401a-816f-34a1e52fdb86",
   "metadata": {},
   "outputs": [
    {
     "data": {
      "image/png": "[encoded data removed]",
      "text/plain": [
       "<Figure size 50x50 with 1 Axes>"
      ]
     },
     "metadata": {},
     "output_type": "display_data"
    }
   ],
   "source": [
    "\n",
    "plt.figure(figsize=(.5,.5))\n",
    "plt.imshow(A.T,interpolation='nearest',cmap='gray')\n",
    "plt.show()"
   ]
  },
  {
   "cell_type": "code",
   "execution_count": 246,
   "id": "3902c239-7a6a-45d4-a766-87790715e153",
   "metadata": {},
   "outputs": [
    {
     "data": {
      "text/plain": [
       "((5000, 400), 2, numpy.ndarray)"
      ]
     },
     "execution_count": 246,
     "metadata": {},
     "output_type": "execute_result"
    }
   ],
   "source": [
    "X.shape,   X.ndim, type(X)"
   ]
  },
  {
   "cell_type": "code",
   "execution_count": 247,
   "id": "1cae1611-6efc-4748-8138-b815f9a1e2ef",
   "metadata": {},
   "outputs": [
    {
     "name": "stdout",
     "output_type": "stream",
     "text": [
      "initial_array\n",
      " :  [[ 1  2  3]\n",
      " [45  4  7]\n",
      " [ 9  6 10]]\n",
      "resultant array\n",
      " [[ 1  2  3]\n",
      " [45  4  7]\n",
      " [ 9  6 10]\n",
      " [ 1  2  3]]\n"
     ]
    }
   ],
   "source": [
    "\n",
    "ini_array = np.array([[1, 2, 3], [45, 4, 7], [9, 6, 10]])\n",
    "\n",
    "# printing initial array\n",
    "print(\"initial_array\\n : \", str(ini_array));\n",
    "\n",
    "# Array to be added as row\n",
    "row_to_be_added = np.array([1, 2, 3])\n",
    "\n",
    "# Adding row to numpy array\n",
    "result = np.r_[ini_array,[row_to_be_added]]\n",
    "\n",
    "# printing result\n",
    "print (\"resultant array\\n\", str(result))\n"
   ]
  },
  {
   "cell_type": "code",
   "execution_count": 248,
   "id": "591cab3e-92da-403c-8d58-27c40e74c8f6",
   "metadata": {},
   "outputs": [
    {
     "data": {
      "text/plain": [
       "(4, 3)"
      ]
     },
     "execution_count": 248,
     "metadata": {},
     "output_type": "execute_result"
    }
   ],
   "source": [
    "result.shape"
   ]
  },
  {
   "cell_type": "markdown",
   "id": "c95dab45-82db-40c3-8058-2d76b5f15f11",
   "metadata": {},
   "source": [
    "## NOW TUNRING BACK TO THE ORIGINAL PROJECT AS I FOUND A WAY TO MANIIPUTLTE THE ARRAYS THE WAY I WANT TO \n"
   ]
  },
  {
   "cell_type": "code",
   "execution_count": 249,
   "id": "b81f3a76-30c1-4064-928d-69273ea542eb",
   "metadata": {},
   "outputs": [],
   "source": [
    "X_py=np.array([\n",
    "             np.zeros((20,20))  \n",
    "            ])"
   ]
  },
  {
   "cell_type": "code",
   "execution_count": 250,
   "id": "e81e472c-bb3a-4a19-96ba-a7e5278ae269",
   "metadata": {},
   "outputs": [
    {
     "data": {
      "text/plain": [
       "(1, 20, 20)"
      ]
     },
     "execution_count": 250,
     "metadata": {},
     "output_type": "execute_result"
    }
   ],
   "source": [
    "X_py.shape#,len(X_py),X.shape, len(X),X[0].shape"
   ]
  },
  {
   "cell_type": "code",
   "execution_count": 251,
   "id": "4f19f2a7-4544-440e-b18c-20d029511add",
   "metadata": {},
   "outputs": [],
   "source": [
    "#x = np.insert(x,len(x),[add],axis= 0)\n",
    "\n",
    "for i in np.arange(len(X)):\n",
    "    #print(\"Before Insertion\",len(X_py))  # a created array has len=1 by default\n",
    "\n",
    "    \n",
    "    X_py=np.insert(X_py,(len(X_py)-1),[X[i].reshape(20,20).T],axis=0)#this transpose thing was discovered accidently, it worked!\n",
    "    #print(\"After Insertion\",len(X_py)) # first addition will make the length of array = 2    "
   ]
  },
  {
   "cell_type": "code",
   "execution_count": 252,
   "id": "c307aafa-9aba-45f0-b5b5-cadee083744a",
   "metadata": {},
   "outputs": [
    {
     "data": {
      "text/plain": [
       "(5001, 20, 20)"
      ]
     },
     "execution_count": 252,
     "metadata": {},
     "output_type": "execute_result"
    }
   ],
   "source": [
    "X_py.shape"
   ]
  },
  {
   "cell_type": "code",
   "execution_count": 253,
   "id": "76d033e2-c3bf-4715-abe6-ba9ed1ee0de9",
   "metadata": {},
   "outputs": [],
   "source": [
    "X_py=np.delete(X_py,(5000),axis=0) # the default entry of the X_py array was pushed to the end (index=5000) which is deleted\n",
    "                                    #so the shape of X_py and y can be matched"
   ]
  },
  {
   "cell_type": "code",
   "execution_count": 254,
   "id": "7cb91c8f-c9fc-4abd-857d-d9c76847e5c0",
   "metadata": {},
   "outputs": [
    {
     "data": {
      "text/plain": [
       "(5000, 20, 20)"
      ]
     },
     "execution_count": 254,
     "metadata": {},
     "output_type": "execute_result"
    }
   ],
   "source": [
    "\n",
    "X_py.shape\n"
   ]
  },
  {
   "cell_type": "code",
   "execution_count": 255,
   "id": "3cbd0fcf-7fe7-4634-a634-79582ea3c1a0",
   "metadata": {},
   "outputs": [],
   "source": [
    "def show_20_digits(digits, labels,minsit=False):\n",
    "    plt.figure(figsize=(10,10))\n",
    "\n",
    "    \n",
    "    img_list=np.arange(0,len(digits),(np.round(len(digits)/20).astype(int)))\n",
    "    cnt=1\n",
    "    \n",
    "    for i in img_list:\n",
    "        ax=plt.subplot(10,10,cnt)\n",
    "        plt.imshow(digits[i],cmap=\"gray\")\n",
    "        if minsit:\n",
    "            plt.title(labels[i])\n",
    "        else:\n",
    "            plt.title(unique_labels[labels[i].argmax()])\n",
    "        cnt+=1\n",
    "            \n",
    "        plt.tight_layout()\n",
    "        plt.axis(\"off\")\n",
    "        "
   ]
  },
  {
   "cell_type": "code",
   "execution_count": 256,
   "id": "edf397e2-8ee5-4e13-a212-26c70915efde",
   "metadata": {},
   "outputs": [
    {
     "data": {
      "text/plain": [
       "[array([False, False, False, False, False,  True, False, False, False,\n",
       "        False])]"
      ]
     },
     "execution_count": 256,
     "metadata": {},
     "output_type": "execute_result"
    }
   ],
   "source": [
    "boolean_labels[0:1]"
   ]
  },
  {
   "cell_type": "code",
   "execution_count": 257,
   "id": "97c99a17-560e-4a02-b64a-7f17df53294d",
   "metadata": {},
   "outputs": [
    {
     "data": {
      "image/png": "[encoded data removed]",
      "text/plain": [
       "<Figure size 1000x1000 with 20 Axes>"
      ]
     },
     "metadata": {},
     "output_type": "display_data"
    }
   ],
   "source": [
    "show_20_digits(X_py,boolean_labels)\n"
   ]
  },
  {
   "cell_type": "code",
   "execution_count": 258,
   "id": "75a3cd28-1040-4039-9268-efbb04bb610e",
   "metadata": {},
   "outputs": [],
   "source": [
    "num_digits=5000 #@param {type:\"slider\",min:1000,max:5000,step:1000}\n"
   ]
  },
  {
   "cell_type": "code",
   "execution_count": 259,
   "id": "1217c5ea-7e9a-4e53-b13b-91d2fb6ca579",
   "metadata": {},
   "outputs": [
    {
     "data": {
      "text/plain": [
       "(3000, 2000, 3000, 2000, (3000, 20, 20), (2000, 20, 20), 2000)"
      ]
     },
     "execution_count": 259,
     "metadata": {},
     "output_type": "execute_result"
    }
   ],
   "source": [
    "#spliting the data into train, valid, test using Scikit learn function\n",
    "\n",
    "from sklearn.model_selection import train_test_split\n",
    "\n",
    "X_train,X_val_test,y_train,y_val_test=train_test_split(X_py[:num_digits],boolean_labels[:num_digits],test_size=0.4,random_state=42)\n",
    "\n",
    "\n",
    "len(X_train),len(X_val_test),len(y_train),len(y_val_test), X_train.shape,X_val_test.shape,len(y_val_test)"
   ]
  },
  {
   "cell_type": "code",
   "execution_count": 260,
   "id": "b2b24247-2cc1-400d-a553-879571a7dfcc",
   "metadata": {},
   "outputs": [
    {
     "data": {
      "text/plain": [
       "(1000, 1000, 1000, 1000, (1000, 20, 20))"
      ]
     },
     "execution_count": 260,
     "metadata": {},
     "output_type": "execute_result"
    }
   ],
   "source": [
    "#now spliting validation and test data\n",
    "\n",
    "\n",
    "X_val,X_test,y_val,y_test=train_test_split(X_val_test,y_val_test,test_size=0.5,random_state=42)\n",
    "\n",
    "len(X_val),len(y_val),len(X_test),len(y_test),X_val.shape\n"
   ]
  },
  {
   "cell_type": "code",
   "execution_count": 261,
   "id": "ffdd95b2-d9cb-48b8-b8c0-d4d0f6c96dc1",
   "metadata": {},
   "outputs": [],
   "source": [
    "\n",
    "#In grayscale images, a pixel value of 0 represents black, and 255 represents white. A channel is a matrix of pixel values,\n",
    "#and we have only one channel in the case of a grayscale image."
   ]
  },
  {
   "cell_type": "code",
   "execution_count": 262,
   "id": "85ca544c-d82d-422e-8f94-e522ddcd2d72",
   "metadata": {},
   "outputs": [],
   "source": [
    "#Now processing the images for Tensoflow \n"
   ]
  },
  {
   "cell_type": "code",
   "execution_count": 263,
   "id": "fe5eed10-b80a-49a7-bad2-782cdfa101b9",
   "metadata": {},
   "outputs": [],
   "source": [
    "IMG_SIZE=20\n",
    "\n",
    "def process_images(images,labels,MINST=False):\n",
    "    \n",
    "    #img_shape=images[0].shape\n",
    "    #if img_shape!=(20,20):\n",
    "    \n",
    "    if MINST:\n",
    "        \n",
    "        \"\"\"\n",
    "        \n",
    "        https://stackoverflow.com/questions/45024328/resize-mnist-in-tensorflow            \n",
    "        for the mnist dataset, you first need to reshape the mnist array before you send it to tf.image.resize_images():\n",
    "        Given a tensor input, this operation inserts a dimension of length 1 at the dimension index axis of input's shape. \n",
    "        The dimension index follows Python indexing rules: It's zero-based, a negative index it is counted backward from the end.\n",
    "        \n",
    "        https://stackoverflow.com/questions/71652625/opencv-grayscale-image-has-shape-h-w-but-i-need-h-w-1-for-tensorflow\n",
    "        If you need to feed images in (H, W, 1) dimension to TensorFlow, so change your dimension by expanding dimension in TF:\n",
    "        This code adds a one channel to last dimension of data:\n",
    "        \n",
    "        \"\"\"\n",
    "        #images=tf.expand_dims(images,-1)\n",
    "        #images=tf.image.resize(images,[20,20])\n",
    "\n",
    "    \n",
    "    \n",
    "    images=tf.convert_to_tensor(images)\n",
    "    images=tf.image.convert_image_dtype(images,tf.float32)\n",
    "    #images=tf.image.per_image_standardization(images) (thrown error-need images with three dimensions)\n",
    "    \n",
    "        #images=tf.compat.v1.image.resize(images,[20,20],tf.image.ResizeMethod.BILINEAR)\n",
    "        #print(\"images are resized\")\n",
    "     \n",
    "    return images,labels\n",
    "    \n",
    "    "
   ]
  },
  {
   "cell_type": "code",
   "execution_count": 264,
   "id": "2bf17c11-a076-4fdd-ac6d-8c7fa9592799",
   "metadata": {
    "editable": true,
    "slideshow": {
     "slide_type": ""
    },
    "tags": []
   },
   "outputs": [],
   "source": [
    "#changing images into Tensor Batches\n",
    "\n",
    "\n",
    "def create_image_batches(X,y=None,batch_size=32,Training_Data=False, New_Data=False,data_augment=False):\n",
    "    if New_Data:\n",
    "        print(\"Creating batches of new real-time data...\")\n",
    "        data=tf.data.Dataset.from_tensor_slices((tf.constant(X)))\n",
    "        data=data.map(process_images)\n",
    "        data_batch=data.batch(batch_size)\n",
    "        return data_batch\n",
    "    else:\n",
    "        print(\"Creating batches of data...\")\n",
    "        data=tf.data.Dataset.from_tensor_slices((tf.constant(X),tf.constant(y)))\n",
    "        \n",
    "        if Training_Data: \n",
    "            data=data.shuffle(buffer_size=len(X))\n",
    "        \n",
    "        data=data.map(process_images)\n",
    "        data_batch=data.batch(batch_size)\n",
    "        return data_batch\n",
    "        "
   ]
  },
  {
   "cell_type": "code",
   "execution_count": 265,
   "id": "9992c4e0-6030-49cb-b219-aa2ba86e4163",
   "metadata": {},
   "outputs": [
    {
     "name": "stdout",
     "output_type": "stream",
     "text": [
      "Creating batches of data...\n",
      "Creating batches of data...\n"
     ]
    }
   ],
   "source": [
    "#(crated first portion of the above function, \n",
    "#testing it first to see if validation data is converted, after that the crate_images_batches function will be completed)\n",
    "\n",
    "train_data=create_image_batches(X_train,y_train,Training_Data=True)\n",
    "val_data=create_image_batches(X_val,y_val)"
   ]
  },
  {
   "cell_type": "code",
   "execution_count": 266,
   "id": "11c7b008-2c8b-47df-9ab8-04d34efdfc61",
   "metadata": {},
   "outputs": [],
   "source": [
    "image,label=process_images(X_train,y_train)"
   ]
  },
  {
   "cell_type": "code",
   "execution_count": 267,
   "id": "374631b9-681b-44b4-8b96-0e74b62816b3",
   "metadata": {},
   "outputs": [
    {
     "data": {
      "text/plain": [
       "94"
      ]
     },
     "execution_count": 267,
     "metadata": {},
     "output_type": "execute_result"
    }
   ],
   "source": [
    "len(train_data) #length of data batches of 32 images each, "
   ]
  },
  {
   "cell_type": "code",
   "execution_count": 268,
   "id": "60685803-4eb3-4cb8-ad32-e758544eed0d",
   "metadata": {},
   "outputs": [],
   "source": [
    "#Visualizing Data Batches"
   ]
  },
  {
   "cell_type": "code",
   "execution_count": 269,
   "id": "30058cb2-85bf-4ac0-aad8-aacd9a10bb60",
   "metadata": {},
   "outputs": [
    {
     "data": {
      "image/png": "[encoded data removed]",
      "text/plain": [
       "<Figure size 1000x1000 with 16 Axes>"
      ]
     },
     "metadata": {},
     "output_type": "display_data"
    }
   ],
   "source": [
    "images,labels=next(train_data.as_numpy_iterator())\n",
    "show_20_digits(images,labels)"
   ]
  },
  {
   "cell_type": "code",
   "execution_count": 270,
   "id": "c5a7d664-7968-4461-a163-f8c2429cce20",
   "metadata": {},
   "outputs": [
    {
     "data": {
      "text/plain": [
       "(32, 20, 20)"
      ]
     },
     "execution_count": 270,
     "metadata": {},
     "output_type": "execute_result"
    }
   ],
   "source": [
    "images.shape"
   ]
  },
  {
   "cell_type": "markdown",
   "id": "24a9ce3f-54c9-4031-8329-3fe99fa393c7",
   "metadata": {},
   "source": [
    "Now our data is converted into tensor batches, I will frist try Keras/ Tensorflow  to train it from scratch,\n",
    "then I will use some pretained model to do the same and compare their performances\n"
   ]
  },
  {
   "cell_type": "markdown",
   "id": "1096efcb-6de6-4149-a9d0-cfdd16a606ac",
   "metadata": {},
   "source": [
    "Data augmentation\n",
    "\n",
    "Overfitting generally occurs when there are a small number of training examples. \n",
    "Data augmentation takes the approach of generating additional training data from your existing examples\n",
    "by augmenting them using random transformations that yield believable-looking images. This helps expose \n",
    "the model to more aspects of the data and generalize better.\n"
   ]
  },
  {
   "cell_type": "markdown",
   "id": "2651de43-5aea-4b9b-a4b8-ba8f2418b767",
   "metadata": {},
   "source": [
    "Dropout\n",
    "\n",
    "Another technique to reduce overfitting is to introduce dropout regularization to the network.\n",
    "When you apply dropout to a layer, it randomly drops out (by setting the activation to zero) a \n",
    "number of output units from the layer during the training process. Dropout takes a fractional \n",
    "number as its input value, in the form such as 0.1, 0.2, 0.4, etc. This means dropping out 10%, \n",
    "20% or 40% of the output units randomly from the applied layer.\n"
   ]
  },
  {
   "cell_type": "code",
   "execution_count": 271,
   "id": "ef6b1fdc-4203-4816-8c4a-fc8f5d7346b5",
   "metadata": {},
   "outputs": [],
   "source": [
    "#The Keras Sequential model consists of three convolution blocks (tf.keras.layers.Conv2D) with a max pooling layer (tf.keras.layers.MaxPooling2D) \n",
    "#in each of them. There's a fully-connected layer (tf.keras.layers.Dense) with 128 units on top of it that is activated by\n",
    "#a ReLU activation function ('relu'). "
   ]
  },
  {
   "cell_type": "code",
   "execution_count": 272,
   "id": "7f6940bf-dbb4-4fa7-870c-2e75e918228d",
   "metadata": {},
   "outputs": [],
   "source": [
    "INPUT_SHAPE=[IMG_SIZE,IMG_SIZE,1] #height, width, color channel\n",
    "OUTPUT_SHAPE=len(unique_labels)"
   ]
  },
  {
   "cell_type": "markdown",
   "id": "1975ef62-2159-49f6-9512-f114ce9d15c1",
   "metadata": {},
   "source": [
    "# Adding Callbacks: TensorBoard and EarlyStop: "
   ]
  },
  {
   "cell_type": "code",
   "execution_count": 273,
   "id": "4fe201ea-a87c-4c27-a214-3197c85c65a6",
   "metadata": {},
   "outputs": [
    {
     "name": "stdout",
     "output_type": "stream",
     "text": [
      "The tensorboard extension is already loaded. To reload it, use:\n",
      "  %reload_ext tensorboard\n"
     ]
    }
   ],
   "source": [
    "#TensorBoard Callback\n",
    "%load_ext tensorboard"
   ]
  },
  {
   "cell_type": "code",
   "execution_count": 274,
   "id": "0b2e1e17-904b-4173-9efc-024ace4a9b9f",
   "metadata": {},
   "outputs": [],
   "source": [
    "import datetime\n",
    "\n",
    "def create_tensorboard_callback():\n",
    "    logdir=os.path.join(\"D:\\AI Local\\practice_projects\\logs\",datetime.datetime.now().strftime(\"%Y%m%d-%H%M\"))\n",
    "    return tf.keras.callbacks.TensorBoard(logdir)                    "
   ]
  },
  {
   "cell_type": "code",
   "execution_count": 275,
   "id": "e6329ddb-13cf-4544-9131-0958686c8005",
   "metadata": {},
   "outputs": [],
   "source": [
    "#Early Stopping Callback\n",
    "early_stopping=tf.keras.callbacks.EarlyStopping(monitor=\"val_accuracy\",patience=4)"
   ]
  },
  {
   "cell_type": "code",
   "execution_count": 276,
   "id": "57549276-c320-4a40-919d-9741d31dc8df",
   "metadata": {},
   "outputs": [
    {
     "data": {
      "text/plain": [
       "'D:\\\\AI Local\\\\practice_projects\\\\logs\\\\20240424-2129'"
      ]
     },
     "execution_count": 276,
     "metadata": {},
     "output_type": "execute_result"
    }
   ],
   "source": [
    "os.path.join(\"D:\\AI Local\\practice_projects\\logs\",datetime.datetime.now().strftime(\"%Y%m%d-%H%M\"))"
   ]
  },
  {
   "cell_type": "markdown",
   "id": "b4f14680-9b60-4b2f-bfd0-45f910a6e52c",
   "metadata": {},
   "source": [
    "# Creating and Fitting Model"
   ]
  },
  {
   "cell_type": "code",
   "execution_count": 277,
   "id": "07233624-2b32-4bb6-ae69-343dd9f367c6",
   "metadata": {},
   "outputs": [],
   "source": [
    "#https://www.geeksforgeeks.org/keras-conv2d-class/\n",
    "\n",
    "\n",
    "def create_model(input_shape=INPUT_SHAPE, output_shape=OUTPUT_SHAPE,data_augment=False):\n",
    "    model=Sequential()\n",
    "\n",
    "    if data_augment: data_augmentation\n",
    "        \n",
    "    model.add(Conv2D(filters=32,kernel_size=(3,3),padding=\"same\",activation=\"relu\",input_shape=(INPUT_SHAPE)))\n",
    "    model.add(MaxPool2D())\n",
    "\n",
    "    model.add(Conv2D(64,(3,3),padding=\"same\",activation=\"relu\"))\n",
    "    model.add(MaxPool2D())\n",
    "\n",
    "    #model.add(Conv2D(128,20,padding=\"same\",activation=\"relu\")) #check result and use softmax as activation\n",
    "    #model.add(MaxPool2D())\n",
    "    \n",
    "    model.add(Flatten())\n",
    "    #Flatten() is a function in Keras that transforms a multi-dimensional tensor into a one-dimensional tensor (vector). It does this \n",
    "    #by preserving the batch size and combining all other dimensions.\n",
    "\n",
    "    model.add(Dense(128,activation=\"relu\"))\n",
    "    model.add(Dense(units=output_shape,activation=\"softmax\"))\n",
    "    \n",
    "\n",
    "    #Dense implements the operation: output = activation(dot(input, kernel) + bias) where activation is the element-wise activation function \n",
    "    #passed as the activation argument, kernel is a weights matrix created by the layer, and bias is a bias vector created by \n",
    "    #the layer (only applicable if use_bias is True).\n",
    "\n",
    "    model.compile(\n",
    "                loss=tf.keras.losses.CategoricalCrossentropy(),\n",
    "                optimizer=tf.keras.optimizers.Adam(),\n",
    "                metrics=[\"accuracy\"]\n",
    "        \n",
    "                 )\n",
    "    \n",
    "    #model.build((None,INPUT_SHAPE))\n",
    "    #None,20,20,1\n",
    "    return model\n",
    "    \n",
    "                 "
   ]
  },
  {
   "cell_type": "code",
   "execution_count": 278,
   "id": "867101e0-6286-4638-9ab3-8536feebe796",
   "metadata": {},
   "outputs": [
    {
     "name": "stderr",
     "output_type": "stream",
     "text": [
      "d:\\ai local\\practice_projects\\env\\lib\\site-packages\\keras\\src\\layers\\convolutional\\base_conv.py:99: UserWarning: Do not pass an `input_shape`/`input_dim` argument to a layer. When using Sequential models, prefer using an `Input(shape)` object as the first layer in the model instead.\n",
      "  super().__init__(\n"
     ]
    },
    {
     "data": {
      "text/html": [
       "<pre style=\"white-space:pre;overflow-x:auto;line-height:normal;font-family:Menlo,'DejaVu Sans Mono',consolas,'Courier New',monospace\"><span style=\"font-weight: bold\">Model: \"sequential_6\"</span>\n",
       "</pre>\n"
      ],
      "text/plain": [
       "\u001b[1mModel: \"sequential_6\"\u001b[0m\n"
      ]
     },
     "metadata": {},
     "output_type": "display_data"
    },
    {
     "data": {
      "text/html": [
       "<pre style=\"white-space:pre;overflow-x:auto;line-height:normal;font-family:Menlo,'DejaVu Sans Mono',consolas,'Courier New',monospace\">┏━━━━━━━━━━━━━━━━━━━━━━━━━━━━━━━━━━━━━━┳━━━━━━━━━━━━━━━━━━━━━━━━━━━━━┳━━━━━━━━━━━━━━━━━┓\n",
       "┃<span style=\"font-weight: bold\"> Layer (type)                         </span>┃<span style=\"font-weight: bold\"> Output Shape                </span>┃<span style=\"font-weight: bold\">         Param # </span>┃\n",
       "┡━━━━━━━━━━━━━━━━━━━━━━━━━━━━━━━━━━━━━━╇━━━━━━━━━━━━━━━━━━━━━━━━━━━━━╇━━━━━━━━━━━━━━━━━┩\n",
       "│ conv2d_10 (<span style=\"color: #0087ff; text-decoration-color: #0087ff\">Conv2D</span>)                   │ (<span style=\"color: #00d7ff; text-decoration-color: #00d7ff\">None</span>, <span style=\"color: #00af00; text-decoration-color: #00af00\">20</span>, <span style=\"color: #00af00; text-decoration-color: #00af00\">20</span>, <span style=\"color: #00af00; text-decoration-color: #00af00\">32</span>)          │             <span style=\"color: #00af00; text-decoration-color: #00af00\">320</span> │\n",
       "├──────────────────────────────────────┼─────────────────────────────┼─────────────────┤\n",
       "│ max_pooling2d_10 (<span style=\"color: #0087ff; text-decoration-color: #0087ff\">MaxPooling2D</span>)      │ (<span style=\"color: #00d7ff; text-decoration-color: #00d7ff\">None</span>, <span style=\"color: #00af00; text-decoration-color: #00af00\">10</span>, <span style=\"color: #00af00; text-decoration-color: #00af00\">10</span>, <span style=\"color: #00af00; text-decoration-color: #00af00\">32</span>)          │               <span style=\"color: #00af00; text-decoration-color: #00af00\">0</span> │\n",
       "├──────────────────────────────────────┼─────────────────────────────┼─────────────────┤\n",
       "│ conv2d_11 (<span style=\"color: #0087ff; text-decoration-color: #0087ff\">Conv2D</span>)                   │ (<span style=\"color: #00d7ff; text-decoration-color: #00d7ff\">None</span>, <span style=\"color: #00af00; text-decoration-color: #00af00\">10</span>, <span style=\"color: #00af00; text-decoration-color: #00af00\">10</span>, <span style=\"color: #00af00; text-decoration-color: #00af00\">64</span>)          │          <span style=\"color: #00af00; text-decoration-color: #00af00\">18,496</span> │\n",
       "├──────────────────────────────────────┼─────────────────────────────┼─────────────────┤\n",
       "│ max_pooling2d_11 (<span style=\"color: #0087ff; text-decoration-color: #0087ff\">MaxPooling2D</span>)      │ (<span style=\"color: #00d7ff; text-decoration-color: #00d7ff\">None</span>, <span style=\"color: #00af00; text-decoration-color: #00af00\">5</span>, <span style=\"color: #00af00; text-decoration-color: #00af00\">5</span>, <span style=\"color: #00af00; text-decoration-color: #00af00\">64</span>)            │               <span style=\"color: #00af00; text-decoration-color: #00af00\">0</span> │\n",
       "├──────────────────────────────────────┼─────────────────────────────┼─────────────────┤\n",
       "│ flatten_5 (<span style=\"color: #0087ff; text-decoration-color: #0087ff\">Flatten</span>)                  │ (<span style=\"color: #00d7ff; text-decoration-color: #00d7ff\">None</span>, <span style=\"color: #00af00; text-decoration-color: #00af00\">1600</span>)                │               <span style=\"color: #00af00; text-decoration-color: #00af00\">0</span> │\n",
       "├──────────────────────────────────────┼─────────────────────────────┼─────────────────┤\n",
       "│ dense_10 (<span style=\"color: #0087ff; text-decoration-color: #0087ff\">Dense</span>)                     │ (<span style=\"color: #00d7ff; text-decoration-color: #00d7ff\">None</span>, <span style=\"color: #00af00; text-decoration-color: #00af00\">128</span>)                 │         <span style=\"color: #00af00; text-decoration-color: #00af00\">204,928</span> │\n",
       "├──────────────────────────────────────┼─────────────────────────────┼─────────────────┤\n",
       "│ dense_11 (<span style=\"color: #0087ff; text-decoration-color: #0087ff\">Dense</span>)                     │ (<span style=\"color: #00d7ff; text-decoration-color: #00d7ff\">None</span>, <span style=\"color: #00af00; text-decoration-color: #00af00\">10</span>)                  │           <span style=\"color: #00af00; text-decoration-color: #00af00\">1,290</span> │\n",
       "└──────────────────────────────────────┴─────────────────────────────┴─────────────────┘\n",
       "</pre>\n"
      ],
      "text/plain": [
       "┏━━━━━━━━━━━━━━━━━━━━━━━━━━━━━━━━━━━━━━┳━━━━━━━━━━━━━━━━━━━━━━━━━━━━━┳━━━━━━━━━━━━━━━━━┓\n",
       "┃\u001b[1m \u001b[0m\u001b[1mLayer (type)                        \u001b[0m\u001b[1m \u001b[0m┃\u001b[1m \u001b[0m\u001b[1mOutput Shape               \u001b[0m\u001b[1m \u001b[0m┃\u001b[1m \u001b[0m\u001b[1m        Param #\u001b[0m\u001b[1m \u001b[0m┃\n",
       "┡━━━━━━━━━━━━━━━━━━━━━━━━━━━━━━━━━━━━━━╇━━━━━━━━━━━━━━━━━━━━━━━━━━━━━╇━━━━━━━━━━━━━━━━━┩\n",
       "│ conv2d_10 (\u001b[38;5;33mConv2D\u001b[0m)                   │ (\u001b[38;5;45mNone\u001b[0m, \u001b[38;5;34m20\u001b[0m, \u001b[38;5;34m20\u001b[0m, \u001b[38;5;34m32\u001b[0m)          │             \u001b[38;5;34m320\u001b[0m │\n",
       "├──────────────────────────────────────┼─────────────────────────────┼─────────────────┤\n",
       "│ max_pooling2d_10 (\u001b[38;5;33mMaxPooling2D\u001b[0m)      │ (\u001b[38;5;45mNone\u001b[0m, \u001b[38;5;34m10\u001b[0m, \u001b[38;5;34m10\u001b[0m, \u001b[38;5;34m32\u001b[0m)          │               \u001b[38;5;34m0\u001b[0m │\n",
       "├──────────────────────────────────────┼─────────────────────────────┼─────────────────┤\n",
       "│ conv2d_11 (\u001b[38;5;33mConv2D\u001b[0m)                   │ (\u001b[38;5;45mNone\u001b[0m, \u001b[38;5;34m10\u001b[0m, \u001b[38;5;34m10\u001b[0m, \u001b[38;5;34m64\u001b[0m)          │          \u001b[38;5;34m18,496\u001b[0m │\n",
       "├──────────────────────────────────────┼─────────────────────────────┼─────────────────┤\n",
       "│ max_pooling2d_11 (\u001b[38;5;33mMaxPooling2D\u001b[0m)      │ (\u001b[38;5;45mNone\u001b[0m, \u001b[38;5;34m5\u001b[0m, \u001b[38;5;34m5\u001b[0m, \u001b[38;5;34m64\u001b[0m)            │               \u001b[38;5;34m0\u001b[0m │\n",
       "├──────────────────────────────────────┼─────────────────────────────┼─────────────────┤\n",
       "│ flatten_5 (\u001b[38;5;33mFlatten\u001b[0m)                  │ (\u001b[38;5;45mNone\u001b[0m, \u001b[38;5;34m1600\u001b[0m)                │               \u001b[38;5;34m0\u001b[0m │\n",
       "├──────────────────────────────────────┼─────────────────────────────┼─────────────────┤\n",
       "│ dense_10 (\u001b[38;5;33mDense\u001b[0m)                     │ (\u001b[38;5;45mNone\u001b[0m, \u001b[38;5;34m128\u001b[0m)                 │         \u001b[38;5;34m204,928\u001b[0m │\n",
       "├──────────────────────────────────────┼─────────────────────────────┼─────────────────┤\n",
       "│ dense_11 (\u001b[38;5;33mDense\u001b[0m)                     │ (\u001b[38;5;45mNone\u001b[0m, \u001b[38;5;34m10\u001b[0m)                  │           \u001b[38;5;34m1,290\u001b[0m │\n",
       "└──────────────────────────────────────┴─────────────────────────────┴─────────────────┘\n"
      ]
     },
     "metadata": {},
     "output_type": "display_data"
    },
    {
     "data": {
      "text/html": [
       "<pre style=\"white-space:pre;overflow-x:auto;line-height:normal;font-family:Menlo,'DejaVu Sans Mono',consolas,'Courier New',monospace\"><span style=\"font-weight: bold\"> Total params: </span><span style=\"color: #00af00; text-decoration-color: #00af00\">225,034</span> (879.04 KB)\n",
       "</pre>\n"
      ],
      "text/plain": [
       "\u001b[1m Total params: \u001b[0m\u001b[38;5;34m225,034\u001b[0m (879.04 KB)\n"
      ]
     },
     "metadata": {},
     "output_type": "display_data"
    },
    {
     "data": {
      "text/html": [
       "<pre style=\"white-space:pre;overflow-x:auto;line-height:normal;font-family:Menlo,'DejaVu Sans Mono',consolas,'Courier New',monospace\"><span style=\"font-weight: bold\"> Trainable params: </span><span style=\"color: #00af00; text-decoration-color: #00af00\">225,034</span> (879.04 KB)\n",
       "</pre>\n"
      ],
      "text/plain": [
       "\u001b[1m Trainable params: \u001b[0m\u001b[38;5;34m225,034\u001b[0m (879.04 KB)\n"
      ]
     },
     "metadata": {},
     "output_type": "display_data"
    },
    {
     "data": {
      "text/html": [
       "<pre style=\"white-space:pre;overflow-x:auto;line-height:normal;font-family:Menlo,'DejaVu Sans Mono',consolas,'Courier New',monospace\"><span style=\"font-weight: bold\"> Non-trainable params: </span><span style=\"color: #00af00; text-decoration-color: #00af00\">0</span> (0.00 B)\n",
       "</pre>\n"
      ],
      "text/plain": [
       "\u001b[1m Non-trainable params: \u001b[0m\u001b[38;5;34m0\u001b[0m (0.00 B)\n"
      ]
     },
     "metadata": {},
     "output_type": "display_data"
    }
   ],
   "source": [
    "model=create_model()\n",
    "model.summary()"
   ]
  },
  {
   "cell_type": "code",
   "execution_count": 279,
   "id": "4b2397f1-138f-4b30-a28b-81aa236f52fe",
   "metadata": {},
   "outputs": [
    {
     "name": "stdout",
     "output_type": "stream",
     "text": [
      "Epoch 1/23\n",
      "\u001b[1m94/94\u001b[0m \u001b[32m━━━━━━━━━━━━━━━━━━━━\u001b[0m\u001b[37m\u001b[0m \u001b[1m4s\u001b[0m 20ms/step - accuracy: 0.5027 - loss: 1.5353 - val_accuracy: 0.8960 - val_loss: 0.3737\n",
      "Epoch 2/23\n",
      "\u001b[1m94/94\u001b[0m \u001b[32m━━━━━━━━━━━━━━━━━━━━\u001b[0m\u001b[37m\u001b[0m \u001b[1m2s\u001b[0m 19ms/step - accuracy: 0.9175 - loss: 0.2949 - val_accuracy: 0.9230 - val_loss: 0.2458\n",
      "Epoch 3/23\n",
      "\u001b[1m94/94\u001b[0m \u001b[32m━━━━━━━━━━━━━━━━━━━━\u001b[0m\u001b[37m\u001b[0m \u001b[1m2s\u001b[0m 17ms/step - accuracy: 0.9479 - loss: 0.1716 - val_accuracy: 0.9510 - val_loss: 0.1781\n",
      "Epoch 4/23\n",
      "\u001b[1m94/94\u001b[0m \u001b[32m━━━━━━━━━━━━━━━━━━━━\u001b[0m\u001b[37m\u001b[0m \u001b[1m1s\u001b[0m 16ms/step - accuracy: 0.9721 - loss: 0.0981 - val_accuracy: 0.9410 - val_loss: 0.1883\n",
      "Epoch 5/23\n",
      "\u001b[1m94/94\u001b[0m \u001b[32m━━━━━━━━━━━━━━━━━━━━\u001b[0m\u001b[37m\u001b[0m \u001b[1m1s\u001b[0m 15ms/step - accuracy: 0.9742 - loss: 0.0894 - val_accuracy: 0.9570 - val_loss: 0.1232\n",
      "Epoch 6/23\n",
      "\u001b[1m94/94\u001b[0m \u001b[32m━━━━━━━━━━━━━━━━━━━━\u001b[0m\u001b[37m\u001b[0m \u001b[1m1s\u001b[0m 15ms/step - accuracy: 0.9815 - loss: 0.0567 - val_accuracy: 0.9630 - val_loss: 0.1165\n",
      "Epoch 7/23\n",
      "\u001b[1m94/94\u001b[0m \u001b[32m━━━━━━━━━━━━━━━━━━━━\u001b[0m\u001b[37m\u001b[0m \u001b[1m1s\u001b[0m 15ms/step - accuracy: 0.9807 - loss: 0.0615 - val_accuracy: 0.9610 - val_loss: 0.1219\n",
      "Epoch 8/23\n",
      "\u001b[1m94/94\u001b[0m \u001b[32m━━━━━━━━━━━━━━━━━━━━\u001b[0m\u001b[37m\u001b[0m \u001b[1m1s\u001b[0m 14ms/step - accuracy: 0.9846 - loss: 0.0424 - val_accuracy: 0.9650 - val_loss: 0.1375\n",
      "Epoch 9/23\n",
      "\u001b[1m94/94\u001b[0m \u001b[32m━━━━━━━━━━━━━━━━━━━━\u001b[0m\u001b[37m\u001b[0m \u001b[1m2s\u001b[0m 17ms/step - accuracy: 0.9926 - loss: 0.0367 - val_accuracy: 0.9610 - val_loss: 0.1413\n",
      "Epoch 10/23\n",
      "\u001b[1m94/94\u001b[0m \u001b[32m━━━━━━━━━━━━━━━━━━━━\u001b[0m\u001b[37m\u001b[0m \u001b[1m2s\u001b[0m 16ms/step - accuracy: 0.9920 - loss: 0.0250 - val_accuracy: 0.9670 - val_loss: 0.1210\n",
      "Epoch 11/23\n",
      "\u001b[1m94/94\u001b[0m \u001b[32m━━━━━━━━━━━━━━━━━━━━\u001b[0m\u001b[37m\u001b[0m \u001b[1m1s\u001b[0m 15ms/step - accuracy: 0.9928 - loss: 0.0267 - val_accuracy: 0.9540 - val_loss: 0.1396\n",
      "Epoch 12/23\n",
      "\u001b[1m94/94\u001b[0m \u001b[32m━━━━━━━━━━━━━━━━━━━━\u001b[0m\u001b[37m\u001b[0m \u001b[1m2s\u001b[0m 18ms/step - accuracy: 0.9920 - loss: 0.0263 - val_accuracy: 0.9680 - val_loss: 0.1000\n",
      "Epoch 13/23\n",
      "\u001b[1m94/94\u001b[0m \u001b[32m━━━━━━━━━━━━━━━━━━━━\u001b[0m\u001b[37m\u001b[0m \u001b[1m2s\u001b[0m 19ms/step - accuracy: 0.9970 - loss: 0.0108 - val_accuracy: 0.9700 - val_loss: 0.1134\n",
      "Epoch 14/23\n",
      "\u001b[1m94/94\u001b[0m \u001b[32m━━━━━━━━━━━━━━━━━━━━\u001b[0m\u001b[37m\u001b[0m \u001b[1m1s\u001b[0m 16ms/step - accuracy: 0.9965 - loss: 0.0127 - val_accuracy: 0.9720 - val_loss: 0.1122\n",
      "Epoch 15/23\n",
      "\u001b[1m94/94\u001b[0m \u001b[32m━━━━━━━━━━━━━━━━━━━━\u001b[0m\u001b[37m\u001b[0m \u001b[1m1s\u001b[0m 15ms/step - accuracy: 0.9968 - loss: 0.0102 - val_accuracy: 0.9580 - val_loss: 0.1532\n",
      "Epoch 16/23\n",
      "\u001b[1m94/94\u001b[0m \u001b[32m━━━━━━━━━━━━━━━━━━━━\u001b[0m\u001b[37m\u001b[0m \u001b[1m2s\u001b[0m 20ms/step - accuracy: 0.9948 - loss: 0.0154 - val_accuracy: 0.9630 - val_loss: 0.1351\n",
      "Epoch 17/23\n",
      "\u001b[1m94/94\u001b[0m \u001b[32m━━━━━━━━━━━━━━━━━━━━\u001b[0m\u001b[37m\u001b[0m \u001b[1m2s\u001b[0m 19ms/step - accuracy: 0.9962 - loss: 0.0131 - val_accuracy: 0.9690 - val_loss: 0.1175\n",
      "Epoch 18/23\n",
      "\u001b[1m94/94\u001b[0m \u001b[32m━━━━━━━━━━━━━━━━━━━━\u001b[0m\u001b[37m\u001b[0m \u001b[1m2s\u001b[0m 20ms/step - accuracy: 0.9980 - loss: 0.0077 - val_accuracy: 0.9770 - val_loss: 0.1033\n",
      "Epoch 19/23\n",
      "\u001b[1m94/94\u001b[0m \u001b[32m━━━━━━━━━━━━━━━━━━━━\u001b[0m\u001b[37m\u001b[0m \u001b[1m2s\u001b[0m 20ms/step - accuracy: 0.9997 - loss: 0.0018 - val_accuracy: 0.9720 - val_loss: 0.1232\n",
      "Epoch 20/23\n",
      "\u001b[1m94/94\u001b[0m \u001b[32m━━━━━━━━━━━━━━━━━━━━\u001b[0m\u001b[37m\u001b[0m \u001b[1m2s\u001b[0m 22ms/step - accuracy: 0.9977 - loss: 0.0060 - val_accuracy: 0.9750 - val_loss: 0.1056\n",
      "Epoch 21/23\n",
      "\u001b[1m94/94\u001b[0m \u001b[32m━━━━━━━━━━━━━━━━━━━━\u001b[0m\u001b[37m\u001b[0m \u001b[1m4s\u001b[0m 45ms/step - accuracy: 1.0000 - loss: 0.0020 - val_accuracy: 0.9730 - val_loss: 0.1021\n",
      "Epoch 22/23\n",
      "\u001b[1m94/94\u001b[0m \u001b[32m━━━━━━━━━━━━━━━━━━━━\u001b[0m\u001b[37m\u001b[0m \u001b[1m3s\u001b[0m 32ms/step - accuracy: 1.0000 - loss: 7.9130e-04 - val_accuracy: 0.9740 - val_loss: 0.1051\n",
      "Epoch 23/23\n",
      "\u001b[1m94/94\u001b[0m \u001b[32m━━━━━━━━━━━━━━━━━━━━\u001b[0m\u001b[37m\u001b[0m \u001b[1m3s\u001b[0m 26ms/step - accuracy: 1.0000 - loss: 5.6005e-04 - val_accuracy: 0.9760 - val_loss: 0.1075\n"
     ]
    },
    {
     "data": {
      "text/plain": [
       "<keras.src.callbacks.history.History at 0x1d31f1b8e20>"
      ]
     },
     "execution_count": 279,
     "metadata": {},
     "output_type": "execute_result"
    }
   ],
   "source": [
    "my_tensorboard=create_tensorboard_callback()\n",
    "model.fit(x=train_data,epochs=23,validation_data=val_data, validation_freq=1,callbacks=[my_tensorboard,early_stopping])\n"
   ]
  },
  {
   "cell_type": "code",
   "execution_count": 280,
   "id": "c0b7b9e3-8894-4ffc-b12d-4c8bd8d53ac4",
   "metadata": {},
   "outputs": [],
   "source": [
    "#!kill 11752"
   ]
  },
  {
   "cell_type": "code",
   "execution_count": 281,
   "id": "0e6d56da-74d6-4b11-899a-50f463455871",
   "metadata": {
    "scrolled": true
   },
   "outputs": [
    {
     "data": {
      "text/plain": [
       "Reusing TensorBoard on port 6007 (pid 11752), started 21 days, 22:12:08 ago. (Use '!kill 11752' to kill it.)"
      ]
     },
     "metadata": {},
     "output_type": "display_data"
    },
    {
     "data": {
      "text/html": [
       "\n",
       "      <iframe id=\"tensorboard-frame-11f2cd242ba273be\" width=\"100%\" height=\"800\" frameborder=\"0\">\n",
       "      </iframe>\n",
       "      <script>\n",
       "        (function() {\n",
       "          const frame = document.getElementById(\"tensorboard-frame-11f2cd242ba273be\");\n",
       "          const url = new URL(\"/\", window.location);\n",
       "          const port = 6007;\n",
       "          if (port) {\n",
       "            url.port = port;\n",
       "          }\n",
       "          frame.src = url;\n",
       "        })();\n",
       "      </script>\n",
       "    "
      ],
      "text/plain": [
       "<IPython.core.display.HTML object>"
      ]
     },
     "metadata": {},
     "output_type": "display_data"
    }
   ],
   "source": [
    "%tensorboard --logdir \"D:\\AI Local\\practice_projects\\logs\"\n",
    "\n",
    "#try this to check if the reloading error is removed?\n",
    "\n",
    "#%tensorboard --logdir {logs_base_dir}  --host localhost\n",
    "    "
   ]
  },
  {
   "cell_type": "markdown",
   "id": "049140fa-6fd9-4673-8ba8-467d4da2d24f",
   "metadata": {},
   "source": [
    "#Failed to launch TensorBoard (exited with 2).error: argument {serve}: invalid choice: 'Localpractice_projectslogs' (choose from 'serve')\n",
    "\n",
    "#The above error was thrown` by the TensorBoard, after putting inverted commas in the logdir path, it worked \n",
    "\n"
   ]
  },
  {
   "cell_type": "markdown",
   "id": "68da0cf6-85f0-4916-bbd4-1a94fce4d8ea",
   "metadata": {
    "jp-MarkdownHeadingCollapsed": true
   },
   "source": [
    "## Resolve Underfitting and Overfitting issue:\n",
    "https://www.tensorflow.org/tutorials/keras/overfit_and_underfit\n",
    "\n",
    "1) how to gradualy desrease learning rate over time\n",
    "2) create smaller and then bigger models by adding additional features that is layers and units\n",
    "3) Add weight regularization in Keras model\n",
    "4) Adding dropout layer to resolve overfitting   (combine it with weight regularization)\n",
    "   \n",
    "6) Note:The tf.data.experimental.CsvDataset class can be used to read csv records directly from a gzip file with no intermediate decompression step."
   ]
  },
  {
   "cell_type": "markdown",
   "id": "e90a9f7f-4c15-4013-94bb-ede3366c0165",
   "metadata": {
    "jp-MarkdownHeadingCollapsed": true
   },
   "source": [
    "## RESULTS AND OBSERVATIONS\n",
    "\n",
    "\n",
    "#Model acuracy was 92% low with 1000 images, its was increased to 97% with 5000 images. \\\n"
   ]
  },
  {
   "cell_type": "markdown",
   "id": "ef75c71f-a548-4127-889f-62ad51204938",
   "metadata": {},
   "source": [
    "# Things to Do\n",
    "\n",
    "1) increased traning size\n",
    "2) implemented tensorboard and earlystopping callbacks\n",
    "3) implement learning curves - they are implemented using TensorBoard. The diff btw these curves and curves in NG Andrew class is the number of training examples and number of epochs\n",
    "4) Learned how to resove underfitting and overfitting in Tensorflow Keras\n",
    "5) Data Augmentation for improved learning (didn't work on current images)\n",
    "6) Added 60k images in existing Octave database, made all necessary conversions in data and trained a model with 98.55 accuracy of validation data\n",
    "7) Built a more complex network by adding more layers but it didn't work. (add regulization if it fails to generalize - never did it)\n",
    "8)\n",
    "9) Saved the highest performing model, load Check the accuracy using test data\n",
    "\n",
    "\n",
    "Image Pixel Scaling - use Keras Rescalling utility (resizing utility is also available - you can scaleup your images to match size of MINST or vice versa)\n",
    "\n",
    "\n",
    "implement transfer learning, if possible- image size may create an issue, but MINST dataset related implementation may help \n",
    "\n"
   ]
  },
  {
   "cell_type": "markdown",
   "id": "84f23fc9-aaf8-45ef-9cb3-4c5b7bdaab71",
   "metadata": {},
   "source": [
    "## Data Augmentation\n",
    "\n",
    "1) https://www.tensorflow.org/tutorials/images/data_augmentation\n",
    "2) In Keras, when you export your model using model.save, the preprocessing layers will be saved along with the rest of your model. If you later deploy this model, it will automatically standardize images (according to the configuration of your layers). This can save you from the effort of having to reimplement that logic server-side.\n",
    "3) https://www.datacamp.com/tutorial/complete-guide-data-augmentation"
   ]
  },
  {
   "cell_type": "code",
   "execution_count": 282,
   "id": "564f5b52-2274-45c7-8b18-5a9cd46b6843",
   "metadata": {},
   "outputs": [],
   "source": [
    "#data augmentation by adding a layer in the CNN model \n",
    "\n",
    "#data_augmentation=tf.keras.Sequential([tf.keras.layers.RandomFlip(\"horizontal_and_vertical\"),tf.keras.layers.RandomRotation(0.2)])\n",
    "\n",
    "\n",
    "data_augmentation=tf.keras.Sequential([tf.keras.layers.RandomRotation(0.2)])"
   ]
  },
  {
   "cell_type": "code",
   "execution_count": 283,
   "id": "f841566f-7c9a-4864-b829-1eb3c9f4967f",
   "metadata": {},
   "outputs": [
    {
     "data": {
      "image/png": "[encoded data removed]",
      "text/plain": [
       "<Figure size 200x200 with 6 Axes>"
      ]
     },
     "metadata": {},
     "output_type": "display_data"
    }
   ],
   "source": [
    "images,labels=next(train_data.as_numpy_iterator())\n",
    "#image = tf.cast(tf.expand_dims(images[0], 0), tf.float32)\n",
    "\n",
    "plt.figure(figsize=(2, 2))\n",
    "for i in range(6):\n",
    "  augmented_image = data_augmentation(images)\n",
    "  ax = plt.subplot(2,3 , i + 1)\n",
    "  plt.imshow(augmented_image[0])\n",
    "  plt.axis(\"off\")\n",
    "\n",
    "\n",
    "#the display shows that data augmentation is not wroking fine on our data\n",
    "#now I will apply the augmentation to the whole batch. in above example, an augmentation layer was added to the Keras Model\n"
   ]
  },
  {
   "cell_type": "code",
   "execution_count": 284,
   "id": "cdb6858b-157d-48cf-b387-ec269f297d58",
   "metadata": {
    "scrolled": true
   },
   "outputs": [
    {
     "data": {
      "text/html": [
       "<pre style=\"white-space:pre;overflow-x:auto;line-height:normal;font-family:Menlo,'DejaVu Sans Mono',consolas,'Courier New',monospace\"><span style=\"font-weight: bold\">Model: \"sequential_8\"</span>\n",
       "</pre>\n"
      ],
      "text/plain": [
       "\u001b[1mModel: \"sequential_8\"\u001b[0m\n"
      ]
     },
     "metadata": {},
     "output_type": "display_data"
    },
    {
     "data": {
      "text/html": [
       "<pre style=\"white-space:pre;overflow-x:auto;line-height:normal;font-family:Menlo,'DejaVu Sans Mono',consolas,'Courier New',monospace\">┏━━━━━━━━━━━━━━━━━━━━━━━━━━━━━━━━━━━━━━┳━━━━━━━━━━━━━━━━━━━━━━━━━━━━━┳━━━━━━━━━━━━━━━━━┓\n",
       "┃<span style=\"font-weight: bold\"> Layer (type)                         </span>┃<span style=\"font-weight: bold\"> Output Shape                </span>┃<span style=\"font-weight: bold\">         Param # </span>┃\n",
       "┡━━━━━━━━━━━━━━━━━━━━━━━━━━━━━━━━━━━━━━╇━━━━━━━━━━━━━━━━━━━━━━━━━━━━━╇━━━━━━━━━━━━━━━━━┩\n",
       "│ conv2d_12 (<span style=\"color: #0087ff; text-decoration-color: #0087ff\">Conv2D</span>)                   │ (<span style=\"color: #00d7ff; text-decoration-color: #00d7ff\">None</span>, <span style=\"color: #00af00; text-decoration-color: #00af00\">20</span>, <span style=\"color: #00af00; text-decoration-color: #00af00\">20</span>, <span style=\"color: #00af00; text-decoration-color: #00af00\">32</span>)          │             <span style=\"color: #00af00; text-decoration-color: #00af00\">320</span> │\n",
       "├──────────────────────────────────────┼─────────────────────────────┼─────────────────┤\n",
       "│ max_pooling2d_12 (<span style=\"color: #0087ff; text-decoration-color: #0087ff\">MaxPooling2D</span>)      │ (<span style=\"color: #00d7ff; text-decoration-color: #00d7ff\">None</span>, <span style=\"color: #00af00; text-decoration-color: #00af00\">10</span>, <span style=\"color: #00af00; text-decoration-color: #00af00\">10</span>, <span style=\"color: #00af00; text-decoration-color: #00af00\">32</span>)          │               <span style=\"color: #00af00; text-decoration-color: #00af00\">0</span> │\n",
       "├──────────────────────────────────────┼─────────────────────────────┼─────────────────┤\n",
       "│ conv2d_13 (<span style=\"color: #0087ff; text-decoration-color: #0087ff\">Conv2D</span>)                   │ (<span style=\"color: #00d7ff; text-decoration-color: #00d7ff\">None</span>, <span style=\"color: #00af00; text-decoration-color: #00af00\">10</span>, <span style=\"color: #00af00; text-decoration-color: #00af00\">10</span>, <span style=\"color: #00af00; text-decoration-color: #00af00\">64</span>)          │          <span style=\"color: #00af00; text-decoration-color: #00af00\">18,496</span> │\n",
       "├──────────────────────────────────────┼─────────────────────────────┼─────────────────┤\n",
       "│ max_pooling2d_13 (<span style=\"color: #0087ff; text-decoration-color: #0087ff\">MaxPooling2D</span>)      │ (<span style=\"color: #00d7ff; text-decoration-color: #00d7ff\">None</span>, <span style=\"color: #00af00; text-decoration-color: #00af00\">5</span>, <span style=\"color: #00af00; text-decoration-color: #00af00\">5</span>, <span style=\"color: #00af00; text-decoration-color: #00af00\">64</span>)            │               <span style=\"color: #00af00; text-decoration-color: #00af00\">0</span> │\n",
       "├──────────────────────────────────────┼─────────────────────────────┼─────────────────┤\n",
       "│ flatten_6 (<span style=\"color: #0087ff; text-decoration-color: #0087ff\">Flatten</span>)                  │ (<span style=\"color: #00d7ff; text-decoration-color: #00d7ff\">None</span>, <span style=\"color: #00af00; text-decoration-color: #00af00\">1600</span>)                │               <span style=\"color: #00af00; text-decoration-color: #00af00\">0</span> │\n",
       "├──────────────────────────────────────┼─────────────────────────────┼─────────────────┤\n",
       "│ dense_12 (<span style=\"color: #0087ff; text-decoration-color: #0087ff\">Dense</span>)                     │ (<span style=\"color: #00d7ff; text-decoration-color: #00d7ff\">None</span>, <span style=\"color: #00af00; text-decoration-color: #00af00\">128</span>)                 │         <span style=\"color: #00af00; text-decoration-color: #00af00\">204,928</span> │\n",
       "├──────────────────────────────────────┼─────────────────────────────┼─────────────────┤\n",
       "│ dense_13 (<span style=\"color: #0087ff; text-decoration-color: #0087ff\">Dense</span>)                     │ (<span style=\"color: #00d7ff; text-decoration-color: #00d7ff\">None</span>, <span style=\"color: #00af00; text-decoration-color: #00af00\">10</span>)                  │           <span style=\"color: #00af00; text-decoration-color: #00af00\">1,290</span> │\n",
       "└──────────────────────────────────────┴─────────────────────────────┴─────────────────┘\n",
       "</pre>\n"
      ],
      "text/plain": [
       "┏━━━━━━━━━━━━━━━━━━━━━━━━━━━━━━━━━━━━━━┳━━━━━━━━━━━━━━━━━━━━━━━━━━━━━┳━━━━━━━━━━━━━━━━━┓\n",
       "┃\u001b[1m \u001b[0m\u001b[1mLayer (type)                        \u001b[0m\u001b[1m \u001b[0m┃\u001b[1m \u001b[0m\u001b[1mOutput Shape               \u001b[0m\u001b[1m \u001b[0m┃\u001b[1m \u001b[0m\u001b[1m        Param #\u001b[0m\u001b[1m \u001b[0m┃\n",
       "┡━━━━━━━━━━━━━━━━━━━━━━━━━━━━━━━━━━━━━━╇━━━━━━━━━━━━━━━━━━━━━━━━━━━━━╇━━━━━━━━━━━━━━━━━┩\n",
       "│ conv2d_12 (\u001b[38;5;33mConv2D\u001b[0m)                   │ (\u001b[38;5;45mNone\u001b[0m, \u001b[38;5;34m20\u001b[0m, \u001b[38;5;34m20\u001b[0m, \u001b[38;5;34m32\u001b[0m)          │             \u001b[38;5;34m320\u001b[0m │\n",
       "├──────────────────────────────────────┼─────────────────────────────┼─────────────────┤\n",
       "│ max_pooling2d_12 (\u001b[38;5;33mMaxPooling2D\u001b[0m)      │ (\u001b[38;5;45mNone\u001b[0m, \u001b[38;5;34m10\u001b[0m, \u001b[38;5;34m10\u001b[0m, \u001b[38;5;34m32\u001b[0m)          │               \u001b[38;5;34m0\u001b[0m │\n",
       "├──────────────────────────────────────┼─────────────────────────────┼─────────────────┤\n",
       "│ conv2d_13 (\u001b[38;5;33mConv2D\u001b[0m)                   │ (\u001b[38;5;45mNone\u001b[0m, \u001b[38;5;34m10\u001b[0m, \u001b[38;5;34m10\u001b[0m, \u001b[38;5;34m64\u001b[0m)          │          \u001b[38;5;34m18,496\u001b[0m │\n",
       "├──────────────────────────────────────┼─────────────────────────────┼─────────────────┤\n",
       "│ max_pooling2d_13 (\u001b[38;5;33mMaxPooling2D\u001b[0m)      │ (\u001b[38;5;45mNone\u001b[0m, \u001b[38;5;34m5\u001b[0m, \u001b[38;5;34m5\u001b[0m, \u001b[38;5;34m64\u001b[0m)            │               \u001b[38;5;34m0\u001b[0m │\n",
       "├──────────────────────────────────────┼─────────────────────────────┼─────────────────┤\n",
       "│ flatten_6 (\u001b[38;5;33mFlatten\u001b[0m)                  │ (\u001b[38;5;45mNone\u001b[0m, \u001b[38;5;34m1600\u001b[0m)                │               \u001b[38;5;34m0\u001b[0m │\n",
       "├──────────────────────────────────────┼─────────────────────────────┼─────────────────┤\n",
       "│ dense_12 (\u001b[38;5;33mDense\u001b[0m)                     │ (\u001b[38;5;45mNone\u001b[0m, \u001b[38;5;34m128\u001b[0m)                 │         \u001b[38;5;34m204,928\u001b[0m │\n",
       "├──────────────────────────────────────┼─────────────────────────────┼─────────────────┤\n",
       "│ dense_13 (\u001b[38;5;33mDense\u001b[0m)                     │ (\u001b[38;5;45mNone\u001b[0m, \u001b[38;5;34m10\u001b[0m)                  │           \u001b[38;5;34m1,290\u001b[0m │\n",
       "└──────────────────────────────────────┴─────────────────────────────┴─────────────────┘\n"
      ]
     },
     "metadata": {},
     "output_type": "display_data"
    },
    {
     "data": {
      "text/html": [
       "<pre style=\"white-space:pre;overflow-x:auto;line-height:normal;font-family:Menlo,'DejaVu Sans Mono',consolas,'Courier New',monospace\"><span style=\"font-weight: bold\"> Total params: </span><span style=\"color: #00af00; text-decoration-color: #00af00\">225,034</span> (879.04 KB)\n",
       "</pre>\n"
      ],
      "text/plain": [
       "\u001b[1m Total params: \u001b[0m\u001b[38;5;34m225,034\u001b[0m (879.04 KB)\n"
      ]
     },
     "metadata": {},
     "output_type": "display_data"
    },
    {
     "data": {
      "text/html": [
       "<pre style=\"white-space:pre;overflow-x:auto;line-height:normal;font-family:Menlo,'DejaVu Sans Mono',consolas,'Courier New',monospace\"><span style=\"font-weight: bold\"> Trainable params: </span><span style=\"color: #00af00; text-decoration-color: #00af00\">225,034</span> (879.04 KB)\n",
       "</pre>\n"
      ],
      "text/plain": [
       "\u001b[1m Trainable params: \u001b[0m\u001b[38;5;34m225,034\u001b[0m (879.04 KB)\n"
      ]
     },
     "metadata": {},
     "output_type": "display_data"
    },
    {
     "data": {
      "text/html": [
       "<pre style=\"white-space:pre;overflow-x:auto;line-height:normal;font-family:Menlo,'DejaVu Sans Mono',consolas,'Courier New',monospace\"><span style=\"font-weight: bold\"> Non-trainable params: </span><span style=\"color: #00af00; text-decoration-color: #00af00\">0</span> (0.00 B)\n",
       "</pre>\n"
      ],
      "text/plain": [
       "\u001b[1m Non-trainable params: \u001b[0m\u001b[38;5;34m0\u001b[0m (0.00 B)\n"
      ]
     },
     "metadata": {},
     "output_type": "display_data"
    }
   ],
   "source": [
    "model=create_model(data_augment=True)\n",
    "model.summary()"
   ]
  },
  {
   "cell_type": "code",
   "execution_count": null,
   "id": "49325425-8945-4c26-9b92-a42a21cdc0e0",
   "metadata": {},
   "outputs": [],
   "source": []
  },
  {
   "cell_type": "code",
   "execution_count": null,
   "id": "02c28a18-1b16-4575-ac50-d5fcfc41a834",
   "metadata": {},
   "outputs": [],
   "source": []
  },
  {
   "cell_type": "code",
   "execution_count": 285,
   "id": "4fb60bc3-1cb8-4ce3-a0e3-c5c8b1f1a042",
   "metadata": {},
   "outputs": [
    {
     "name": "stdout",
     "output_type": "stream",
     "text": [
      "Epoch 1/23\n",
      "\u001b[1m94/94\u001b[0m \u001b[32m━━━━━━━━━━━━━━━━━━━━\u001b[0m\u001b[37m\u001b[0m \u001b[1m10s\u001b[0m 35ms/step - accuracy: 0.5166 - loss: 1.4726 - val_accuracy: 0.9300 - val_loss: 0.2640\n",
      "Epoch 2/23\n",
      "\u001b[1m94/94\u001b[0m \u001b[32m━━━━━━━━━━━━━━━━━━━━\u001b[0m\u001b[37m\u001b[0m \u001b[1m2s\u001b[0m 22ms/step - accuracy: 0.9350 - loss: 0.2349 - val_accuracy: 0.9430 - val_loss: 0.1936\n",
      "Epoch 3/23\n",
      "\u001b[1m94/94\u001b[0m \u001b[32m━━━━━━━━━━━━━━━━━━━━\u001b[0m\u001b[37m\u001b[0m \u001b[1m2s\u001b[0m 21ms/step - accuracy: 0.9551 - loss: 0.1461 - val_accuracy: 0.9480 - val_loss: 0.1645\n",
      "Epoch 4/23\n",
      "\u001b[1m94/94\u001b[0m \u001b[32m━━━━━━━━━━━━━━━━━━━━\u001b[0m\u001b[37m\u001b[0m \u001b[1m2s\u001b[0m 20ms/step - accuracy: 0.9736 - loss: 0.0984 - val_accuracy: 0.9600 - val_loss: 0.1244\n",
      "Epoch 5/23\n",
      "\u001b[1m94/94\u001b[0m \u001b[32m━━━━━━━━━━━━━━━━━━━━\u001b[0m\u001b[37m\u001b[0m \u001b[1m2s\u001b[0m 17ms/step - accuracy: 0.9726 - loss: 0.0943 - val_accuracy: 0.9620 - val_loss: 0.1158\n",
      "Epoch 6/23\n",
      "\u001b[1m94/94\u001b[0m \u001b[32m━━━━━━━━━━━━━━━━━━━━\u001b[0m\u001b[37m\u001b[0m \u001b[1m2s\u001b[0m 17ms/step - accuracy: 0.9830 - loss: 0.0608 - val_accuracy: 0.9570 - val_loss: 0.1377\n",
      "Epoch 7/23\n",
      "\u001b[1m94/94\u001b[0m \u001b[32m━━━━━━━━━━━━━━━━━━━━\u001b[0m\u001b[37m\u001b[0m \u001b[1m2s\u001b[0m 17ms/step - accuracy: 0.9843 - loss: 0.0464 - val_accuracy: 0.9660 - val_loss: 0.1223\n"
     ]
    },
    {
     "data": {
      "text/plain": [
       "<keras.src.callbacks.history.History at 0x1d31ef9ab60>"
      ]
     },
     "execution_count": 285,
     "metadata": {},
     "output_type": "execute_result"
    }
   ],
   "source": [
    "\n",
    "model.fit(x=train_data,epochs=23,validation_data=val_data,validation_freq=1,callbacks=[my_tensorboard,early_stopping])"
   ]
  },
  {
   "cell_type": "code",
   "execution_count": 286,
   "id": "3882125c-1400-4ca1-b3b3-d9a890fa5e04",
   "metadata": {},
   "outputs": [],
   "source": [
    "#now applying data augmentation to the whole traning batch\n",
    "#applied but it resulted in reduction of validation accuracy - so I am removing the code realted to data_augmentation\n",
    "augmented_data = train_data.map(lambda x, y: (data_augmentation(x,training=True),y),num_parallel_calls=tf.data.AUTOTUNE)\n"
   ]
  },
  {
   "cell_type": "code",
   "execution_count": 287,
   "id": "21963029-8267-49a4-a491-7fc12039df3d",
   "metadata": {},
   "outputs": [
    {
     "data": {
      "image/png": "[encoded data removed]",
      "text/plain": [
       "<Figure size 200x200 with 6 Axes>"
      ]
     },
     "metadata": {},
     "output_type": "display_data"
    }
   ],
   "source": [
    "image,label=next(augmented_data.as_numpy_iterator())\n",
    "\n",
    "plt.figure(figsize=(2,2))\n",
    "\n",
    "for i in range(6):\n",
    "    ax=plt.subplot(2,3,i+1)\n",
    "    plt.imshow(image[1])\n",
    "    plt.axis(\"off\")"
   ]
  },
  {
   "cell_type": "code",
   "execution_count": null,
   "id": "5d730dce-8d4d-4491-ba2c-8f8044151582",
   "metadata": {},
   "outputs": [],
   "source": []
  },
  {
   "cell_type": "code",
   "execution_count": 288,
   "id": "8448d046-8988-4261-b0f9-5a5c0292e6ea",
   "metadata": {},
   "outputs": [
    {
     "name": "stdout",
     "output_type": "stream",
     "text": [
      "Epoch 1/23\n",
      "\u001b[1m94/94\u001b[0m \u001b[32m━━━━━━━━━━━━━━━━━━━━\u001b[0m\u001b[37m\u001b[0m \u001b[1m5s\u001b[0m 28ms/step - accuracy: 0.1314 - loss: 2.2915 - val_accuracy: 0.5130 - val_loss: 1.7805\n",
      "Epoch 2/23\n",
      "\u001b[1m94/94\u001b[0m \u001b[32m━━━━━━━━━━━━━━━━━━━━\u001b[0m\u001b[37m\u001b[0m \u001b[1m2s\u001b[0m 20ms/step - accuracy: 0.2028 - loss: 2.1825 - val_accuracy: 0.5560 - val_loss: 1.3278\n",
      "Epoch 3/23\n",
      "\u001b[1m94/94\u001b[0m \u001b[32m━━━━━━━━━━━━━━━━━━━━\u001b[0m\u001b[37m\u001b[0m \u001b[1m2s\u001b[0m 24ms/step - accuracy: 0.2038 - loss: 2.1564 - val_accuracy: 0.6660 - val_loss: 1.0745\n",
      "Epoch 4/23\n",
      "\u001b[1m94/94\u001b[0m \u001b[32m━━━━━━━━━━━━━━━━━━━━\u001b[0m\u001b[37m\u001b[0m \u001b[1m1s\u001b[0m 14ms/step - accuracy: 0.2365 - loss: 2.0690 - val_accuracy: 0.7680 - val_loss: 1.0064\n",
      "Epoch 5/23\n",
      "\u001b[1m94/94\u001b[0m \u001b[32m━━━━━━━━━━━━━━━━━━━━\u001b[0m\u001b[37m\u001b[0m \u001b[1m2s\u001b[0m 19ms/step - accuracy: 0.2784 - loss: 1.9878 - val_accuracy: 0.7630 - val_loss: 0.8643\n",
      "Epoch 6/23\n",
      "\u001b[1m94/94\u001b[0m \u001b[32m━━━━━━━━━━━━━━━━━━━━\u001b[0m\u001b[37m\u001b[0m \u001b[1m2s\u001b[0m 18ms/step - accuracy: 0.2318 - loss: 2.0879 - val_accuracy: 0.8180 - val_loss: 0.6838\n",
      "Epoch 7/23\n",
      "\u001b[1m94/94\u001b[0m \u001b[32m━━━━━━━━━━━━━━━━━━━━\u001b[0m\u001b[37m\u001b[0m \u001b[1m3s\u001b[0m 21ms/step - accuracy: 0.2957 - loss: 1.9441 - val_accuracy: 0.7960 - val_loss: 0.7276\n"
     ]
    },
    {
     "data": {
      "text/plain": [
       "<keras.src.callbacks.history.History at 0x1d33e57cb50>"
      ]
     },
     "execution_count": 288,
     "metadata": {},
     "output_type": "execute_result"
    }
   ],
   "source": [
    "\n",
    "model=create_model()\n",
    "model.fit(x=augmented_data,epochs=23,validation_data=val_data,validation_freq=1,callbacks=[early_stopping])"
   ]
  },
  {
   "cell_type": "code",
   "execution_count": 289,
   "id": "bd63b405-acb7-4114-ad92-1e63d4cbeca8",
   "metadata": {},
   "outputs": [
    {
     "name": "stdout",
     "output_type": "stream",
     "text": [
      "Epoch 1/23\n",
      "\u001b[1m94/94\u001b[0m \u001b[32m━━━━━━━━━━━━━━━━━━━━\u001b[0m\u001b[37m\u001b[0m \u001b[1m2s\u001b[0m 19ms/step - accuracy: 0.8801 - loss: 0.4123 - val_accuracy: 0.9530 - val_loss: 0.1548\n",
      "Epoch 2/23\n",
      "\u001b[1m94/94\u001b[0m \u001b[32m━━━━━━━━━━━━━━━━━━━━\u001b[0m\u001b[37m\u001b[0m \u001b[1m2s\u001b[0m 21ms/step - accuracy: 0.9581 - loss: 0.1433 - val_accuracy: 0.9630 - val_loss: 0.1164\n",
      "Epoch 3/23\n",
      "\u001b[1m94/94\u001b[0m \u001b[32m━━━━━━━━━━━━━━━━━━━━\u001b[0m\u001b[37m\u001b[0m \u001b[1m2s\u001b[0m 16ms/step - accuracy: 0.9770 - loss: 0.0846 - val_accuracy: 0.9630 - val_loss: 0.0946\n",
      "Epoch 4/23\n",
      "\u001b[1m94/94\u001b[0m \u001b[32m━━━━━━━━━━━━━━━━━━━━\u001b[0m\u001b[37m\u001b[0m \u001b[1m2s\u001b[0m 17ms/step - accuracy: 0.9834 - loss: 0.0590 - val_accuracy: 0.9630 - val_loss: 0.1025\n",
      "Epoch 5/23\n",
      "\u001b[1m94/94\u001b[0m \u001b[32m━━━━━━━━━━━━━━━━━━━━\u001b[0m\u001b[37m\u001b[0m \u001b[1m2s\u001b[0m 16ms/step - accuracy: 0.9914 - loss: 0.0383 - val_accuracy: 0.9640 - val_loss: 0.1017\n",
      "Epoch 6/23\n",
      "\u001b[1m94/94\u001b[0m \u001b[32m━━━━━━━━━━━━━━━━━━━━\u001b[0m\u001b[37m\u001b[0m \u001b[1m2s\u001b[0m 20ms/step - accuracy: 0.9895 - loss: 0.0399 - val_accuracy: 0.9690 - val_loss: 0.0869\n",
      "Epoch 7/23\n",
      "\u001b[1m94/94\u001b[0m \u001b[32m━━━━━━━━━━━━━━━━━━━━\u001b[0m\u001b[37m\u001b[0m \u001b[1m2s\u001b[0m 18ms/step - accuracy: 0.9947 - loss: 0.0232 - val_accuracy: 0.9640 - val_loss: 0.1046\n"
     ]
    },
    {
     "data": {
      "text/plain": [
       "<keras.src.callbacks.history.History at 0x1d33ebc2440>"
      ]
     },
     "execution_count": 289,
     "metadata": {},
     "output_type": "execute_result"
    }
   ],
   "source": [
    "#so fitting the model with our original train_data\n",
    "model.fit(x=train_data,epochs=23,validation_data=val_data,validation_freq=1,callbacks=[early_stopping])\n"
   ]
  },
  {
   "cell_type": "markdown",
   "id": "2f089170-de7a-4870-ae94-d3c405fc420c",
   "metadata": {},
   "source": [
    "## Using MINST Dataset"
   ]
  },
  {
   "cell_type": "code",
   "execution_count": 290,
   "id": "f8266923-a9e8-4e72-8f80-b62c8e80e1ce",
   "metadata": {},
   "outputs": [],
   "source": [
    "from keras.datasets import mnist"
   ]
  },
  {
   "cell_type": "code",
   "execution_count": 291,
   "id": "42025ddf-ac46-4bc5-9fb9-d4ecbec4a6b6",
   "metadata": {},
   "outputs": [],
   "source": [
    "(X_train,y_train),(X_test,y_test)=mnist.load_data()"
   ]
  },
  {
   "cell_type": "code",
   "execution_count": 292,
   "id": "2f7db933-3349-47e0-adb0-dfd5d91886a8",
   "metadata": {},
   "outputs": [
    {
     "data": {
      "text/plain": [
       "(60000, 60000, 10000, 10000, (60000, 28, 28))"
      ]
     },
     "execution_count": 292,
     "metadata": {},
     "output_type": "execute_result"
    }
   ],
   "source": [
    "len(X_train),len(y_train),len(X_test),len(y_test),X_train.shape"
   ]
  },
  {
   "cell_type": "code",
   "execution_count": 293,
   "id": "8f332340-971a-4a6c-90c2-d60b8407694d",
   "metadata": {},
   "outputs": [
    {
     "data": {
      "image/png": "[encoded data removed]",
      "text/plain": [
       "<Figure size 1000x1000 with 20 Axes>"
      ]
     },
     "metadata": {},
     "output_type": "display_data"
    }
   ],
   "source": [
    "show_20_digits(X_train,y_train,minsit=True)"
   ]
  },
  {
   "cell_type": "markdown",
   "id": "0b14b049-ec79-4775-b279-314965a04842",
   "metadata": {},
   "source": [
    "# now combining Octave Data and Minst Data"
   ]
  },
  {
   "cell_type": "code",
   "execution_count": 294,
   "id": "f1ca86cd-e4f2-4396-86da-2686bd89f39a",
   "metadata": {},
   "outputs": [
    {
     "data": {
      "text/plain": [
       "((60000, 28, 28), 60000)"
      ]
     },
     "execution_count": 294,
     "metadata": {},
     "output_type": "execute_result"
    }
   ],
   "source": [
    "X_train.shape, len(y_train)"
   ]
  },
  {
   "cell_type": "code",
   "execution_count": 295,
   "id": "27da3a80-a17d-42b9-b0b9-1d516b80ede8",
   "metadata": {},
   "outputs": [
    {
     "data": {
      "text/plain": [
       "(dtype('uint8'), array([0., 1., 2., 3., 4., 5., 6., 7., 8., 9.]))"
      ]
     },
     "execution_count": 295,
     "metadata": {},
     "output_type": "execute_result"
    }
   ],
   "source": [
    "np.unique(y_train).dtype,unique_labels\n"
   ]
  },
  {
   "cell_type": "code",
   "execution_count": 296,
   "id": "c02386f9-83de-4229-a2d2-baed0eab29c3",
   "metadata": {},
   "outputs": [],
   "source": [
    "y_train=y_train.astype(np.float64)"
   ]
  },
  {
   "cell_type": "code",
   "execution_count": 297,
   "id": "caffcbab-9147-4c4b-9f76-e9e93e74441c",
   "metadata": {},
   "outputs": [],
   "source": [
    "new_y_booleans=True\n",
    "\n",
    "#new_y_booleans=unique_lables= lables for lables in y\n",
    "#y.head() \n",
    "#lables=unique_labels for lables in y[\"labels\"]:\n",
    "\n",
    "#label=unique_labels for label in y[\"labels\"]\n",
    "\n",
    "\n",
    "#boolean_labels2=[np.array(unique_labels)==label for label in y[\"labels\"]]\n",
    "\n",
    "new_y_booleans=[unique_labels==label for label in y_train]    "
   ]
  },
  {
   "cell_type": "code",
   "execution_count": 298,
   "id": "35cfa89a-23ed-41cc-a964-b9c1f8759fd2",
   "metadata": {},
   "outputs": [
    {
     "data": {
      "text/plain": [
       "60000"
      ]
     },
     "execution_count": 298,
     "metadata": {},
     "output_type": "execute_result"
    }
   ],
   "source": [
    "len(new_y_booleans)"
   ]
  },
  {
   "cell_type": "code",
   "execution_count": 299,
   "id": "ab9fd065-cb00-4881-823a-08f5b1a4c54f",
   "metadata": {},
   "outputs": [
    {
     "data": {
      "text/plain": [
       "((5000, 20, 20), (60000, 28, 28), (60000,))"
      ]
     },
     "execution_count": 299,
     "metadata": {},
     "output_type": "execute_result"
    }
   ],
   "source": [
    "X_py.shape,X_train.shape,y_train.shape"
   ]
  },
  {
   "cell_type": "code",
   "execution_count": 300,
   "id": "52a710b5-61a8-445e-a802-7c56e4870e61",
   "metadata": {},
   "outputs": [
    {
     "data": {
      "text/plain": [
       "(60000, 20, 20)"
      ]
     },
     "execution_count": 300,
     "metadata": {},
     "output_type": "execute_result"
    }
   ],
   "source": [
    "images_new=tf.expand_dims(X_train, -1)\n",
    "\n",
    "#Given a tensor input, this operation inserts a dimension of length 1 at the dimension index axis of input's shape. \n",
    "#The dimension index follows Python indexing rules: It's zero-based, a negative index it is counted backward from the end.\n",
    "\n",
    "images_new=tf.image.resize(images_new,[20,20])\n",
    "images_new=tf.squeeze(images_new,-1) \n",
    "\n",
    "#tf.squeeze: Given a tensor input, this operation returns a tensor of the same type with all dimensions of size 1 removed.\n",
    "#If you don't want to remove all size 1 dimensions, you can remove specific size 1 dimensions by specifying axis\n",
    "\n",
    "images_new=images_new.numpy()\n",
    "\n",
    "images_new.shape#,images_new.numpy().shape"
   ]
  },
  {
   "cell_type": "code",
   "execution_count": 301,
   "id": "c2357faa-3981-4890-a5f2-c7f060e6bb11",
   "metadata": {},
   "outputs": [
    {
     "data": {
      "text/plain": [
       "((5000, 20, 20), (60000, 20, 20))"
      ]
     },
     "execution_count": 301,
     "metadata": {},
     "output_type": "execute_result"
    }
   ],
   "source": [
    "X_py.shape,images_new.shape"
   ]
  },
  {
   "cell_type": "code",
   "execution_count": 302,
   "id": "a0f41dc6-ce5f-495c-a891-f66b9101bd10",
   "metadata": {},
   "outputs": [],
   "source": [
    "X_train_new=np.concatenate((X_py,images_new))"
   ]
  },
  {
   "cell_type": "code",
   "execution_count": 303,
   "id": "8357ed13-2793-4557-a0c3-15e7f91e6299",
   "metadata": {},
   "outputs": [
    {
     "data": {
      "text/plain": [
       "(65000, 20, 20)"
      ]
     },
     "execution_count": 303,
     "metadata": {},
     "output_type": "execute_result"
    }
   ],
   "source": [
    "X_train_new.shape"
   ]
  },
  {
   "cell_type": "code",
   "execution_count": 304,
   "id": "17dac6bd-9cdd-4258-97d5-919bc01cbaf8",
   "metadata": {},
   "outputs": [],
   "source": [
    "boolean_labels_new=boolean_labels+new_y_booleans"
   ]
  },
  {
   "cell_type": "code",
   "execution_count": 305,
   "id": "9078ffb9-935a-43ad-9d1c-23e62671a0ee",
   "metadata": {},
   "outputs": [],
   "source": [
    "boolean_labels_int=np.array(boolean_labels_new)\n",
    "\n",
    "#student_tally = list(map(int, student_exam))\n",
    "type(boolean_labels_int)\n",
    "#boolean_labels_new.astype(int)\n",
    "boolean_labels_int=boolean_labels_int.astype(int)\n",
    "booelan_labels_new=boolean_labels_int"
   ]
  },
  {
   "cell_type": "code",
   "execution_count": 306,
   "id": "e2230db9-5267-42a2-8e34-142f08996e0b",
   "metadata": {},
   "outputs": [
    {
     "data": {
      "text/plain": [
       "65000"
      ]
     },
     "execution_count": 306,
     "metadata": {},
     "output_type": "execute_result"
    }
   ],
   "source": [
    "len(boolean_labels_new)"
   ]
  },
  {
   "cell_type": "code",
   "execution_count": 307,
   "id": "b16bee34-37a6-4a22-b90a-974661cfe607",
   "metadata": {},
   "outputs": [
    {
     "data": {
      "image/png": "[encoded data removed]",
      "text/plain": [
       "<Figure size 1000x1000 with 20 Axes>"
      ]
     },
     "metadata": {},
     "output_type": "display_data"
    }
   ],
   "source": [
    "#displaying  digits of new database\n",
    "\n",
    "show_20_digits(X_train_new,boolean_labels_new)"
   ]
  },
  {
   "cell_type": "code",
   "execution_count": 308,
   "id": "93b4c7db-d274-44c9-8016-9d999468461f",
   "metadata": {},
   "outputs": [],
   "source": [
    "#NOW TRANING OUR MODEL ON OUR NEWLY APPENDED DATA\n",
    "num_digits=65000\n",
    "X_train,X_cv_test,y_train,y_cv_test=train_test_split(X_train_new[:num_digits],boolean_labels_new[:num_digits],test_size=0.1,random_state=42)"
   ]
  },
  {
   "cell_type": "code",
   "execution_count": 309,
   "id": "fc85d788-554b-4106-83f1-d3fe711ed9c0",
   "metadata": {},
   "outputs": [
    {
     "data": {
      "text/plain": [
       "(58500, 6500, 58500, 6500)"
      ]
     },
     "execution_count": 309,
     "metadata": {},
     "output_type": "execute_result"
    }
   ],
   "source": [
    "len(X_train),len(X_cv_test),len(y_train),len(y_cv_test)"
   ]
  },
  {
   "cell_type": "code",
   "execution_count": 310,
   "id": "1a805858-c08a-40af-9bcb-997ebb6cf248",
   "metadata": {},
   "outputs": [],
   "source": [
    "X_val,X_test,y_val,y_test=train_test_split(X_cv_test,y_cv_test,test_size=0.5,random_state=42)"
   ]
  },
  {
   "cell_type": "code",
   "execution_count": 311,
   "id": "e174739d-a963-448f-badc-1bc608d47aa8",
   "metadata": {},
   "outputs": [
    {
     "data": {
      "text/plain": [
       "(3250, 3250, 3250, 3250)"
      ]
     },
     "execution_count": 311,
     "metadata": {},
     "output_type": "execute_result"
    }
   ],
   "source": [
    "len(X_val),len(X_test),len(y_val),len(y_test)"
   ]
  },
  {
   "cell_type": "code",
   "execution_count": 312,
   "id": "7c6a2c87-2597-4ebc-94f5-448324165b68",
   "metadata": {},
   "outputs": [
    {
     "name": "stdout",
     "output_type": "stream",
     "text": [
      "Creating batches of data...\n",
      "Creating batches of data...\n"
     ]
    }
   ],
   "source": [
    "#createing tensor batches\n",
    "\n",
    "train_data=create_image_batches(X_train,y_train,Training_Data=True)\n",
    "val_data=create_image_batches(X_val,y_val)\n"
   ]
  },
  {
   "cell_type": "code",
   "execution_count": 313,
   "id": "d56678b9-d1c5-45f3-9264-2a6039037d80",
   "metadata": {},
   "outputs": [
    {
     "data": {
      "text/html": [
       "<pre style=\"white-space:pre;overflow-x:auto;line-height:normal;font-family:Menlo,'DejaVu Sans Mono',consolas,'Courier New',monospace\"><span style=\"font-weight: bold\">Model: \"sequential_10\"</span>\n",
       "</pre>\n"
      ],
      "text/plain": [
       "\u001b[1mModel: \"sequential_10\"\u001b[0m\n"
      ]
     },
     "metadata": {},
     "output_type": "display_data"
    },
    {
     "data": {
      "text/html": [
       "<pre style=\"white-space:pre;overflow-x:auto;line-height:normal;font-family:Menlo,'DejaVu Sans Mono',consolas,'Courier New',monospace\">┏━━━━━━━━━━━━━━━━━━━━━━━━━━━━━━━━━━━━━━┳━━━━━━━━━━━━━━━━━━━━━━━━━━━━━┳━━━━━━━━━━━━━━━━━┓\n",
       "┃<span style=\"font-weight: bold\"> Layer (type)                         </span>┃<span style=\"font-weight: bold\"> Output Shape                </span>┃<span style=\"font-weight: bold\">         Param # </span>┃\n",
       "┡━━━━━━━━━━━━━━━━━━━━━━━━━━━━━━━━━━━━━━╇━━━━━━━━━━━━━━━━━━━━━━━━━━━━━╇━━━━━━━━━━━━━━━━━┩\n",
       "│ conv2d_16 (<span style=\"color: #0087ff; text-decoration-color: #0087ff\">Conv2D</span>)                   │ (<span style=\"color: #00d7ff; text-decoration-color: #00d7ff\">None</span>, <span style=\"color: #00af00; text-decoration-color: #00af00\">20</span>, <span style=\"color: #00af00; text-decoration-color: #00af00\">20</span>, <span style=\"color: #00af00; text-decoration-color: #00af00\">32</span>)          │             <span style=\"color: #00af00; text-decoration-color: #00af00\">320</span> │\n",
       "├──────────────────────────────────────┼─────────────────────────────┼─────────────────┤\n",
       "│ max_pooling2d_16 (<span style=\"color: #0087ff; text-decoration-color: #0087ff\">MaxPooling2D</span>)      │ (<span style=\"color: #00d7ff; text-decoration-color: #00d7ff\">None</span>, <span style=\"color: #00af00; text-decoration-color: #00af00\">10</span>, <span style=\"color: #00af00; text-decoration-color: #00af00\">10</span>, <span style=\"color: #00af00; text-decoration-color: #00af00\">32</span>)          │               <span style=\"color: #00af00; text-decoration-color: #00af00\">0</span> │\n",
       "├──────────────────────────────────────┼─────────────────────────────┼─────────────────┤\n",
       "│ conv2d_17 (<span style=\"color: #0087ff; text-decoration-color: #0087ff\">Conv2D</span>)                   │ (<span style=\"color: #00d7ff; text-decoration-color: #00d7ff\">None</span>, <span style=\"color: #00af00; text-decoration-color: #00af00\">10</span>, <span style=\"color: #00af00; text-decoration-color: #00af00\">10</span>, <span style=\"color: #00af00; text-decoration-color: #00af00\">64</span>)          │          <span style=\"color: #00af00; text-decoration-color: #00af00\">18,496</span> │\n",
       "├──────────────────────────────────────┼─────────────────────────────┼─────────────────┤\n",
       "│ max_pooling2d_17 (<span style=\"color: #0087ff; text-decoration-color: #0087ff\">MaxPooling2D</span>)      │ (<span style=\"color: #00d7ff; text-decoration-color: #00d7ff\">None</span>, <span style=\"color: #00af00; text-decoration-color: #00af00\">5</span>, <span style=\"color: #00af00; text-decoration-color: #00af00\">5</span>, <span style=\"color: #00af00; text-decoration-color: #00af00\">64</span>)            │               <span style=\"color: #00af00; text-decoration-color: #00af00\">0</span> │\n",
       "├──────────────────────────────────────┼─────────────────────────────┼─────────────────┤\n",
       "│ flatten_8 (<span style=\"color: #0087ff; text-decoration-color: #0087ff\">Flatten</span>)                  │ (<span style=\"color: #00d7ff; text-decoration-color: #00d7ff\">None</span>, <span style=\"color: #00af00; text-decoration-color: #00af00\">1600</span>)                │               <span style=\"color: #00af00; text-decoration-color: #00af00\">0</span> │\n",
       "├──────────────────────────────────────┼─────────────────────────────┼─────────────────┤\n",
       "│ dense_16 (<span style=\"color: #0087ff; text-decoration-color: #0087ff\">Dense</span>)                     │ (<span style=\"color: #00d7ff; text-decoration-color: #00d7ff\">None</span>, <span style=\"color: #00af00; text-decoration-color: #00af00\">128</span>)                 │         <span style=\"color: #00af00; text-decoration-color: #00af00\">204,928</span> │\n",
       "├──────────────────────────────────────┼─────────────────────────────┼─────────────────┤\n",
       "│ dense_17 (<span style=\"color: #0087ff; text-decoration-color: #0087ff\">Dense</span>)                     │ (<span style=\"color: #00d7ff; text-decoration-color: #00d7ff\">None</span>, <span style=\"color: #00af00; text-decoration-color: #00af00\">10</span>)                  │           <span style=\"color: #00af00; text-decoration-color: #00af00\">1,290</span> │\n",
       "└──────────────────────────────────────┴─────────────────────────────┴─────────────────┘\n",
       "</pre>\n"
      ],
      "text/plain": [
       "┏━━━━━━━━━━━━━━━━━━━━━━━━━━━━━━━━━━━━━━┳━━━━━━━━━━━━━━━━━━━━━━━━━━━━━┳━━━━━━━━━━━━━━━━━┓\n",
       "┃\u001b[1m \u001b[0m\u001b[1mLayer (type)                        \u001b[0m\u001b[1m \u001b[0m┃\u001b[1m \u001b[0m\u001b[1mOutput Shape               \u001b[0m\u001b[1m \u001b[0m┃\u001b[1m \u001b[0m\u001b[1m        Param #\u001b[0m\u001b[1m \u001b[0m┃\n",
       "┡━━━━━━━━━━━━━━━━━━━━━━━━━━━━━━━━━━━━━━╇━━━━━━━━━━━━━━━━━━━━━━━━━━━━━╇━━━━━━━━━━━━━━━━━┩\n",
       "│ conv2d_16 (\u001b[38;5;33mConv2D\u001b[0m)                   │ (\u001b[38;5;45mNone\u001b[0m, \u001b[38;5;34m20\u001b[0m, \u001b[38;5;34m20\u001b[0m, \u001b[38;5;34m32\u001b[0m)          │             \u001b[38;5;34m320\u001b[0m │\n",
       "├──────────────────────────────────────┼─────────────────────────────┼─────────────────┤\n",
       "│ max_pooling2d_16 (\u001b[38;5;33mMaxPooling2D\u001b[0m)      │ (\u001b[38;5;45mNone\u001b[0m, \u001b[38;5;34m10\u001b[0m, \u001b[38;5;34m10\u001b[0m, \u001b[38;5;34m32\u001b[0m)          │               \u001b[38;5;34m0\u001b[0m │\n",
       "├──────────────────────────────────────┼─────────────────────────────┼─────────────────┤\n",
       "│ conv2d_17 (\u001b[38;5;33mConv2D\u001b[0m)                   │ (\u001b[38;5;45mNone\u001b[0m, \u001b[38;5;34m10\u001b[0m, \u001b[38;5;34m10\u001b[0m, \u001b[38;5;34m64\u001b[0m)          │          \u001b[38;5;34m18,496\u001b[0m │\n",
       "├──────────────────────────────────────┼─────────────────────────────┼─────────────────┤\n",
       "│ max_pooling2d_17 (\u001b[38;5;33mMaxPooling2D\u001b[0m)      │ (\u001b[38;5;45mNone\u001b[0m, \u001b[38;5;34m5\u001b[0m, \u001b[38;5;34m5\u001b[0m, \u001b[38;5;34m64\u001b[0m)            │               \u001b[38;5;34m0\u001b[0m │\n",
       "├──────────────────────────────────────┼─────────────────────────────┼─────────────────┤\n",
       "│ flatten_8 (\u001b[38;5;33mFlatten\u001b[0m)                  │ (\u001b[38;5;45mNone\u001b[0m, \u001b[38;5;34m1600\u001b[0m)                │               \u001b[38;5;34m0\u001b[0m │\n",
       "├──────────────────────────────────────┼─────────────────────────────┼─────────────────┤\n",
       "│ dense_16 (\u001b[38;5;33mDense\u001b[0m)                     │ (\u001b[38;5;45mNone\u001b[0m, \u001b[38;5;34m128\u001b[0m)                 │         \u001b[38;5;34m204,928\u001b[0m │\n",
       "├──────────────────────────────────────┼─────────────────────────────┼─────────────────┤\n",
       "│ dense_17 (\u001b[38;5;33mDense\u001b[0m)                     │ (\u001b[38;5;45mNone\u001b[0m, \u001b[38;5;34m10\u001b[0m)                  │           \u001b[38;5;34m1,290\u001b[0m │\n",
       "└──────────────────────────────────────┴─────────────────────────────┴─────────────────┘\n"
      ]
     },
     "metadata": {},
     "output_type": "display_data"
    },
    {
     "data": {
      "text/html": [
       "<pre style=\"white-space:pre;overflow-x:auto;line-height:normal;font-family:Menlo,'DejaVu Sans Mono',consolas,'Courier New',monospace\"><span style=\"font-weight: bold\"> Total params: </span><span style=\"color: #00af00; text-decoration-color: #00af00\">225,034</span> (879.04 KB)\n",
       "</pre>\n"
      ],
      "text/plain": [
       "\u001b[1m Total params: \u001b[0m\u001b[38;5;34m225,034\u001b[0m (879.04 KB)\n"
      ]
     },
     "metadata": {},
     "output_type": "display_data"
    },
    {
     "data": {
      "text/html": [
       "<pre style=\"white-space:pre;overflow-x:auto;line-height:normal;font-family:Menlo,'DejaVu Sans Mono',consolas,'Courier New',monospace\"><span style=\"font-weight: bold\"> Trainable params: </span><span style=\"color: #00af00; text-decoration-color: #00af00\">225,034</span> (879.04 KB)\n",
       "</pre>\n"
      ],
      "text/plain": [
       "\u001b[1m Trainable params: \u001b[0m\u001b[38;5;34m225,034\u001b[0m (879.04 KB)\n"
      ]
     },
     "metadata": {},
     "output_type": "display_data"
    },
    {
     "data": {
      "text/html": [
       "<pre style=\"white-space:pre;overflow-x:auto;line-height:normal;font-family:Menlo,'DejaVu Sans Mono',consolas,'Courier New',monospace\"><span style=\"font-weight: bold\"> Non-trainable params: </span><span style=\"color: #00af00; text-decoration-color: #00af00\">0</span> (0.00 B)\n",
       "</pre>\n"
      ],
      "text/plain": [
       "\u001b[1m Non-trainable params: \u001b[0m\u001b[38;5;34m0\u001b[0m (0.00 B)\n"
      ]
     },
     "metadata": {},
     "output_type": "display_data"
    }
   ],
   "source": [
    "#create and fit the model\n",
    "model=create_model()\n",
    "model.summary()"
   ]
  },
  {
   "cell_type": "code",
   "execution_count": 315,
   "id": "c71cc5bf-63fa-4808-adba-0994a13ef47f",
   "metadata": {},
   "outputs": [
    {
     "name": "stdout",
     "output_type": "stream",
     "text": [
      "Epoch 1/23\n",
      "\u001b[1m1829/1829\u001b[0m \u001b[32m━━━━━━━━━━━━━━━━━━━━\u001b[0m\u001b[37m\u001b[0m \u001b[1m26s\u001b[0m 14ms/step - accuracy: 0.9939 - loss: 0.0235 - val_accuracy: 0.9855 - val_loss: 0.0897\n",
      "Epoch 2/23\n",
      "\u001b[1m1829/1829\u001b[0m \u001b[32m━━━━━━━━━━━━━━━━━━━━\u001b[0m\u001b[37m\u001b[0m \u001b[1m25s\u001b[0m 14ms/step - accuracy: 0.9942 - loss: 0.0216 - val_accuracy: 0.9806 - val_loss: 0.1060\n",
      "Epoch 3/23\n",
      "\u001b[1m1829/1829\u001b[0m \u001b[32m━━━━━━━━━━━━━━━━━━━━\u001b[0m\u001b[37m\u001b[0m \u001b[1m26s\u001b[0m 14ms/step - accuracy: 0.9952 - loss: 0.0216 - val_accuracy: 0.9834 - val_loss: 0.1135\n",
      "Epoch 4/23\n",
      "\u001b[1m1829/1829\u001b[0m \u001b[32m━━━━━━━━━━━━━━━━━━━━\u001b[0m\u001b[37m\u001b[0m \u001b[1m41s\u001b[0m 14ms/step - accuracy: 0.9950 - loss: 0.0193 - val_accuracy: 0.9843 - val_loss: 0.0908\n",
      "Epoch 5/23\n",
      "\u001b[1m1829/1829\u001b[0m \u001b[32m━━━━━━━━━━━━━━━━━━━━\u001b[0m\u001b[37m\u001b[0m \u001b[1m25s\u001b[0m 14ms/step - accuracy: 0.9956 - loss: 0.0158 - val_accuracy: 0.9748 - val_loss: 0.2288\n",
      "Epoch 6/23\n",
      "\u001b[1m1829/1829\u001b[0m \u001b[32m━━━━━━━━━━━━━━━━━━━━\u001b[0m\u001b[37m\u001b[0m \u001b[1m28s\u001b[0m 15ms/step - accuracy: 0.9952 - loss: 0.0231 - val_accuracy: 0.9846 - val_loss: 0.1214\n",
      "Epoch 7/23\n",
      "\u001b[1m1829/1829\u001b[0m \u001b[32m━━━━━━━━━━━━━━━━━━━━\u001b[0m\u001b[37m\u001b[0m \u001b[1m29s\u001b[0m 16ms/step - accuracy: 0.9963 - loss: 0.0167 - val_accuracy: 0.9825 - val_loss: 0.1199\n",
      "Epoch 8/23\n",
      "\u001b[1m1829/1829\u001b[0m \u001b[32m━━━━━━━━━━━━━━━━━━━━\u001b[0m\u001b[37m\u001b[0m \u001b[1m27s\u001b[0m 14ms/step - accuracy: 0.9953 - loss: 0.0221 - val_accuracy: 0.9828 - val_loss: 0.1357\n"
     ]
    },
    {
     "data": {
      "text/plain": [
       "<keras.src.callbacks.history.History at 0x1d3498a7880>"
      ]
     },
     "execution_count": 315,
     "metadata": {},
     "output_type": "execute_result"
    }
   ],
   "source": [
    "#model.fit(x=train_data,epochs=23,validation_data=val_data, validation_freq=1,callbacks=[my_tensorboard,early_stopping])\n",
    "my_tensorboard=create_tensorboard_callback()\n",
    "model.fit(x=train_data,epochs=23,validation_data=val_data,validation_freq=1,callbacks=[my_tensorboard,early_stopping])"
   ]
  },
  {
   "cell_type": "code",
   "execution_count": 317,
   "id": "c578f8c5-bd64-4863-a1d6-b69af41916c4",
   "metadata": {},
   "outputs": [
    {
     "data": {
      "text/plain": [
       "(30.700196931949044, 255.0)"
      ]
     },
     "execution_count": 317,
     "metadata": {},
     "output_type": "execute_result"
    }
   ],
   "source": [
    "#!kill 11752\n",
    "X_train.mean(),X_train.max()"
   ]
  },
  {
   "cell_type": "code",
   "execution_count": 112,
   "id": "30534049-12d5-4927-9357-31c7262f90f5",
   "metadata": {
    "scrolled": true
   },
   "outputs": [
    {
     "data": {
      "text/plain": [
       "Reusing TensorBoard on port 6007 (pid 11752), started 21 days, 21:26:40 ago. (Use '!kill 11752' to kill it.)"
      ]
     },
     "metadata": {},
     "output_type": "display_data"
    },
    {
     "data": {
      "text/html": [
       "\n",
       "      <iframe id=\"tensorboard-frame-1a62838507503f83\" width=\"100%\" height=\"800\" frameborder=\"0\">\n",
       "      </iframe>\n",
       "      <script>\n",
       "        (function() {\n",
       "          const frame = document.getElementById(\"tensorboard-frame-1a62838507503f83\");\n",
       "          const url = new URL(\"/\", window.location);\n",
       "          const port = 6007;\n",
       "          if (port) {\n",
       "            url.port = port;\n",
       "          }\n",
       "          frame.src = url;\n",
       "        })();\n",
       "      </script>\n",
       "    "
      ],
      "text/plain": [
       "<IPython.core.display.HTML object>"
      ]
     },
     "metadata": {},
     "output_type": "display_data"
    }
   ],
   "source": [
    "%tensorboard --logdir \"D:\\AI Local\\practice_projects\\logs\""
   ]
  },
  {
   "cell_type": "code",
   "execution_count": 139,
   "id": "4d5802d4-c823-448c-958a-f7093623aa62",
   "metadata": {},
   "outputs": [],
   "source": [
    "#model.save(\"D:\\AI Local\\practice_projects\\Model 58.5k Train, 32-64-128, y_test as bool-to-int Acc 98-62 perc.keras\", overwrite=False) "
   ]
  },
  {
   "cell_type": "code",
   "execution_count": 140,
   "id": "6a92adc7-9951-4c80-a261-a117c6639003",
   "metadata": {},
   "outputs": [],
   "source": [
    "model_trained=tf.keras.models.load_model(\"D:\\AI Local\\practice_projects\\Model 58.5k Train, 32-64-128, y_test as bool-to-int Acc 98-74 perc.keras\")"
   ]
  },
  {
   "cell_type": "code",
   "execution_count": 141,
   "id": "eb762e8a-41b6-4547-b6c7-0d95dddd76d3",
   "metadata": {},
   "outputs": [
    {
     "data": {
      "text/plain": [
       "(3250, 3250)"
      ]
     },
     "execution_count": 141,
     "metadata": {},
     "output_type": "execute_result"
    }
   ],
   "source": [
    "len(X_test),len(y_test)"
   ]
  },
  {
   "cell_type": "code",
   "execution_count": 142,
   "id": "668aa28d-325b-4156-b450-dfbbd627f1ec",
   "metadata": {},
   "outputs": [
    {
     "name": "stdout",
     "output_type": "stream",
     "text": [
      "\u001b[1m102/102\u001b[0m \u001b[32m━━━━━━━━━━━━━━━━━━━━\u001b[0m\u001b[37m\u001b[0m \u001b[1m1s\u001b[0m 6ms/step - accuracy: 0.9868 - loss: 0.0717\n"
     ]
    },
    {
     "data": {
      "text/plain": [
       "[0.07915600389242172, 0.9858461618423462]"
      ]
     },
     "execution_count": 142,
     "metadata": {},
     "output_type": "execute_result"
    }
   ],
   "source": [
    "model.evaluate(val_data)"
   ]
  },
  {
   "cell_type": "code",
   "execution_count": 318,
   "id": "9cddc6a1-11b0-4198-b7be-e148b978260f",
   "metadata": {},
   "outputs": [
    {
     "name": "stdout",
     "output_type": "stream",
     "text": [
      "Creating batches of data...\n"
     ]
    }
   ],
   "source": [
    "#testing model on the test data\n",
    "\n",
    "test_data=create_image_batches(X_test,y_test,batch_size=32)"
   ]
  },
  {
   "cell_type": "code",
   "execution_count": 319,
   "id": "f9d08c81-2ba7-412e-a717-6caf5a0e5dea",
   "metadata": {},
   "outputs": [
    {
     "data": {
      "text/plain": [
       "102"
      ]
     },
     "execution_count": 319,
     "metadata": {},
     "output_type": "execute_result"
    }
   ],
   "source": [
    "\n",
    "len(test_data)"
   ]
  },
  {
   "cell_type": "code",
   "execution_count": 320,
   "id": "b9cf3b19-c42a-470b-a158-b737bef7b2e5",
   "metadata": {},
   "outputs": [
    {
     "name": "stdout",
     "output_type": "stream",
     "text": [
      "\u001b[1m102/102\u001b[0m \u001b[32m━━━━━━━━━━━━━━━━━━━━\u001b[0m\u001b[37m\u001b[0m \u001b[1m1s\u001b[0m 5ms/step - accuracy: 0.9909 - loss: 0.1089\n"
     ]
    }
   ],
   "source": [
    "test_evaluation=model_trained.evaluate(test_data)"
   ]
  },
  {
   "cell_type": "code",
   "execution_count": 321,
   "id": "2665a2de-03a8-4014-8edd-df6506888bfc",
   "metadata": {},
   "outputs": [
    {
     "name": "stdout",
     "output_type": "stream",
     "text": [
      "\u001b[1m102/102\u001b[0m \u001b[32m━━━━━━━━━━━━━━━━━━━━\u001b[0m\u001b[37m\u001b[0m \u001b[1m1s\u001b[0m 5ms/step\n"
     ]
    }
   ],
   "source": [
    "test_prediction=model_trained.predict(test_data)"
   ]
  },
  {
   "cell_type": "code",
   "execution_count": 322,
   "id": "5212e98d-a676-402f-8bde-fb655fc777f7",
   "metadata": {},
   "outputs": [
    {
     "data": {
      "text/plain": [
       "(3250, 10)"
      ]
     },
     "execution_count": 322,
     "metadata": {},
     "output_type": "execute_result"
    }
   ],
   "source": [
    "test_prediction.shape"
   ]
  },
  {
   "cell_type": "code",
   "execution_count": 323,
   "id": "46e103a9-d0cf-4e3d-841d-ff071c40af1b",
   "metadata": {},
   "outputs": [
    {
     "data": {
      "text/plain": [
       "array([[0.0000000e+00, 0.0000000e+00, 0.0000000e+00, 5.3770511e-31,\n",
       "        0.0000000e+00, 1.0000000e+00, 1.3438914e-32, 0.0000000e+00,\n",
       "        4.2938137e-32, 7.2282742e-31],\n",
       "       [6.7735906e-25, 4.4458668e-21, 1.7329608e-23, 6.5381944e-26,\n",
       "        5.2062271e-25, 9.7157412e-21, 9.4454230e-28, 9.9483093e-28,\n",
       "        1.0000000e+00, 9.6280825e-20]], dtype=float32)"
      ]
     },
     "execution_count": 323,
     "metadata": {},
     "output_type": "execute_result"
    }
   ],
   "source": [
    "test_prediction[0:2] #slice start from zero and fetch 2 next items in the array"
   ]
  },
  {
   "cell_type": "code",
   "execution_count": 324,
   "id": "a683d1f1-1955-450b-bd10-e8e48727704c",
   "metadata": {},
   "outputs": [
    {
     "data": {
      "text/plain": [
       "5"
      ]
     },
     "execution_count": 324,
     "metadata": {},
     "output_type": "execute_result"
    }
   ],
   "source": [
    "test_prediction[0].argmax()"
   ]
  },
  {
   "cell_type": "code",
   "execution_count": 325,
   "id": "e735463a-f271-4dc5-92bd-0f15af382dc9",
   "metadata": {},
   "outputs": [],
   "source": [
    "def show_true_predict(images,true_labels,predicted_labels):\n",
    "    plt.figure(figsize=(10,10))\n",
    "    cnt=1\n",
    "\n",
    "    for i in range(len(true_labels)):\n",
    "        ax=plt.subplot(8,8,cnt)\n",
    "        plt.imshow(images[i],cmap=\"gray\")\n",
    "        plt.title(f\"A: {true_labels[i].argmax()} P: {predicted_labels[i].argmax()}\")\n",
    "        #plt.title(i)\n",
    "        \n",
    "        plt.tight_layout()\n",
    "        plt.axis(\"off\")\n",
    "        cnt=cnt+1\n",
    "        \n",
    "\n"
   ]
  },
  {
   "cell_type": "code",
   "execution_count": 326,
   "id": "8c465c3b-7c88-4f8e-bf90-2273f991ea5e",
   "metadata": {},
   "outputs": [
    {
     "data": {
      "text/plain": [
       "102"
      ]
     },
     "execution_count": 326,
     "metadata": {},
     "output_type": "execute_result"
    }
   ],
   "source": [
    "len(test_data)"
   ]
  },
  {
   "cell_type": "code",
   "execution_count": 327,
   "id": "8feb0ce2-30e4-4007-803e-a1b0def06f05",
   "metadata": {},
   "outputs": [],
   "source": [
    "#test_data=test_data.shuffle(buffer_size=len(test_data)) #without this code,the images were not changing their positions\n",
    "\n",
    "#and with this, we are not getting the right prediction of lables - ateast while displaying them\n",
    "# in dog vision problem, the suffle is done before the ceration of batch_data\n",
    "\n",
    "#test_prediction=model_trained.predict(test_data)\n",
    "\n",
    "#len(images)"
   ]
  },
  {
   "cell_type": "code",
   "execution_count": 328,
   "id": "860f2044-5e1f-47bc-b8af-b6a39ceb37e2",
   "metadata": {},
   "outputs": [],
   "source": [
    "test_images,test_labels=next(test_data.as_numpy_iterator())\n"
   ]
  },
  {
   "cell_type": "code",
   "execution_count": 329,
   "id": "e075d586-f16e-4f85-ba50-57f98b09f1ef",
   "metadata": {},
   "outputs": [
    {
     "data": {
      "image/png": "[encoded data removed]",
      "text/plain": [
       "<Figure size 1000x1000 with 32 Axes>"
      ]
     },
     "metadata": {},
     "output_type": "display_data"
    }
   ],
   "source": [
    "show_true_predict(test_images,test_labels,test_prediction[0:len(test_labels)])"
   ]
  },
  {
   "cell_type": "markdown",
   "id": "1ebf670f-7e84-4330-9d46-38f9fec45474",
   "metadata": {},
   "source": [
    "# Normalize, Center, and Standardize Image Pixels in Keras\n",
    "\n",
    "https://www.geeksforgeeks.org/how-to-normalize-center-and-standardize-image-pixels-in-keras/\n",
    "\n",
    "The images in your dataset should also be normalized. This means that the pixel values should be scaled to have a mean of 0 and a standard deviation of 1.\n",
    "Normalizing an image dataset for CNN means adjusting the pixel values of images so they fall in a similar range, typically between 0 and 1. This helps the CNN learn faster and perform better. Here's how to do it:\n",
    "\n",
    "1. Load the image dataset.\r\n",
    "2. Convert each pixel value from its current range (usually 0-255) to a range between 0 and 1 by dividing by 255.\r\n",
    "3. Use the normalized images as input for the CNN.\r\n",
    "This process ensures consistent data scaling, making training more stable and efficient."
   ]
  },
  {
   "cell_type": "code",
   "execution_count": 155,
   "id": "cf60db0d-d4ee-44e4-8f67-d6a694a85555",
   "metadata": {},
   "outputs": [
    {
     "data": {
      "text/plain": [
       "array([[1., 0.],\n",
       "       [1., 0.],\n",
       "       [0., 1.],\n",
       "       [1., 0.],\n",
       "       [1., 0.],\n",
       "       [1., 0.],\n",
       "       [1., 0.],\n",
       "       [1., 0.],\n",
       "       [1., 0.],\n",
       "       [1., 0.]])"
      ]
     },
     "execution_count": 155,
     "metadata": {},
     "output_type": "execute_result"
    }
   ],
   "source": [
    "tf.keras.utils.to_categorical(y_train[0])"
   ]
  },
  {
   "cell_type": "code",
   "execution_count": 156,
   "id": "976e5e77-9d49-4ba3-8cbc-625640950b36",
   "metadata": {},
   "outputs": [
    {
     "name": "stdout",
     "output_type": "stream",
     "text": [
      "The min scale of the images is -0.13196323019852488.2f and the maximum scale is 255.0.2f\n",
      "The min scale of the images is -0.11148449920508807.2f and the maximum scale is 255.0.2f\n"
     ]
    }
   ],
   "source": [
    "print(f\"The min scale of the images is {X_train.min()}.2f and the maximum scale is {X_train.max()}.2f\")\n",
    "print(f\"The min scale of the images is {X_test.min()}.2f and the maximum scale is {X_test.max()}.2f\")\n",
    "\n",
    "#other way to use print:\n",
    "#print('Train min=%.3f, max=%.3f' % (trainX.min(), trainX.max()))"
   ]
  },
  {
   "cell_type": "code",
   "execution_count": 157,
   "id": "cea63e58-c22e-4429-b198-7c81d1dd5fff",
   "metadata": {},
   "outputs": [],
   "source": [
    "x=np.where(X_train==-0.13196323019852488)"
   ]
  },
  {
   "cell_type": "code",
   "execution_count": 158,
   "id": "dba8b400-8113-4659-8ef1-5a2d5001ef12",
   "metadata": {},
   "outputs": [],
   "source": [
    "y=np.where(X_train<1)"
   ]
  },
  {
   "cell_type": "code",
   "execution_count": 159,
   "id": "dfc0a192-77c3-4fc8-90b0-37b959b65343",
   "metadata": {},
   "outputs": [
    {
     "data": {
      "text/plain": [
       "(array([    0,     0,     0, ..., 58499, 58499, 58499], dtype=int64),\n",
       " array([ 0,  0,  0, ..., 19, 19, 19], dtype=int64),\n",
       " array([ 0,  1,  2, ..., 17, 18, 19], dtype=int64))"
      ]
     },
     "execution_count": 159,
     "metadata": {},
     "output_type": "execute_result"
    }
   ],
   "source": [
    "y"
   ]
  },
  {
   "cell_type": "code",
   "execution_count": 160,
   "id": "d7def70a-98f5-4f5e-80d1-7925950cbcdc",
   "metadata": {},
   "outputs": [
    {
     "data": {
      "text/plain": [
       "(array([20448], dtype=int64),\n",
       " array([14], dtype=int64),\n",
       " array([7], dtype=int64))"
      ]
     },
     "execution_count": 160,
     "metadata": {},
     "output_type": "execute_result"
    }
   ],
   "source": [
    "x"
   ]
  },
  {
   "cell_type": "code",
   "execution_count": 161,
   "id": "1093a3ea-b2c7-4c3d-a61a-a21d0a9a51ed",
   "metadata": {},
   "outputs": [
    {
     "data": {
      "text/plain": [
       "(array([], dtype=int64), array([], dtype=int64))"
      ]
     },
     "execution_count": 161,
     "metadata": {},
     "output_type": "execute_result"
    }
   ],
   "source": [
    "a=np.where(X_train[7]==-0.13196323019852488)\n",
    "a"
   ]
  },
  {
   "cell_type": "code",
   "execution_count": 162,
   "id": "95044727-10a7-49e6-89cd-f48b129e06b5",
   "metadata": {},
   "outputs": [
    {
     "data": {
      "text/plain": [
       "array([[  0.        ,   0.        ,   0.        ,   0.        ,\n",
       "          0.        ,   0.        ,   0.        ,   0.        ,\n",
       "          0.        ,   0.        ,   0.        ,   0.        ,\n",
       "          0.        ,   0.        ,   0.        ,   0.        ,\n",
       "          0.        ,   0.        ,   0.        ,   0.        ],\n",
       "       [  0.        ,   0.        ,   0.        ,   0.        ,\n",
       "          0.        ,   0.        ,   0.        ,   0.        ,\n",
       "          0.        ,   0.        ,   0.        ,   0.        ,\n",
       "          0.        ,  35.03996277, 138.83992004,  88.68010712,\n",
       "          2.63999701,   0.        ,   0.        ,   0.        ]])"
      ]
     },
     "execution_count": 162,
     "metadata": {},
     "output_type": "execute_result"
    }
   ],
   "source": [
    "X_train[7][0:2]"
   ]
  },
  {
   "cell_type": "code",
   "execution_count": null,
   "id": "a5fd211d-212f-48cb-9cc5-ba90466a198f",
   "metadata": {},
   "outputs": [],
   "source": []
  },
  {
   "cell_type": "code",
   "execution_count": null,
   "id": "7cf8d488-05e1-4f1c-aef1-731f112cbeac",
   "metadata": {},
   "outputs": [],
   "source": []
  },
  {
   "cell_type": "code",
   "execution_count": 163,
   "id": "63a85bc3-3d7c-4a05-815b-c2bc16d8edd4",
   "metadata": {},
   "outputs": [],
   "source": [
    "# creating the image data generator [1.0/255.0 = 0.003921\n",
    "#from keras.preprocessing.image import ImageDataGenerator (that thown an error)\n",
    "from keras.src.legacy.preprocessing.image import ImageDataGenerator\n",
    "datagen=ImageDataGenerator(rescale=1/255)\n"
   ]
  },
  {
   "cell_type": "code",
   "execution_count": 164,
   "id": "9470100a-e53a-4eac-b5ab-a91c92496443",
   "metadata": {},
   "outputs": [
    {
     "data": {
      "text/plain": [
       "(1829, 102)"
      ]
     },
     "execution_count": 164,
     "metadata": {},
     "output_type": "execute_result"
    }
   ],
   "source": [
    "#in order to use datagen.flow, we need to extend the dimmension of data (channel as 1, due to gray scale images)\n",
    "\n",
    "new_X_train=tf.expand_dims(X_train, -1)\n",
    "new_y_train=tf.expand_dims(y_train, -1)\n",
    "\n",
    "new_X_test=tf.expand_dims(X_test, -1)\n",
    "new_y_test=tf.expand_dims(y_test, -1)\n",
    "\n",
    "\n",
    "train_iterator=datagen.flow(new_X_train,new_y_train,batch_size=32)\n",
    "test_iterator=datagen.flow(new_X_test,new_y_test,batch_size=32)\n",
    "\n",
    "len(train_iterator),len(test_iterator)"
   ]
  },
  {
   "cell_type": "code",
   "execution_count": 165,
   "id": "0f9cb75d-1b3b-45f1-9768-5974c17bd3e0",
   "metadata": {},
   "outputs": [],
   "source": [
    "model=create_model()\n",
    "\n",
    "#model.fit(train_iterator, steps_per_epoch=len(train_iterator),epochs=23,callbacks=early_stopping)\n",
    "#THE ABOVE FIT DIDN'T WORK - THE ACCURACY WAS 27% \n"
   ]
  },
  {
   "cell_type": "code",
   "execution_count": 332,
   "id": "e613ffc3-5727-4a46-97a9-685078978b2e",
   "metadata": {},
   "outputs": [
    {
     "data": {
      "text/plain": [
       "'\\ntime taken to train 58500 images, before normalization : \\n1st training: callbacks patience =7, time = 5.1 minutes, accuracy = 97.62%\\n2nd training: callbacks patience =7, time = 3.78 minutes, accuracy = 98.28%\\n\\n'"
      ]
     },
     "execution_count": 332,
     "metadata": {},
     "output_type": "execute_result"
    }
   ],
   "source": [
    "#above didn't work so I divided the whole image array data by 255 (max pixel value), details:\n",
    "\n",
    "#https://blog.finxter.com/5-best-ways-to-normalize-a-numpy-array-between-0-and-1/\n",
    "\n",
    "#Min-Max Scaling: (widely used)\n",
    "X_train = (X_train-np.min(X_train))/(np.max(X_train)-np.min(X_train))\n",
    "X_val=(X_val-np.min(X_val))/(np.max(X_val)-np.min(X_val))\n",
    "X_test = (X_test-np.min(X_test))/(np.max(X_test)-np.min(X_test))\n",
    "\n",
    "\n",
    "\n",
    "\n",
    "X_test_check = (X_test-np.mean(X_test))/(np.max(X_test)-np.min(X_test)) # when used this mean normalization, the mean of the array was closer to zero\n",
    "\n",
    "\n",
    "\"\"\"\n",
    "time taken to train 58500 images, before normalization : \n",
    "1st training: callbacks patience =7, time = 5.1 minutes, accuracy = 97.62%\n",
    "2nd training: callbacks patience =7, time = 3.78 minutes, accuracy = 98.28%\n",
    "\n",
    "\n",
    "time taken to train 58500 images, after normalization : \n",
    "1st training: callbacks patience =7, time =8 minutes, accuracy = 98.62%\n",
    "2nd training: callbacks patience =7, time =3.18  minutes, accuracy = 98.71%\n",
    "\n",
    "\n",
    "Result: After normalization, the speed of algorithm didn't improve however the accuracy is increased \n",
    "\"\"\"\n",
    "\n"
   ]
  },
  {
   "cell_type": "code",
   "execution_count": 333,
   "id": "1d898068-a68a-4dd4-876a-61952a5b6843",
   "metadata": {},
   "outputs": [
    {
     "data": {
      "text/plain": [
       "(0.12084789287780659,\n",
       " 0.1222496220589555,\n",
       " 0.12008028743828891,\n",
       " 1.0969140126130347e-16)"
      ]
     },
     "execution_count": 333,
     "metadata": {},
     "output_type": "execute_result"
    }
   ],
   "source": [
    "X_train.mean(),X_val.mean(),X_test.mean(),X_test_check.mean()"
   ]
  },
  {
   "cell_type": "code",
   "execution_count": 334,
   "id": "ef23aed2-2a18-45d6-a134-3ced24872d18",
   "metadata": {},
   "outputs": [
    {
     "name": "stdout",
     "output_type": "stream",
     "text": [
      "Creating batches of data...\n",
      "Creating batches of data...\n"
     ]
    }
   ],
   "source": [
    "train_data=create_image_batches(X_train,y_train,Training_Data=True)\n",
    "val_data=create_image_batches(X_val,y_val)\n"
   ]
  },
  {
   "cell_type": "code",
   "execution_count": null,
   "id": "34ceb2cb-de2a-4ebf-9eac-cdd88a234fd7",
   "metadata": {},
   "outputs": [],
   "source": [
    "model=create_model()"
   ]
  },
  {
   "cell_type": "code",
   "execution_count": 338,
   "id": "84a848b0-abaf-448e-8905-a8289142699d",
   "metadata": {},
   "outputs": [
    {
     "name": "stdout",
     "output_type": "stream",
     "text": [
      "Epoch 1/23\n",
      "\u001b[1m1829/1829\u001b[0m \u001b[32m━━━━━━━━━━━━━━━━━━━━\u001b[0m\u001b[37m\u001b[0m \u001b[1m25s\u001b[0m 13ms/step - accuracy: 0.9985 - loss: 0.0062 - val_accuracy: 0.9902 - val_loss: 0.0863\n",
      "Epoch 2/23\n",
      "\u001b[1m1829/1829\u001b[0m \u001b[32m━━━━━━━━━━━━━━━━━━━━\u001b[0m\u001b[37m\u001b[0m \u001b[1m24s\u001b[0m 13ms/step - accuracy: 0.9988 - loss: 0.0042 - val_accuracy: 0.9871 - val_loss: 0.0970\n",
      "Epoch 3/23\n",
      "\u001b[1m1829/1829\u001b[0m \u001b[32m━━━━━━━━━━━━━━━━━━━━\u001b[0m\u001b[37m\u001b[0m \u001b[1m25s\u001b[0m 13ms/step - accuracy: 0.9991 - loss: 0.0036 - val_accuracy: 0.9895 - val_loss: 0.0720\n",
      "Epoch 4/23\n",
      "\u001b[1m1829/1829\u001b[0m \u001b[32m━━━━━━━━━━━━━━━━━━━━\u001b[0m\u001b[37m\u001b[0m \u001b[1m25s\u001b[0m 13ms/step - accuracy: 0.9988 - loss: 0.0042 - val_accuracy: 0.9880 - val_loss: 0.1307\n",
      "Epoch 5/23\n",
      "\u001b[1m1829/1829\u001b[0m \u001b[32m━━━━━━━━━━━━━━━━━━━━\u001b[0m\u001b[37m\u001b[0m \u001b[1m25s\u001b[0m 14ms/step - accuracy: 0.9986 - loss: 0.0054 - val_accuracy: 0.9883 - val_loss: 0.0932\n",
      "Epoch 6/23\n",
      "\u001b[1m1829/1829\u001b[0m \u001b[32m━━━━━━━━━━━━━━━━━━━━\u001b[0m\u001b[37m\u001b[0m \u001b[1m41s\u001b[0m 14ms/step - accuracy: 0.9991 - loss: 0.0039 - val_accuracy: 0.9880 - val_loss: 0.1480\n",
      "Epoch 7/23\n",
      "\u001b[1m1829/1829\u001b[0m \u001b[32m━━━━━━━━━━━━━━━━━━━━\u001b[0m\u001b[37m\u001b[0m \u001b[1m26s\u001b[0m 14ms/step - accuracy: 0.9990 - loss: 0.0048 - val_accuracy: 0.9871 - val_loss: 0.1225\n"
     ]
    },
    {
     "data": {
      "text/plain": [
       "<keras.src.callbacks.history.History at 0x1d31ef99660>"
      ]
     },
     "execution_count": 338,
     "metadata": {},
     "output_type": "execute_result"
    }
   ],
   "source": [
    "\n",
    "model.fit(x=train_data,epochs=23,validation_data=val_data,validation_freq=1,callbacks=[my_tensorboard,early_stopping])"
   ]
  },
  {
   "cell_type": "code",
   "execution_count": 339,
   "id": "02b03d49-2b3b-49a0-bef2-4b536aea8716",
   "metadata": {},
   "outputs": [
    {
     "data": {
      "text/plain": [
       "(0.12084789287780659,\n",
       " 1.0,\n",
       " [array([ True, False, False, False, False, False, False, False, False,\n",
       "         False]),\n",
       "  array([False, False, False, False,  True, False, False, False, False,\n",
       "         False]),\n",
       "  array([ True, False, False, False, False, False, False, False, False,\n",
       "         False]),\n",
       "  array([False, False, False, False,  True, False, False, False, False,\n",
       "         False]),\n",
       "  array([False, False, False, False, False,  True, False, False, False,\n",
       "         False]),\n",
       "  array([False, False, False, False, False, False, False,  True, False,\n",
       "         False]),\n",
       "  array([False, False, False, False, False, False,  True, False, False,\n",
       "         False]),\n",
       "  array([False, False, False, False, False, False,  True, False, False,\n",
       "         False]),\n",
       "  array([False, False, False, False, False, False, False,  True, False,\n",
       "         False]),\n",
       "  array([False, False,  True, False, False, False, False, False, False,\n",
       "         False]),\n",
       "  array([False, False, False, False,  True, False, False, False, False,\n",
       "         False]),\n",
       "  array([False,  True, False, False, False, False, False, False, False,\n",
       "         False]),\n",
       "  array([False, False, False,  True, False, False, False, False, False,\n",
       "         False]),\n",
       "  array([False,  True, False, False, False, False, False, False, False,\n",
       "         False]),\n",
       "  array([False, False,  True, False, False, False, False, False, False,\n",
       "         False]),\n",
       "  array([False, False, False, False, False, False, False,  True, False,\n",
       "         False]),\n",
       "  array([False, False, False, False, False, False, False,  True, False,\n",
       "         False]),\n",
       "  array([False, False, False, False, False,  True, False, False, False,\n",
       "         False]),\n",
       "  array([False, False, False, False, False,  True, False, False, False,\n",
       "         False]),\n",
       "  array([False, False,  True, False, False, False, False, False, False,\n",
       "         False]),\n",
       "  array([False, False, False, False, False, False, False, False, False,\n",
       "          True]),\n",
       "  array([False, False, False, False,  True, False, False, False, False,\n",
       "         False]),\n",
       "  array([False, False, False, False, False, False, False, False,  True,\n",
       "         False]),\n",
       "  array([False, False, False, False, False, False, False,  True, False,\n",
       "         False]),\n",
       "  array([False, False, False, False, False, False, False, False,  True,\n",
       "         False]),\n",
       "  array([False, False, False, False,  True, False, False, False, False,\n",
       "         False]),\n",
       "  array([False,  True, False, False, False, False, False, False, False,\n",
       "         False]),\n",
       "  array([False, False, False, False, False, False,  True, False, False,\n",
       "         False]),\n",
       "  array([False,  True, False, False, False, False, False, False, False,\n",
       "         False]),\n",
       "  array([False, False, False, False, False, False,  True, False, False,\n",
       "         False]),\n",
       "  array([ True, False, False, False, False, False, False, False, False,\n",
       "         False]),\n",
       "  array([False, False, False, False, False, False, False, False, False,\n",
       "          True]),\n",
       "  array([False, False, False, False, False,  True, False, False, False,\n",
       "         False]),\n",
       "  array([False, False, False,  True, False, False, False, False, False,\n",
       "         False]),\n",
       "  array([False, False, False, False, False, False, False, False, False,\n",
       "          True]),\n",
       "  array([False, False, False, False, False,  True, False, False, False,\n",
       "         False]),\n",
       "  array([False, False, False, False, False, False, False, False,  True,\n",
       "         False]),\n",
       "  array([False, False, False, False, False, False, False, False, False,\n",
       "          True]),\n",
       "  array([False, False, False, False, False,  True, False, False, False,\n",
       "         False]),\n",
       "  array([False, False,  True, False, False, False, False, False, False,\n",
       "         False]),\n",
       "  array([False, False, False, False, False, False, False,  True, False,\n",
       "         False]),\n",
       "  array([False, False, False, False, False,  True, False, False, False,\n",
       "         False]),\n",
       "  array([False, False, False, False, False, False, False, False, False,\n",
       "          True]),\n",
       "  array([False, False,  True, False, False, False, False, False, False,\n",
       "         False]),\n",
       "  array([False, False,  True, False, False, False, False, False, False,\n",
       "         False]),\n",
       "  array([False, False, False, False, False,  True, False, False, False,\n",
       "         False]),\n",
       "  array([False, False, False, False, False,  True, False, False, False,\n",
       "         False]),\n",
       "  array([False, False,  True, False, False, False, False, False, False,\n",
       "         False]),\n",
       "  array([False, False, False, False, False, False, False, False, False,\n",
       "          True]),\n",
       "  array([False, False, False, False, False, False, False, False, False,\n",
       "          True]),\n",
       "  array([False, False, False,  True, False, False, False, False, False,\n",
       "         False]),\n",
       "  array([False,  True, False, False, False, False, False, False, False,\n",
       "         False]),\n",
       "  array([False, False, False, False, False, False, False, False,  True,\n",
       "         False]),\n",
       "  array([False, False, False,  True, False, False, False, False, False,\n",
       "         False]),\n",
       "  array([False, False, False,  True, False, False, False, False, False,\n",
       "         False]),\n",
       "  array([False, False, False, False, False,  True, False, False, False,\n",
       "         False]),\n",
       "  array([False, False, False, False, False, False, False, False,  True,\n",
       "         False]),\n",
       "  array([False, False, False, False, False, False, False,  True, False,\n",
       "         False]),\n",
       "  array([False, False, False,  True, False, False, False, False, False,\n",
       "         False]),\n",
       "  array([False, False, False, False, False, False, False, False, False,\n",
       "          True]),\n",
       "  array([False, False, False, False,  True, False, False, False, False,\n",
       "         False]),\n",
       "  array([False, False, False,  True, False, False, False, False, False,\n",
       "         False]),\n",
       "  array([False, False,  True, False, False, False, False, False, False,\n",
       "         False]),\n",
       "  array([False,  True, False, False, False, False, False, False, False,\n",
       "         False]),\n",
       "  array([False, False, False, False, False, False, False, False,  True,\n",
       "         False]),\n",
       "  array([False, False, False, False, False, False, False, False,  True,\n",
       "         False]),\n",
       "  array([ True, False, False, False, False, False, False, False, False,\n",
       "         False]),\n",
       "  array([False, False, False, False, False,  True, False, False, False,\n",
       "         False]),\n",
       "  array([False, False, False, False, False, False, False,  True, False,\n",
       "         False]),\n",
       "  array([False, False, False, False, False, False,  True, False, False,\n",
       "         False]),\n",
       "  array([False,  True, False, False, False, False, False, False, False,\n",
       "         False]),\n",
       "  array([False, False, False, False, False, False, False,  True, False,\n",
       "         False]),\n",
       "  array([False,  True, False, False, False, False, False, False, False,\n",
       "         False]),\n",
       "  array([False, False, False, False, False, False, False,  True, False,\n",
       "         False]),\n",
       "  array([False, False, False,  True, False, False, False, False, False,\n",
       "         False]),\n",
       "  array([False,  True, False, False, False, False, False, False, False,\n",
       "         False]),\n",
       "  array([False, False, False,  True, False, False, False, False, False,\n",
       "         False]),\n",
       "  array([ True, False, False, False, False, False, False, False, False,\n",
       "         False]),\n",
       "  array([False, False, False, False, False, False, False, False, False,\n",
       "          True]),\n",
       "  array([False, False, False, False, False, False, False,  True, False,\n",
       "         False]),\n",
       "  array([False, False, False, False, False, False,  True, False, False,\n",
       "         False]),\n",
       "  array([False, False, False, False, False, False, False, False,  True,\n",
       "         False]),\n",
       "  array([False, False, False, False, False,  True, False, False, False,\n",
       "         False]),\n",
       "  array([False, False, False, False, False, False, False, False, False,\n",
       "          True]),\n",
       "  array([False, False, False,  True, False, False, False, False, False,\n",
       "         False]),\n",
       "  array([False, False, False, False, False, False, False,  True, False,\n",
       "         False]),\n",
       "  array([False, False,  True, False, False, False, False, False, False,\n",
       "         False]),\n",
       "  array([False, False, False,  True, False, False, False, False, False,\n",
       "         False]),\n",
       "  array([False, False,  True, False, False, False, False, False, False,\n",
       "         False]),\n",
       "  array([False,  True, False, False, False, False, False, False, False,\n",
       "         False]),\n",
       "  array([False,  True, False, False, False, False, False, False, False,\n",
       "         False]),\n",
       "  array([False, False, False, False, False,  True, False, False, False,\n",
       "         False]),\n",
       "  array([False,  True, False, False, False, False, False, False, False,\n",
       "         False]),\n",
       "  array([False, False,  True, False, False, False, False, False, False,\n",
       "         False]),\n",
       "  array([False, False, False, False, False, False,  True, False, False,\n",
       "         False]),\n",
       "  array([False, False, False, False, False, False, False, False, False,\n",
       "          True]),\n",
       "  array([False, False, False, False, False, False, False, False,  True,\n",
       "         False]),\n",
       "  array([False, False, False, False, False,  True, False, False, False,\n",
       "         False]),\n",
       "  array([False, False,  True, False, False, False, False, False, False,\n",
       "         False]),\n",
       "  array([False, False, False, False, False, False, False, False, False,\n",
       "          True]),\n",
       "  array([False, False, False,  True, False, False, False, False, False,\n",
       "         False]),\n",
       "  array([False, False, False, False, False, False, False, False,  True,\n",
       "         False]),\n",
       "  array([False, False, False, False, False, False,  True, False, False,\n",
       "         False]),\n",
       "  array([False, False, False, False, False, False, False, False, False,\n",
       "          True]),\n",
       "  array([False, False, False, False, False, False,  True, False, False,\n",
       "         False]),\n",
       "  array([False, False, False, False, False, False, False,  True, False,\n",
       "         False]),\n",
       "  array([False, False, False, False, False, False, False, False, False,\n",
       "          True]),\n",
       "  array([False, False, False, False,  True, False, False, False, False,\n",
       "         False]),\n",
       "  array([False,  True, False, False, False, False, False, False, False,\n",
       "         False]),\n",
       "  array([False, False, False, False, False, False, False,  True, False,\n",
       "         False]),\n",
       "  array([False, False, False, False, False, False, False, False,  True,\n",
       "         False]),\n",
       "  array([False, False, False,  True, False, False, False, False, False,\n",
       "         False]),\n",
       "  array([False, False, False, False, False, False, False, False,  True,\n",
       "         False]),\n",
       "  array([False, False, False, False, False, False, False, False, False,\n",
       "          True]),\n",
       "  array([False, False, False, False,  True, False, False, False, False,\n",
       "         False]),\n",
       "  array([False, False, False, False, False,  True, False, False, False,\n",
       "         False]),\n",
       "  array([False, False, False, False, False, False, False, False, False,\n",
       "          True]),\n",
       "  array([False, False, False, False,  True, False, False, False, False,\n",
       "         False]),\n",
       "  array([False, False, False, False, False,  True, False, False, False,\n",
       "         False]),\n",
       "  array([ True, False, False, False, False, False, False, False, False,\n",
       "         False]),\n",
       "  array([False, False, False, False,  True, False, False, False, False,\n",
       "         False]),\n",
       "  array([False, False, False, False, False, False, False, False, False,\n",
       "          True]),\n",
       "  array([False, False, False, False,  True, False, False, False, False,\n",
       "         False]),\n",
       "  array([False, False, False, False, False,  True, False, False, False,\n",
       "         False]),\n",
       "  array([False, False, False, False, False,  True, False, False, False,\n",
       "         False]),\n",
       "  array([False, False, False, False,  True, False, False, False, False,\n",
       "         False]),\n",
       "  array([False, False, False, False, False, False, False, False, False,\n",
       "          True]),\n",
       "  array([False,  True, False, False, False, False, False, False, False,\n",
       "         False]),\n",
       "  array([False, False,  True, False, False, False, False, False, False,\n",
       "         False]),\n",
       "  array([False, False,  True, False, False, False, False, False, False,\n",
       "         False]),\n",
       "  array([False, False, False, False,  True, False, False, False, False,\n",
       "         False]),\n",
       "  array([False, False,  True, False, False, False, False, False, False,\n",
       "         False]),\n",
       "  array([False, False, False, False, False, False, False, False, False,\n",
       "          True]),\n",
       "  array([False, False, False, False, False, False,  True, False, False,\n",
       "         False]),\n",
       "  array([False, False, False, False, False,  True, False, False, False,\n",
       "         False]),\n",
       "  array([False, False, False, False, False, False, False, False, False,\n",
       "          True]),\n",
       "  array([False, False, False, False, False, False, False, False, False,\n",
       "          True]),\n",
       "  array([False, False, False, False, False, False, False,  True, False,\n",
       "         False]),\n",
       "  array([False, False,  True, False, False, False, False, False, False,\n",
       "         False]),\n",
       "  array([False, False, False, False, False, False,  True, False, False,\n",
       "         False]),\n",
       "  array([False, False, False, False,  True, False, False, False, False,\n",
       "         False]),\n",
       "  array([False, False, False, False, False, False, False, False, False,\n",
       "          True]),\n",
       "  array([False, False, False, False, False, False, False, False,  True,\n",
       "         False]),\n",
       "  array([False, False, False, False, False, False, False,  True, False,\n",
       "         False]),\n",
       "  array([False, False, False, False, False, False, False,  True, False,\n",
       "         False]),\n",
       "  array([False, False,  True, False, False, False, False, False, False,\n",
       "         False]),\n",
       "  array([False, False, False, False, False, False,  True, False, False,\n",
       "         False]),\n",
       "  array([False,  True, False, False, False, False, False, False, False,\n",
       "         False]),\n",
       "  array([ True, False, False, False, False, False, False, False, False,\n",
       "         False]),\n",
       "  array([False,  True, False, False, False, False, False, False, False,\n",
       "         False]),\n",
       "  array([False, False, False,  True, False, False, False, False, False,\n",
       "         False]),\n",
       "  array([False, False, False, False,  True, False, False, False, False,\n",
       "         False]),\n",
       "  array([False,  True, False, False, False, False, False, False, False,\n",
       "         False]),\n",
       "  array([False, False, False, False, False, False, False,  True, False,\n",
       "         False]),\n",
       "  array([False, False, False, False, False, False, False,  True, False,\n",
       "         False]),\n",
       "  array([False,  True, False, False, False, False, False, False, False,\n",
       "         False]),\n",
       "  array([False, False, False, False, False, False, False, False, False,\n",
       "          True]),\n",
       "  array([False, False, False,  True, False, False, False, False, False,\n",
       "         False]),\n",
       "  array([False, False, False, False,  True, False, False, False, False,\n",
       "         False]),\n",
       "  array([False, False, False, False, False, False, False,  True, False,\n",
       "         False]),\n",
       "  array([False, False,  True, False, False, False, False, False, False,\n",
       "         False]),\n",
       "  array([False, False, False, False, False, False, False, False, False,\n",
       "          True]),\n",
       "  array([False, False, False, False, False,  True, False, False, False,\n",
       "         False]),\n",
       "  array([False, False, False,  True, False, False, False, False, False,\n",
       "         False]),\n",
       "  array([False, False, False, False, False, False, False, False, False,\n",
       "          True]),\n",
       "  array([False, False, False, False, False, False, False, False,  True,\n",
       "         False]),\n",
       "  array([False, False, False, False, False, False, False,  True, False,\n",
       "         False]),\n",
       "  array([False, False,  True, False, False, False, False, False, False,\n",
       "         False]),\n",
       "  array([False, False, False, False,  True, False, False, False, False,\n",
       "         False]),\n",
       "  array([False,  True, False, False, False, False, False, False, False,\n",
       "         False]),\n",
       "  array([False, False, False, False, False, False, False, False, False,\n",
       "          True]),\n",
       "  array([False, False,  True, False, False, False, False, False, False,\n",
       "         False]),\n",
       "  array([ True, False, False, False, False, False, False, False, False,\n",
       "         False]),\n",
       "  array([False, False, False, False, False,  True, False, False, False,\n",
       "         False]),\n",
       "  array([False, False, False,  True, False, False, False, False, False,\n",
       "         False]),\n",
       "  array([False, False, False,  True, False, False, False, False, False,\n",
       "         False]),\n",
       "  array([False,  True, False, False, False, False, False, False, False,\n",
       "         False]),\n",
       "  array([False, False, False,  True, False, False, False, False, False,\n",
       "         False]),\n",
       "  array([False, False, False, False, False, False, False, False,  True,\n",
       "         False]),\n",
       "  array([ True, False, False, False, False, False, False, False, False,\n",
       "         False]),\n",
       "  array([ True, False, False, False, False, False, False, False, False,\n",
       "         False]),\n",
       "  array([False, False,  True, False, False, False, False, False, False,\n",
       "         False]),\n",
       "  array([False, False, False,  True, False, False, False, False, False,\n",
       "         False]),\n",
       "  array([False, False, False, False, False, False,  True, False, False,\n",
       "         False]),\n",
       "  array([ True, False, False, False, False, False, False, False, False,\n",
       "         False]),\n",
       "  array([False, False,  True, False, False, False, False, False, False,\n",
       "         False]),\n",
       "  array([False,  True, False, False, False, False, False, False, False,\n",
       "         False]),\n",
       "  array([False, False, False, False, False, False, False,  True, False,\n",
       "         False]),\n",
       "  array([False, False, False, False, False, False, False, False,  True,\n",
       "         False]),\n",
       "  array([False, False,  True, False, False, False, False, False, False,\n",
       "         False]),\n",
       "  array([False, False,  True, False, False, False, False, False, False,\n",
       "         False]),\n",
       "  array([False, False, False, False, False, False, False, False,  True,\n",
       "         False]),\n",
       "  array([False, False, False, False, False, False, False, False, False,\n",
       "          True]),\n",
       "  array([False, False, False, False, False, False, False,  True, False,\n",
       "         False]),\n",
       "  array([False, False, False, False, False, False,  True, False, False,\n",
       "         False]),\n",
       "  array([False, False,  True, False, False, False, False, False, False,\n",
       "         False]),\n",
       "  array([False, False, False, False, False, False, False,  True, False,\n",
       "         False]),\n",
       "  array([False, False, False, False, False, False, False, False,  True,\n",
       "         False]),\n",
       "  array([False, False, False, False, False, False, False, False, False,\n",
       "          True]),\n",
       "  array([False, False, False,  True, False, False, False, False, False,\n",
       "         False]),\n",
       "  array([False, False,  True, False, False, False, False, False, False,\n",
       "         False]),\n",
       "  array([False, False, False, False, False, False, False, False, False,\n",
       "          True]),\n",
       "  array([ True, False, False, False, False, False, False, False, False,\n",
       "         False]),\n",
       "  array([False, False, False, False, False, False, False,  True, False,\n",
       "         False]),\n",
       "  array([ True, False, False, False, False, False, False, False, False,\n",
       "         False]),\n",
       "  array([False, False, False, False, False, False, False, False, False,\n",
       "          True]),\n",
       "  array([False, False, False, False, False, False, False,  True, False,\n",
       "         False]),\n",
       "  array([False,  True, False, False, False, False, False, False, False,\n",
       "         False]),\n",
       "  array([False, False, False,  True, False, False, False, False, False,\n",
       "         False]),\n",
       "  array([False, False, False, False, False,  True, False, False, False,\n",
       "         False]),\n",
       "  array([False, False, False, False, False, False, False, False,  True,\n",
       "         False]),\n",
       "  array([False, False, False, False, False, False, False, False,  True,\n",
       "         False]),\n",
       "  array([False, False,  True, False, False, False, False, False, False,\n",
       "         False]),\n",
       "  array([False, False, False, False, False,  True, False, False, False,\n",
       "         False]),\n",
       "  array([False, False, False, False, False,  True, False, False, False,\n",
       "         False]),\n",
       "  array([False, False, False,  True, False, False, False, False, False,\n",
       "         False]),\n",
       "  array([False, False, False, False, False, False, False, False, False,\n",
       "          True]),\n",
       "  array([False, False, False, False, False, False, False,  True, False,\n",
       "         False]),\n",
       "  array([False, False, False, False, False, False, False, False, False,\n",
       "          True]),\n",
       "  array([False, False, False, False, False, False,  True, False, False,\n",
       "         False]),\n",
       "  array([False, False, False, False, False, False, False,  True, False,\n",
       "         False]),\n",
       "  array([False, False, False,  True, False, False, False, False, False,\n",
       "         False]),\n",
       "  array([ True, False, False, False, False, False, False, False, False,\n",
       "         False]),\n",
       "  array([False, False, False, False,  True, False, False, False, False,\n",
       "         False]),\n",
       "  array([False, False, False, False,  True, False, False, False, False,\n",
       "         False]),\n",
       "  array([False, False, False, False, False, False, False, False,  True,\n",
       "         False]),\n",
       "  array([False,  True, False, False, False, False, False, False, False,\n",
       "         False]),\n",
       "  array([False, False, False, False, False,  True, False, False, False,\n",
       "         False]),\n",
       "  array([False, False, False, False, False, False,  True, False, False,\n",
       "         False]),\n",
       "  array([False, False, False, False, False, False, False, False,  True,\n",
       "         False]),\n",
       "  array([False, False,  True, False, False, False, False, False, False,\n",
       "         False]),\n",
       "  array([False, False, False, False, False, False, False, False,  True,\n",
       "         False]),\n",
       "  array([False, False, False, False, False, False, False, False, False,\n",
       "          True]),\n",
       "  array([False, False, False, False, False, False, False,  True, False,\n",
       "         False]),\n",
       "  array([False, False, False, False, False,  True, False, False, False,\n",
       "         False]),\n",
       "  array([False, False, False, False, False, False, False, False,  True,\n",
       "         False]),\n",
       "  array([False, False, False, False, False,  True, False, False, False,\n",
       "         False]),\n",
       "  array([False, False, False, False, False, False, False, False,  True,\n",
       "         False]),\n",
       "  array([False, False,  True, False, False, False, False, False, False,\n",
       "         False]),\n",
       "  array([False, False, False,  True, False, False, False, False, False,\n",
       "         False]),\n",
       "  array([False, False, False, False,  True, False, False, False, False,\n",
       "         False]),\n",
       "  array([ True, False, False, False, False, False, False, False, False,\n",
       "         False]),\n",
       "  array([ True, False, False, False, False, False, False, False, False,\n",
       "         False]),\n",
       "  array([ True, False, False, False, False, False, False, False, False,\n",
       "         False]),\n",
       "  array([False,  True, False, False, False, False, False, False, False,\n",
       "         False]),\n",
       "  array([False, False, False, False,  True, False, False, False, False,\n",
       "         False]),\n",
       "  array([False, False, False,  True, False, False, False, False, False,\n",
       "         False]),\n",
       "  array([ True, False, False, False, False, False, False, False, False,\n",
       "         False]),\n",
       "  array([False, False,  True, False, False, False, False, False, False,\n",
       "         False]),\n",
       "  array([False, False, False, False, False, False, False, False,  True,\n",
       "         False]),\n",
       "  array([ True, False, False, False, False, False, False, False, False,\n",
       "         False]),\n",
       "  array([False, False, False, False, False, False,  True, False, False,\n",
       "         False]),\n",
       "  array([False, False, False, False, False, False, False, False,  True,\n",
       "         False]),\n",
       "  array([False, False, False, False, False, False, False,  True, False,\n",
       "         False]),\n",
       "  array([False, False,  True, False, False, False, False, False, False,\n",
       "         False]),\n",
       "  array([False, False,  True, False, False, False, False, False, False,\n",
       "         False]),\n",
       "  array([ True, False, False, False, False, False, False, False, False,\n",
       "         False]),\n",
       "  array([False, False, False, False, False, False, False, False,  True,\n",
       "         False]),\n",
       "  array([False, False, False, False, False, False, False, False,  True,\n",
       "         False]),\n",
       "  array([False, False, False,  True, False, False, False, False, False,\n",
       "         False]),\n",
       "  array([False,  True, False, False, False, False, False, False, False,\n",
       "         False]),\n",
       "  array([False, False, False, False, False, False, False, False,  True,\n",
       "         False]),\n",
       "  array([False, False,  True, False, False, False, False, False, False,\n",
       "         False]),\n",
       "  array([False, False, False, False, False, False,  True, False, False,\n",
       "         False]),\n",
       "  array([False, False, False, False, False, False,  True, False, False,\n",
       "         False]),\n",
       "  array([False, False, False, False, False, False, False, False,  True,\n",
       "         False]),\n",
       "  array([False, False, False, False,  True, False, False, False, False,\n",
       "         False]),\n",
       "  array([False, False, False, False, False,  True, False, False, False,\n",
       "         False]),\n",
       "  array([False, False, False, False,  True, False, False, False, False,\n",
       "         False]),\n",
       "  array([False, False, False,  True, False, False, False, False, False,\n",
       "         False]),\n",
       "  array([False, False, False, False, False, False, False, False,  True,\n",
       "         False]),\n",
       "  array([False, False, False, False, False, False,  True, False, False,\n",
       "         False]),\n",
       "  array([False, False, False, False, False, False, False,  True, False,\n",
       "         False]),\n",
       "  array([ True, False, False, False, False, False, False, False, False,\n",
       "         False]),\n",
       "  array([False, False, False, False, False, False, False, False,  True,\n",
       "         False]),\n",
       "  array([False, False, False,  True, False, False, False, False, False,\n",
       "         False]),\n",
       "  array([False,  True, False, False, False, False, False, False, False,\n",
       "         False]),\n",
       "  array([False,  True, False, False, False, False, False, False, False,\n",
       "         False]),\n",
       "  array([False, False,  True, False, False, False, False, False, False,\n",
       "         False]),\n",
       "  array([False,  True, False, False, False, False, False, False, False,\n",
       "         False]),\n",
       "  array([False, False, False, False,  True, False, False, False, False,\n",
       "         False]),\n",
       "  array([False,  True, False, False, False, False, False, False, False,\n",
       "         False]),\n",
       "  array([False, False, False, False, False, False,  True, False, False,\n",
       "         False]),\n",
       "  array([False, False, False, False, False, False, False,  True, False,\n",
       "         False]),\n",
       "  array([False, False, False, False, False,  True, False, False, False,\n",
       "         False]),\n",
       "  array([ True, False, False, False, False, False, False, False, False,\n",
       "         False]),\n",
       "  array([False, False, False,  True, False, False, False, False, False,\n",
       "         False]),\n",
       "  array([ True, False, False, False, False, False, False, False, False,\n",
       "         False]),\n",
       "  array([False, False, False, False, False,  True, False, False, False,\n",
       "         False]),\n",
       "  array([False, False,  True, False, False, False, False, False, False,\n",
       "         False]),\n",
       "  array([False, False, False, False, False,  True, False, False, False,\n",
       "         False]),\n",
       "  array([False,  True, False, False, False, False, False, False, False,\n",
       "         False]),\n",
       "  array([False, False, False, False, False, False, False, False, False,\n",
       "          True]),\n",
       "  array([ True, False, False, False, False, False, False, False, False,\n",
       "         False]),\n",
       "  array([False, False, False, False, False, False, False, False,  True,\n",
       "         False]),\n",
       "  array([False, False, False, False, False,  True, False, False, False,\n",
       "         False]),\n",
       "  array([False, False, False,  True, False, False, False, False, False,\n",
       "         False]),\n",
       "  array([False, False, False, False, False, False,  True, False, False,\n",
       "         False]),\n",
       "  array([False, False, False, False, False, False, False, False, False,\n",
       "          True]),\n",
       "  array([False, False,  True, False, False, False, False, False, False,\n",
       "         False]),\n",
       "  array([False, False, False, False,  True, False, False, False, False,\n",
       "         False]),\n",
       "  array([False,  True, False, False, False, False, False, False, False,\n",
       "         False]),\n",
       "  array([False, False, False, False, False, False,  True, False, False,\n",
       "         False]),\n",
       "  array([False, False, False, False,  True, False, False, False, False,\n",
       "         False]),\n",
       "  array([False, False, False, False, False, False, False,  True, False,\n",
       "         False]),\n",
       "  array([False, False, False,  True, False, False, False, False, False,\n",
       "         False]),\n",
       "  array([False, False,  True, False, False, False, False, False, False,\n",
       "         False]),\n",
       "  array([False,  True, False, False, False, False, False, False, False,\n",
       "         False]),\n",
       "  array([False, False, False, False, False, False, False,  True, False,\n",
       "         False]),\n",
       "  array([False, False, False, False, False, False,  True, False, False,\n",
       "         False]),\n",
       "  array([False,  True, False, False, False, False, False, False, False,\n",
       "         False]),\n",
       "  array([False, False, False, False, False,  True, False, False, False,\n",
       "         False]),\n",
       "  array([False, False, False, False, False,  True, False, False, False,\n",
       "         False]),\n",
       "  array([False, False, False, False, False, False, False, False,  True,\n",
       "         False]),\n",
       "  array([False, False, False,  True, False, False, False, False, False,\n",
       "         False]),\n",
       "  array([False, False,  True, False, False, False, False, False, False,\n",
       "         False]),\n",
       "  array([False, False, False, False, False,  True, False, False, False,\n",
       "         False]),\n",
       "  array([False, False, False, False, False, False, False, False,  True,\n",
       "         False]),\n",
       "  array([False, False, False, False, False,  True, False, False, False,\n",
       "         False]),\n",
       "  array([False, False, False,  True, False, False, False, False, False,\n",
       "         False]),\n",
       "  array([False, False, False, False, False,  True, False, False, False,\n",
       "         False]),\n",
       "  array([False, False, False, False, False, False, False, False, False,\n",
       "          True]),\n",
       "  array([False, False, False, False, False, False, False,  True, False,\n",
       "         False]),\n",
       "  array([False,  True, False, False, False, False, False, False, False,\n",
       "         False]),\n",
       "  array([False, False, False, False, False, False, False,  True, False,\n",
       "         False]),\n",
       "  array([False, False, False, False, False,  True, False, False, False,\n",
       "         False]),\n",
       "  array([False, False, False,  True, False, False, False, False, False,\n",
       "         False]),\n",
       "  array([False, False,  True, False, False, False, False, False, False,\n",
       "         False]),\n",
       "  array([False,  True, False, False, False, False, False, False, False,\n",
       "         False]),\n",
       "  array([False, False,  True, False, False, False, False, False, False,\n",
       "         False]),\n",
       "  array([False, False, False, False, False, False, False,  True, False,\n",
       "         False]),\n",
       "  array([False, False, False, False, False, False, False,  True, False,\n",
       "         False]),\n",
       "  array([ True, False, False, False, False, False, False, False, False,\n",
       "         False]),\n",
       "  array([False, False, False, False,  True, False, False, False, False,\n",
       "         False]),\n",
       "  array([False, False, False, False, False, False, False, False,  True,\n",
       "         False]),\n",
       "  array([False, False,  True, False, False, False, False, False, False,\n",
       "         False]),\n",
       "  array([False, False, False,  True, False, False, False, False, False,\n",
       "         False]),\n",
       "  array([False, False, False, False, False, False, False, False, False,\n",
       "          True]),\n",
       "  array([False, False, False, False, False, False, False, False,  True,\n",
       "         False]),\n",
       "  array([False,  True, False, False, False, False, False, False, False,\n",
       "         False]),\n",
       "  array([False, False, False, False, False, False, False, False, False,\n",
       "          True]),\n",
       "  array([False, False,  True, False, False, False, False, False, False,\n",
       "         False]),\n",
       "  array([False, False, False, False, False, False, False, False, False,\n",
       "          True]),\n",
       "  array([False, False, False, False,  True, False, False, False, False,\n",
       "         False]),\n",
       "  array([False, False,  True, False, False, False, False, False, False,\n",
       "         False]),\n",
       "  array([False, False, False, False, False, False, False, False,  True,\n",
       "         False]),\n",
       "  array([False, False,  True, False, False, False, False, False, False,\n",
       "         False]),\n",
       "  array([False, False, False, False, False, False, False, False, False,\n",
       "          True]),\n",
       "  array([False, False, False, False, False, False, False,  True, False,\n",
       "         False]),\n",
       "  array([False, False, False, False, False, False, False, False, False,\n",
       "          True]),\n",
       "  array([False,  True, False, False, False, False, False, False, False,\n",
       "         False]),\n",
       "  array([False, False,  True, False, False, False, False, False, False,\n",
       "         False]),\n",
       "  array([False, False, False, False, False, False,  True, False, False,\n",
       "         False]),\n",
       "  array([False, False, False, False,  True, False, False, False, False,\n",
       "         False]),\n",
       "  array([False, False, False, False, False, False, False, False,  True,\n",
       "         False]),\n",
       "  array([False, False, False, False, False, False,  True, False, False,\n",
       "         False]),\n",
       "  array([False, False, False, False, False,  True, False, False, False,\n",
       "         False]),\n",
       "  array([False,  True, False, False, False, False, False, False, False,\n",
       "         False]),\n",
       "  array([False, False, False, False, False, False, False,  True, False,\n",
       "         False]),\n",
       "  array([False, False, False, False, False,  True, False, False, False,\n",
       "         False]),\n",
       "  array([False, False, False, False, False, False,  True, False, False,\n",
       "         False]),\n",
       "  array([False, False, False, False, False, False, False, False, False,\n",
       "          True]),\n",
       "  array([ True, False, False, False, False, False, False, False, False,\n",
       "         False]),\n",
       "  array([False, False, False, False, False,  True, False, False, False,\n",
       "         False]),\n",
       "  array([False, False,  True, False, False, False, False, False, False,\n",
       "         False]),\n",
       "  array([False,  True, False, False, False, False, False, False, False,\n",
       "         False]),\n",
       "  array([False, False, False, False,  True, False, False, False, False,\n",
       "         False]),\n",
       "  array([False, False, False, False,  True, False, False, False, False,\n",
       "         False]),\n",
       "  array([False, False, False, False,  True, False, False, False, False,\n",
       "         False]),\n",
       "  array([False, False, False, False, False, False, False, False, False,\n",
       "          True]),\n",
       "  array([ True, False, False, False, False, False, False, False, False,\n",
       "         False]),\n",
       "  array([False, False, False, False, False,  True, False, False, False,\n",
       "         False]),\n",
       "  array([False, False, False, False, False, False, False,  True, False,\n",
       "         False]),\n",
       "  array([False, False, False, False,  True, False, False, False, False,\n",
       "         False]),\n",
       "  array([False, False, False, False, False, False,  True, False, False,\n",
       "         False]),\n",
       "  array([ True, False, False, False, False, False, False, False, False,\n",
       "         False]),\n",
       "  array([False, False, False, False, False, False, False, False, False,\n",
       "          True]),\n",
       "  array([False, False,  True, False, False, False, False, False, False,\n",
       "         False]),\n",
       "  array([False, False, False, False, False, False, False, False,  True,\n",
       "         False]),\n",
       "  array([False, False, False, False, False, False, False, False, False,\n",
       "          True]),\n",
       "  array([False, False, False, False, False, False, False, False, False,\n",
       "          True]),\n",
       "  array([False, False, False, False, False,  True, False, False, False,\n",
       "         False]),\n",
       "  array([False, False, False, False, False, False, False, False, False,\n",
       "          True]),\n",
       "  array([False, False, False, False, False,  True, False, False, False,\n",
       "         False]),\n",
       "  array([False, False, False, False, False, False, False, False,  True,\n",
       "         False]),\n",
       "  array([False, False, False, False, False, False, False,  True, False,\n",
       "         False]),\n",
       "  array([False, False, False, False,  True, False, False, False, False,\n",
       "         False]),\n",
       "  array([False, False, False, False, False, False, False, False, False,\n",
       "          True]),\n",
       "  array([False, False, False, False,  True, False, False, False, False,\n",
       "         False]),\n",
       "  array([False, False, False, False, False,  True, False, False, False,\n",
       "         False]),\n",
       "  array([False, False, False, False,  True, False, False, False, False,\n",
       "         False]),\n",
       "  array([False, False,  True, False, False, False, False, False, False,\n",
       "         False]),\n",
       "  array([False, False, False, False, False,  True, False, False, False,\n",
       "         False]),\n",
       "  array([ True, False, False, False, False, False, False, False, False,\n",
       "         False]),\n",
       "  array([False, False, False, False, False, False, False, False,  True,\n",
       "         False]),\n",
       "  array([False,  True, False, False, False, False, False, False, False,\n",
       "         False]),\n",
       "  array([False, False, False, False, False, False, False,  True, False,\n",
       "         False]),\n",
       "  array([ True, False, False, False, False, False, False, False, False,\n",
       "         False]),\n",
       "  array([False, False, False, False,  True, False, False, False, False,\n",
       "         False]),\n",
       "  array([False, False, False, False, False, False, False,  True, False,\n",
       "         False]),\n",
       "  array([False, False,  True, False, False, False, False, False, False,\n",
       "         False]),\n",
       "  array([False, False, False, False, False, False, False, False,  True,\n",
       "         False]),\n",
       "  array([False, False, False, False, False, False,  True, False, False,\n",
       "         False]),\n",
       "  array([False, False,  True, False, False, False, False, False, False,\n",
       "         False]),\n",
       "  array([False, False, False,  True, False, False, False, False, False,\n",
       "         False]),\n",
       "  array([False, False, False, False, False, False, False, False, False,\n",
       "          True]),\n",
       "  array([False, False, False, False, False, False,  True, False, False,\n",
       "         False]),\n",
       "  array([False, False, False, False, False,  True, False, False, False,\n",
       "         False]),\n",
       "  array([False, False, False, False, False, False, False,  True, False,\n",
       "         False]),\n",
       "  array([False,  True, False, False, False, False, False, False, False,\n",
       "         False]),\n",
       "  array([False, False, False,  True, False, False, False, False, False,\n",
       "         False]),\n",
       "  array([False, False, False,  True, False, False, False, False, False,\n",
       "         False]),\n",
       "  array([False, False, False, False, False, False, False,  True, False,\n",
       "         False]),\n",
       "  array([False, False, False, False, False, False,  True, False, False,\n",
       "         False]),\n",
       "  array([ True, False, False, False, False, False, False, False, False,\n",
       "         False]),\n",
       "  array([False, False, False, False, False, False,  True, False, False,\n",
       "         False]),\n",
       "  array([ True, False, False, False, False, False, False, False, False,\n",
       "         False]),\n",
       "  array([False,  True, False, False, False, False, False, False, False,\n",
       "         False]),\n",
       "  array([False, False, False,  True, False, False, False, False, False,\n",
       "         False]),\n",
       "  array([False, False,  True, False, False, False, False, False, False,\n",
       "         False]),\n",
       "  array([False, False, False,  True, False, False, False, False, False,\n",
       "         False]),\n",
       "  array([False, False, False, False,  True, False, False, False, False,\n",
       "         False]),\n",
       "  array([False, False, False,  True, False, False, False, False, False,\n",
       "         False]),\n",
       "  array([False, False, False, False, False, False, False, False, False,\n",
       "          True]),\n",
       "  array([False, False, False, False, False, False, False, False,  True,\n",
       "         False]),\n",
       "  array([False, False, False, False,  True, False, False, False, False,\n",
       "         False]),\n",
       "  array([False, False, False, False, False,  True, False, False, False,\n",
       "         False]),\n",
       "  array([False, False,  True, False, False, False, False, False, False,\n",
       "         False]),\n",
       "  array([False, False, False, False, False, False, False,  True, False,\n",
       "         False]),\n",
       "  array([False, False, False, False, False, False, False, False, False,\n",
       "          True]),\n",
       "  array([False,  True, False, False, False, False, False, False, False,\n",
       "         False]),\n",
       "  array([False, False, False, False, False, False, False, False,  True,\n",
       "         False]),\n",
       "  array([False, False, False, False, False, False, False, False,  True,\n",
       "         False]),\n",
       "  array([False, False, False, False, False, False, False, False,  True,\n",
       "         False]),\n",
       "  array([False, False, False, False, False,  True, False, False, False,\n",
       "         False]),\n",
       "  array([False, False, False, False, False, False, False, False,  True,\n",
       "         False]),\n",
       "  array([False, False, False, False, False, False,  True, False, False,\n",
       "         False]),\n",
       "  array([False, False,  True, False, False, False, False, False, False,\n",
       "         False]),\n",
       "  array([ True, False, False, False, False, False, False, False, False,\n",
       "         False]),\n",
       "  array([False,  True, False, False, False, False, False, False, False,\n",
       "         False]),\n",
       "  array([False,  True, False, False, False, False, False, False, False,\n",
       "         False]),\n",
       "  array([False, False, False, False, False, False,  True, False, False,\n",
       "         False]),\n",
       "  array([False, False, False, False, False, False, False, False, False,\n",
       "          True]),\n",
       "  array([False, False,  True, False, False, False, False, False, False,\n",
       "         False]),\n",
       "  array([False, False, False, False, False, False, False, False,  True,\n",
       "         False]),\n",
       "  array([False, False, False, False, False,  True, False, False, False,\n",
       "         False]),\n",
       "  array([False, False, False, False, False, False,  True, False, False,\n",
       "         False]),\n",
       "  array([ True, False, False, False, False, False, False, False, False,\n",
       "         False]),\n",
       "  array([ True, False, False, False, False, False, False, False, False,\n",
       "         False]),\n",
       "  array([False, False, False, False, False,  True, False, False, False,\n",
       "         False]),\n",
       "  array([False, False, False, False, False, False, False, False, False,\n",
       "          True]),\n",
       "  array([False, False, False, False, False, False, False,  True, False,\n",
       "         False]),\n",
       "  array([False, False,  True, False, False, False, False, False, False,\n",
       "         False]),\n",
       "  array([False, False, False,  True, False, False, False, False, False,\n",
       "         False]),\n",
       "  array([False, False, False, False, False, False,  True, False, False,\n",
       "         False]),\n",
       "  array([False, False, False, False,  True, False, False, False, False,\n",
       "         False]),\n",
       "  array([ True, False, False, False, False, False, False, False, False,\n",
       "         False]),\n",
       "  array([False, False, False, False, False, False, False,  True, False,\n",
       "         False]),\n",
       "  array([ True, False, False, False, False, False, False, False, False,\n",
       "         False]),\n",
       "  array([ True, False, False, False, False, False, False, False, False,\n",
       "         False]),\n",
       "  array([False, False, False, False, False, False, False, False, False,\n",
       "          True]),\n",
       "  array([False, False, False,  True, False, False, False, False, False,\n",
       "         False]),\n",
       "  array([False, False,  True, False, False, False, False, False, False,\n",
       "         False]),\n",
       "  array([False, False, False,  True, False, False, False, False, False,\n",
       "         False]),\n",
       "  array([False, False, False,  True, False, False, False, False, False,\n",
       "         False]),\n",
       "  array([False, False, False, False, False, False, False, False, False,\n",
       "          True]),\n",
       "  array([False, False, False,  True, False, False, False, False, False,\n",
       "         False]),\n",
       "  array([False,  True, False, False, False, False, False, False, False,\n",
       "         False]),\n",
       "  array([ True, False, False, False, False, False, False, False, False,\n",
       "         False]),\n",
       "  array([False, False, False, False, False, False, False, False,  True,\n",
       "         False]),\n",
       "  array([False, False, False, False,  True, False, False, False, False,\n",
       "         False]),\n",
       "  array([False, False, False, False, False, False,  True, False, False,\n",
       "         False]),\n",
       "  array([ True, False, False, False, False, False, False, False, False,\n",
       "         False]),\n",
       "  array([False, False, False, False, False,  True, False, False, False,\n",
       "         False]),\n",
       "  array([False, False, False, False,  True, False, False, False, False,\n",
       "         False]),\n",
       "  array([False, False, False, False, False, False, False, False,  True,\n",
       "         False]),\n",
       "  array([False, False, False, False, False,  True, False, False, False,\n",
       "         False]),\n",
       "  array([False, False, False, False, False,  True, False, False, False,\n",
       "         False]),\n",
       "  array([False, False,  True, False, False, False, False, False, False,\n",
       "         False]),\n",
       "  array([False, False, False, False, False, False,  True, False, False,\n",
       "         False]),\n",
       "  array([False,  True, False, False, False, False, False, False, False,\n",
       "         False]),\n",
       "  array([False,  True, False, False, False, False, False, False, False,\n",
       "         False]),\n",
       "  array([False,  True, False, False, False, False, False, False, False,\n",
       "         False]),\n",
       "  array([False, False, False,  True, False, False, False, False, False,\n",
       "         False]),\n",
       "  array([False, False, False, False, False, False,  True, False, False,\n",
       "         False]),\n",
       "  array([False,  True, False, False, False, False, False, False, False,\n",
       "         False]),\n",
       "  array([False, False,  True, False, False, False, False, False, False,\n",
       "         False]),\n",
       "  array([False, False, False, False, False, False, False, False,  True,\n",
       "         False]),\n",
       "  array([False, False,  True, False, False, False, False, False, False,\n",
       "         False]),\n",
       "  array([False,  True, False, False, False, False, False, False, False,\n",
       "         False]),\n",
       "  array([False, False, False, False,  True, False, False, False, False,\n",
       "         False]),\n",
       "  array([False, False, False, False, False, False, False,  True, False,\n",
       "         False]),\n",
       "  array([False, False, False, False, False, False,  True, False, False,\n",
       "         False]),\n",
       "  array([False, False, False, False, False,  True, False, False, False,\n",
       "         False]),\n",
       "  array([False, False, False, False, False, False, False, False, False,\n",
       "          True]),\n",
       "  array([False, False, False, False,  True, False, False, False, False,\n",
       "         False]),\n",
       "  array([False, False, False, False, False, False,  True, False, False,\n",
       "         False]),\n",
       "  array([ True, False, False, False, False, False, False, False, False,\n",
       "         False]),\n",
       "  array([False,  True, False, False, False, False, False, False, False,\n",
       "         False]),\n",
       "  array([False, False, False,  True, False, False, False, False, False,\n",
       "         False]),\n",
       "  array([ True, False, False, False, False, False, False, False, False,\n",
       "         False]),\n",
       "  array([False,  True, False, False, False, False, False, False, False,\n",
       "         False]),\n",
       "  array([False, False, False, False, False, False, False,  True, False,\n",
       "         False]),\n",
       "  array([False, False, False, False, False, False, False,  True, False,\n",
       "         False]),\n",
       "  array([False, False, False, False, False, False, False,  True, False,\n",
       "         False]),\n",
       "  array([False, False, False, False, False, False, False, False,  True,\n",
       "         False]),\n",
       "  array([False, False, False,  True, False, False, False, False, False,\n",
       "         False]),\n",
       "  array([ True, False, False, False, False, False, False, False, False,\n",
       "         False]),\n",
       "  array([False, False,  True, False, False, False, False, False, False,\n",
       "         False]),\n",
       "  array([False, False,  True, False, False, False, False, False, False,\n",
       "         False]),\n",
       "  array([False, False, False, False, False, False, False, False, False,\n",
       "          True]),\n",
       "  array([False, False, False, False, False, False, False,  True, False,\n",
       "         False]),\n",
       "  array([False, False, False,  True, False, False, False, False, False,\n",
       "         False]),\n",
       "  array([False,  True, False, False, False, False, False, False, False,\n",
       "         False]),\n",
       "  array([False, False, False, False, False, False, False,  True, False,\n",
       "         False]),\n",
       "  array([False, False, False, False, False, False, False, False, False,\n",
       "          True]),\n",
       "  array([False, False, False, False,  True, False, False, False, False,\n",
       "         False]),\n",
       "  array([ True, False, False, False, False, False, False, False, False,\n",
       "         False]),\n",
       "  array([False, False,  True, False, False, False, False, False, False,\n",
       "         False]),\n",
       "  array([False, False, False, False, False, False,  True, False, False,\n",
       "         False]),\n",
       "  array([False, False, False, False, False, False, False, False,  True,\n",
       "         False]),\n",
       "  array([False, False, False, False, False, False, False, False, False,\n",
       "          True]),\n",
       "  array([ True, False, False, False, False, False, False, False, False,\n",
       "         False]),\n",
       "  array([False, False, False, False, False, False, False,  True, False,\n",
       "         False]),\n",
       "  array([ True, False, False, False, False, False, False, False, False,\n",
       "         False]),\n",
       "  array([False, False, False, False, False, False, False, False, False,\n",
       "          True]),\n",
       "  array([False, False, False, False, False, False,  True, False, False,\n",
       "         False]),\n",
       "  array([False, False, False,  True, False, False, False, False, False,\n",
       "         False]),\n",
       "  array([False, False, False, False, False, False, False, False, False,\n",
       "          True]),\n",
       "  array([ True, False, False, False, False, False, False, False, False,\n",
       "         False]),\n",
       "  array([False, False,  True, False, False, False, False, False, False,\n",
       "         False]),\n",
       "  array([False, False, False, False, False, False, False, False,  True,\n",
       "         False]),\n",
       "  array([False, False, False, False, False, False, False,  True, False,\n",
       "         False]),\n",
       "  array([False, False, False,  True, False, False, False, False, False,\n",
       "         False]),\n",
       "  array([False, False, False, False, False, False, False,  True, False,\n",
       "         False]),\n",
       "  array([False, False, False, False, False, False, False,  True, False,\n",
       "         False]),\n",
       "  array([False, False, False, False,  True, False, False, False, False,\n",
       "         False]),\n",
       "  array([False, False, False,  True, False, False, False, False, False,\n",
       "         False]),\n",
       "  array([False, False, False, False,  True, False, False, False, False,\n",
       "         False]),\n",
       "  array([False, False, False, False, False, False,  True, False, False,\n",
       "         False]),\n",
       "  array([ True, False, False, False, False, False, False, False, False,\n",
       "         False]),\n",
       "  array([False, False, False, False, False,  True, False, False, False,\n",
       "         False]),\n",
       "  array([False, False, False, False, False, False, False, False,  True,\n",
       "         False]),\n",
       "  array([False, False, False, False, False,  True, False, False, False,\n",
       "         False]),\n",
       "  array([False, False, False, False, False, False,  True, False, False,\n",
       "         False]),\n",
       "  array([False, False, False, False, False,  True, False, False, False,\n",
       "         False]),\n",
       "  array([False, False,  True, False, False, False, False, False, False,\n",
       "         False]),\n",
       "  array([False, False, False,  True, False, False, False, False, False,\n",
       "         False]),\n",
       "  array([False, False, False, False, False, False,  True, False, False,\n",
       "         False]),\n",
       "  array([False, False,  True, False, False, False, False, False, False,\n",
       "         False]),\n",
       "  array([False, False, False, False, False, False, False, False, False,\n",
       "          True]),\n",
       "  array([False, False, False, False,  True, False, False, False, False,\n",
       "         False]),\n",
       "  array([False, False, False, False, False, False,  True, False, False,\n",
       "         False]),\n",
       "  array([False, False, False, False, False,  True, False, False, False,\n",
       "         False]),\n",
       "  array([False, False, False, False, False, False, False,  True, False,\n",
       "         False]),\n",
       "  array([False, False, False, False, False,  True, False, False, False,\n",
       "         False]),\n",
       "  array([False,  True, False, False, False, False, False, False, False,\n",
       "         False]),\n",
       "  array([False, False, False, False,  True, False, False, False, False,\n",
       "         False]),\n",
       "  array([False, False, False, False, False, False, False, False, False,\n",
       "          True]),\n",
       "  array([False, False, False, False, False, False, False, False,  True,\n",
       "         False]),\n",
       "  array([False,  True, False, False, False, False, False, False, False,\n",
       "         False]),\n",
       "  array([False, False, False, False, False, False,  True, False, False,\n",
       "         False]),\n",
       "  array([False, False, False, False, False, False, False,  True, False,\n",
       "         False]),\n",
       "  array([False, False, False, False, False, False, False, False, False,\n",
       "          True]),\n",
       "  array([False, False, False, False, False, False,  True, False, False,\n",
       "         False]),\n",
       "  array([False, False, False,  True, False, False, False, False, False,\n",
       "         False]),\n",
       "  array([ True, False, False, False, False, False, False, False, False,\n",
       "         False]),\n",
       "  array([False, False, False, False, False,  True, False, False, False,\n",
       "         False]),\n",
       "  array([False, False, False, False, False, False, False,  True, False,\n",
       "         False]),\n",
       "  array([False,  True, False, False, False, False, False, False, False,\n",
       "         False]),\n",
       "  array([False, False, False, False, False,  True, False, False, False,\n",
       "         False]),\n",
       "  array([False, False, False, False,  True, False, False, False, False,\n",
       "         False]),\n",
       "  array([False, False, False, False, False, False, False, False, False,\n",
       "          True]),\n",
       "  array([False, False, False, False,  True, False, False, False, False,\n",
       "         False]),\n",
       "  array([False, False, False, False, False, False,  True, False, False,\n",
       "         False]),\n",
       "  array([False, False, False, False,  True, False, False, False, False,\n",
       "         False]),\n",
       "  array([False, False, False, False, False, False, False, False, False,\n",
       "          True]),\n",
       "  array([False, False, False,  True, False, False, False, False, False,\n",
       "         False]),\n",
       "  array([False, False, False, False, False, False, False, False, False,\n",
       "          True]),\n",
       "  array([False, False,  True, False, False, False, False, False, False,\n",
       "         False]),\n",
       "  array([False, False, False,  True, False, False, False, False, False,\n",
       "         False]),\n",
       "  array([False, False, False, False,  True, False, False, False, False,\n",
       "         False]),\n",
       "  array([ True, False, False, False, False, False, False, False, False,\n",
       "         False]),\n",
       "  array([False, False, False, False, False,  True, False, False, False,\n",
       "         False]),\n",
       "  array([False, False, False, False,  True, False, False, False, False,\n",
       "         False]),\n",
       "  array([False, False, False, False, False,  True, False, False, False,\n",
       "         False]),\n",
       "  array([False,  True, False, False, False, False, False, False, False,\n",
       "         False]),\n",
       "  array([False, False, False, False, False, False, False, False, False,\n",
       "          True]),\n",
       "  array([False,  True, False, False, False, False, False, False, False,\n",
       "         False]),\n",
       "  array([False,  True, False, False, False, False, False, False, False,\n",
       "         False]),\n",
       "  array([False, False, False, False, False, False, False, False,  True,\n",
       "         False]),\n",
       "  array([False, False, False, False, False, False,  True, False, False,\n",
       "         False]),\n",
       "  array([False,  True, False, False, False, False, False, False, False,\n",
       "         False]),\n",
       "  array([False, False, False, False, False, False,  True, False, False,\n",
       "         False]),\n",
       "  array([ True, False, False, False, False, False, False, False, False,\n",
       "         False]),\n",
       "  array([ True, False, False, False, False, False, False, False, False,\n",
       "         False]),\n",
       "  array([False,  True, False, False, False, False, False, False, False,\n",
       "         False]),\n",
       "  array([False,  True, False, False, False, False, False, False, False,\n",
       "         False]),\n",
       "  array([False, False, False, False,  True, False, False, False, False,\n",
       "         False]),\n",
       "  array([False, False, False, False, False,  True, False, False, False,\n",
       "         False]),\n",
       "  array([False, False, False, False,  True, False, False, False, False,\n",
       "         False]),\n",
       "  array([False, False, False, False, False, False, False,  True, False,\n",
       "         False]),\n",
       "  array([False, False, False, False, False, False, False, False,  True,\n",
       "         False]),\n",
       "  array([False, False,  True, False, False, False, False, False, False,\n",
       "         False]),\n",
       "  array([False, False, False, False, False, False,  True, False, False,\n",
       "         False]),\n",
       "  array([False, False, False,  True, False, False, False, False, False,\n",
       "         False]),\n",
       "  array([False, False, False, False, False,  True, False, False, False,\n",
       "         False]),\n",
       "  array([False, False, False, False, False, False,  True, False, False,\n",
       "         False]),\n",
       "  array([False,  True, False, False, False, False, False, False, False,\n",
       "         False]),\n",
       "  array([False, False, False, False, False, False, False, False,  True,\n",
       "         False]),\n",
       "  array([False, False, False,  True, False, False, False, False, False,\n",
       "         False]),\n",
       "  array([False, False, False, False,  True, False, False, False, False,\n",
       "         False]),\n",
       "  array([False, False,  True, False, False, False, False, False, False,\n",
       "         False]),\n",
       "  array([ True, False, False, False, False, False, False, False, False,\n",
       "         False]),\n",
       "  array([False, False, False, False, False, False, False, False,  True,\n",
       "         False]),\n",
       "  array([False, False, False, False, False, False, False,  True, False,\n",
       "         False]),\n",
       "  array([False, False, False, False, False, False,  True, False, False,\n",
       "         False]),\n",
       "  array([False, False, False, False, False, False, False,  True, False,\n",
       "         False]),\n",
       "  array([False, False, False, False,  True, False, False, False, False,\n",
       "         False]),\n",
       "  array([False, False, False, False, False,  True, False, False, False,\n",
       "         False]),\n",
       "  array([False, False, False, False, False, False,  True, False, False,\n",
       "         False]),\n",
       "  array([False, False,  True, False, False, False, False, False, False,\n",
       "         False]),\n",
       "  array([False, False,  True, False, False, False, False, False, False,\n",
       "         False]),\n",
       "  array([False, False, False, False, False, False, False, False, False,\n",
       "          True]),\n",
       "  array([False,  True, False, False, False, False, False, False, False,\n",
       "         False]),\n",
       "  array([False, False, False, False, False, False, False, False, False,\n",
       "          True]),\n",
       "  array([False, False, False,  True, False, False, False, False, False,\n",
       "         False]),\n",
       "  array([False, False, False,  True, False, False, False, False, False,\n",
       "         False]),\n",
       "  array([ True, False, False, False, False, False, False, False, False,\n",
       "         False]),\n",
       "  array([False, False, False, False, False, False, False, False, False,\n",
       "          True]),\n",
       "  array([ True, False, False, False, False, False, False, False, False,\n",
       "         False]),\n",
       "  array([False, False, False, False, False, False, False, False, False,\n",
       "          True]),\n",
       "  array([False, False,  True, False, False, False, False, False, False,\n",
       "         False]),\n",
       "  array([ True, False, False, False, False, False, False, False, False,\n",
       "         False]),\n",
       "  array([False, False,  True, False, False, False, False, False, False,\n",
       "         False]),\n",
       "  array([False, False, False, False, False, False,  True, False, False,\n",
       "         False]),\n",
       "  array([False, False, False,  True, False, False, False, False, False,\n",
       "         False]),\n",
       "  array([False, False, False,  True, False, False, False, False, False,\n",
       "         False]),\n",
       "  array([False, False, False, False, False, False, False, False,  True,\n",
       "         False]),\n",
       "  array([ True, False, False, False, False, False, False, False, False,\n",
       "         False]),\n",
       "  array([ True, False, False, False, False, False, False, False, False,\n",
       "         False]),\n",
       "  array([False,  True, False, False, False, False, False, False, False,\n",
       "         False]),\n",
       "  array([False, False, False, False, False, False, False, False, False,\n",
       "          True]),\n",
       "  array([False, False, False, False, False,  True, False, False, False,\n",
       "         False]),\n",
       "  array([False, False, False, False, False,  True, False, False, False,\n",
       "         False]),\n",
       "  array([False, False, False, False,  True, False, False, False, False,\n",
       "         False]),\n",
       "  array([False, False, False, False, False,  True, False, False, False,\n",
       "         False]),\n",
       "  array([False, False, False, False, False, False, False, False, False,\n",
       "          True]),\n",
       "  array([ True, False, False, False, False, False, False, False, False,\n",
       "         False]),\n",
       "  array([False, False, False,  True, False, False, False, False, False,\n",
       "         False]),\n",
       "  array([ True, False, False, False, False, False, False, False, False,\n",
       "         False]),\n",
       "  array([ True, False, False, False, False, False, False, False, False,\n",
       "         False]),\n",
       "  array([ True, False, False, False, False, False, False, False, False,\n",
       "         False]),\n",
       "  array([ True, False, False, False, False, False, False, False, False,\n",
       "         False]),\n",
       "  array([False, False, False, False, False, False,  True, False, False,\n",
       "         False]),\n",
       "  array([False, False, False, False, False, False, False, False,  True,\n",
       "         False]),\n",
       "  array([False, False, False, False, False, False, False, False,  True,\n",
       "         False]),\n",
       "  array([False, False, False, False, False,  True, False, False, False,\n",
       "         False]),\n",
       "  array([False, False, False, False, False, False,  True, False, False,\n",
       "         False]),\n",
       "  array([False, False, False, False, False, False, False,  True, False,\n",
       "         False]),\n",
       "  array([False, False, False, False, False, False, False, False, False,\n",
       "          True]),\n",
       "  array([False, False, False, False,  True, False, False, False, False,\n",
       "         False]),\n",
       "  array([False, False, False, False, False,  True, False, False, False,\n",
       "         False]),\n",
       "  array([ True, False, False, False, False, False, False, False, False,\n",
       "         False]),\n",
       "  array([False, False, False, False, False,  True, False, False, False,\n",
       "         False]),\n",
       "  array([False, False, False, False, False, False, False, False,  True,\n",
       "         False]),\n",
       "  array([False, False, False, False, False, False, False, False,  True,\n",
       "         False]),\n",
       "  array([False, False, False,  True, False, False, False, False, False,\n",
       "         False]),\n",
       "  array([False, False,  True, False, False, False, False, False, False,\n",
       "         False]),\n",
       "  array([False,  True, False, False, False, False, False, False, False,\n",
       "         False]),\n",
       "  array([False, False,  True, False, False, False, False, False, False,\n",
       "         False]),\n",
       "  array([False, False, False,  True, False, False, False, False, False,\n",
       "         False]),\n",
       "  array([ True, False, False, False, False, False, False, False, False,\n",
       "         False]),\n",
       "  array([False, False, False, False, False, False, False, False,  True,\n",
       "         False]),\n",
       "  array([False, False, False, False, False, False,  True, False, False,\n",
       "         False]),\n",
       "  array([False, False, False, False, False, False, False, False, False,\n",
       "          True]),\n",
       "  array([False, False, False, False, False, False,  True, False, False,\n",
       "         False]),\n",
       "  array([False,  True, False, False, False, False, False, False, False,\n",
       "         False]),\n",
       "  array([False, False, False,  True, False, False, False, False, False,\n",
       "         False]),\n",
       "  array([ True, False, False, False, False, False, False, False, False,\n",
       "         False]),\n",
       "  array([False,  True, False, False, False, False, False, False, False,\n",
       "         False]),\n",
       "  array([False, False, False, False, False, False, False, False,  True,\n",
       "         False]),\n",
       "  array([ True, False, False, False, False, False, False, False, False,\n",
       "         False]),\n",
       "  array([False, False,  True, False, False, False, False, False, False,\n",
       "         False]),\n",
       "  array([ True, False, False, False, False, False, False, False, False,\n",
       "         False]),\n",
       "  array([False, False, False, False, False,  True, False, False, False,\n",
       "         False]),\n",
       "  array([False, False, False, False, False, False, False, False, False,\n",
       "          True]),\n",
       "  array([False, False,  True, False, False, False, False, False, False,\n",
       "         False]),\n",
       "  array([False, False,  True, False, False, False, False, False, False,\n",
       "         False]),\n",
       "  array([False,  True, False, False, False, False, False, False, False,\n",
       "         False]),\n",
       "  array([False,  True, False, False, False, False, False, False, False,\n",
       "         False]),\n",
       "  array([False, False,  True, False, False, False, False, False, False,\n",
       "         False]),\n",
       "  array([False, False,  True, False, False, False, False, False, False,\n",
       "         False]),\n",
       "  array([False, False, False, False, False, False, False, False, False,\n",
       "          True]),\n",
       "  array([False, False, False, False, False, False, False,  True, False,\n",
       "         False]),\n",
       "  array([False, False, False, False, False, False, False, False, False,\n",
       "          True]),\n",
       "  array([False, False, False, False, False,  True, False, False, False,\n",
       "         False]),\n",
       "  array([False, False, False, False, False, False, False,  True, False,\n",
       "         False]),\n",
       "  array([False, False, False,  True, False, False, False, False, False,\n",
       "         False]),\n",
       "  array([False, False, False,  True, False, False, False, False, False,\n",
       "         False]),\n",
       "  array([False, False,  True, False, False, False, False, False, False,\n",
       "         False]),\n",
       "  array([False, False, False, False, False,  True, False, False, False,\n",
       "         False]),\n",
       "  array([False, False, False, False, False, False, False,  True, False,\n",
       "         False]),\n",
       "  array([False, False, False, False, False, False, False,  True, False,\n",
       "         False]),\n",
       "  array([False, False, False, False, False, False,  True, False, False,\n",
       "         False]),\n",
       "  array([False, False, False, False, False, False, False, False, False,\n",
       "          True]),\n",
       "  array([False, False, False, False, False, False, False,  True, False,\n",
       "         False]),\n",
       "  array([False, False,  True, False, False, False, False, False, False,\n",
       "         False]),\n",
       "  array([False, False,  True, False, False, False, False, False, False,\n",
       "         False]),\n",
       "  array([False, False, False,  True, False, False, False, False, False,\n",
       "         False]),\n",
       "  array([False,  True, False, False, False, False, False, False, False,\n",
       "         False]),\n",
       "  array([False, False, False, False, False, False,  True, False, False,\n",
       "         False]),\n",
       "  array([ True, False, False, False, False, False, False, False, False,\n",
       "         False]),\n",
       "  array([False,  True, False, False, False, False, False, False, False,\n",
       "         False]),\n",
       "  array([False, False, False, False, False, False,  True, False, False,\n",
       "         False]),\n",
       "  array([False, False, False, False, False,  True, False, False, False,\n",
       "         False]),\n",
       "  array([False, False, False, False, False, False, False,  True, False,\n",
       "         False]),\n",
       "  array([False, False, False, False, False, False, False,  True, False,\n",
       "         False]),\n",
       "  array([False, False, False, False, False, False, False, False, False,\n",
       "          True]),\n",
       "  array([False, False, False, False, False, False, False, False,  True,\n",
       "         False]),\n",
       "  array([False, False, False, False,  True, False, False, False, False,\n",
       "         False]),\n",
       "  array([ True, False, False, False, False, False, False, False, False,\n",
       "         False]),\n",
       "  array([False, False, False, False, False,  True, False, False, False,\n",
       "         False]),\n",
       "  array([False, False, False, False, False, False, False, False,  True,\n",
       "         False]),\n",
       "  array([False, False, False, False,  True, False, False, False, False,\n",
       "         False]),\n",
       "  array([False, False, False, False, False, False, False, False, False,\n",
       "          True]),\n",
       "  array([False, False, False, False, False,  True, False, False, False,\n",
       "         False]),\n",
       "  array([False, False, False, False,  True, False, False, False, False,\n",
       "         False]),\n",
       "  array([False, False, False, False, False, False, False, False,  True,\n",
       "         False]),\n",
       "  array([False,  True, False, False, False, False, False, False, False,\n",
       "         False]),\n",
       "  array([False, False, False, False, False, False, False, False,  True,\n",
       "         False]),\n",
       "  array([False, False, False,  True, False, False, False, False, False,\n",
       "         False]),\n",
       "  array([False, False,  True, False, False, False, False, False, False,\n",
       "         False]),\n",
       "  array([False, False,  True, False, False, False, False, False, False,\n",
       "         False]),\n",
       "  array([False, False, False, False,  True, False, False, False, False,\n",
       "         False]),\n",
       "  array([False, False, False, False, False, False,  True, False, False,\n",
       "         False]),\n",
       "  array([False, False,  True, False, False, False, False, False, False,\n",
       "         False]),\n",
       "  array([False, False, False, False, False,  True, False, False, False,\n",
       "         False]),\n",
       "  array([False, False, False, False, False,  True, False, False, False,\n",
       "         False]),\n",
       "  array([False, False, False, False, False, False, False, False, False,\n",
       "          True]),\n",
       "  array([False, False, False, False, False, False, False, False, False,\n",
       "          True]),\n",
       "  array([False, False, False, False, False, False, False, False, False,\n",
       "          True]),\n",
       "  array([False, False,  True, False, False, False, False, False, False,\n",
       "         False]),\n",
       "  array([False, False, False, False, False, False,  True, False, False,\n",
       "         False]),\n",
       "  array([False, False, False, False, False,  True, False, False, False,\n",
       "         False]),\n",
       "  array([False,  True, False, False, False, False, False, False, False,\n",
       "         False]),\n",
       "  array([False, False, False, False, False, False,  True, False, False,\n",
       "         False]),\n",
       "  array([False, False, False, False,  True, False, False, False, False,\n",
       "         False]),\n",
       "  array([False, False, False, False, False, False, False, False, False,\n",
       "          True]),\n",
       "  array([False, False, False, False, False, False, False, False,  True,\n",
       "         False]),\n",
       "  array([False, False, False, False, False, False, False,  True, False,\n",
       "         False]),\n",
       "  array([False, False, False, False,  True, False, False, False, False,\n",
       "         False]),\n",
       "  array([False, False, False, False,  True, False, False, False, False,\n",
       "         False]),\n",
       "  array([False, False, False, False, False,  True, False, False, False,\n",
       "         False]),\n",
       "  array([False, False, False, False, False, False, False, False,  True,\n",
       "         False]),\n",
       "  array([False, False, False,  True, False, False, False, False, False,\n",
       "         False]),\n",
       "  array([False,  True, False, False, False, False, False, False, False,\n",
       "         False]),\n",
       "  array([False, False, False, False, False, False,  True, False, False,\n",
       "         False]),\n",
       "  array([False, False, False, False, False, False,  True, False, False,\n",
       "         False]),\n",
       "  array([False, False, False, False, False, False, False,  True, False,\n",
       "         False]),\n",
       "  array([False, False, False, False, False, False,  True, False, False,\n",
       "         False]),\n",
       "  array([False, False, False, False, False, False, False,  True, False,\n",
       "         False]),\n",
       "  array([False, False,  True, False, False, False, False, False, False,\n",
       "         False]),\n",
       "  array([False, False, False, False, False, False,  True, False, False,\n",
       "         False]),\n",
       "  array([False, False, False, False, False, False, False, False, False,\n",
       "          True]),\n",
       "  array([False, False, False, False, False, False, False, False,  True,\n",
       "         False]),\n",
       "  array([False,  True, False, False, False, False, False, False, False,\n",
       "         False]),\n",
       "  array([False, False, False, False, False, False,  True, False, False,\n",
       "         False]),\n",
       "  array([False, False, False, False, False, False,  True, False, False,\n",
       "         False]),\n",
       "  array([False, False, False,  True, False, False, False, False, False,\n",
       "         False]),\n",
       "  array([False,  True, False, False, False, False, False, False, False,\n",
       "         False]),\n",
       "  array([False, False, False, False, False, False, False, False, False,\n",
       "          True]),\n",
       "  array([False, False, False, False,  True, False, False, False, False,\n",
       "         False]),\n",
       "  array([False, False, False, False, False,  True, False, False, False,\n",
       "         False]),\n",
       "  array([False, False, False, False, False, False, False, False, False,\n",
       "          True]),\n",
       "  array([False, False, False, False, False, False,  True, False, False,\n",
       "         False]),\n",
       "  array([False,  True, False, False, False, False, False, False, False,\n",
       "         False]),\n",
       "  array([False, False, False,  True, False, False, False, False, False,\n",
       "         False]),\n",
       "  array([False, False, False,  True, False, False, False, False, False,\n",
       "         False]),\n",
       "  array([False, False, False, False, False, False,  True, False, False,\n",
       "         False]),\n",
       "  array([ True, False, False, False, False, False, False, False, False,\n",
       "         False]),\n",
       "  array([ True, False, False, False, False, False, False, False, False,\n",
       "         False]),\n",
       "  array([False, False, False,  True, False, False, False, False, False,\n",
       "         False]),\n",
       "  array([False, False, False, False,  True, False, False, False, False,\n",
       "         False]),\n",
       "  array([False, False, False, False, False, False, False, False,  True,\n",
       "         False]),\n",
       "  array([False, False, False,  True, False, False, False, False, False,\n",
       "         False]),\n",
       "  array([False, False, False, False,  True, False, False, False, False,\n",
       "         False]),\n",
       "  array([False, False, False, False, False, False, False, False,  True,\n",
       "         False]),\n",
       "  array([False, False, False, False, False, False,  True, False, False,\n",
       "         False]),\n",
       "  array([ True, False, False, False, False, False, False, False, False,\n",
       "         False]),\n",
       "  array([False, False, False, False, False, False,  True, False, False,\n",
       "         False]),\n",
       "  array([ True, False, False, False, False, False, False, False, False,\n",
       "         False]),\n",
       "  array([False, False, False, False,  True, False, False, False, False,\n",
       "         False]),\n",
       "  array([False, False, False, False,  True, False, False, False, False,\n",
       "         False]),\n",
       "  array([False, False, False, False,  True, False, False, False, False,\n",
       "         False]),\n",
       "  array([False, False, False, False, False, False, False,  True, False,\n",
       "         False]),\n",
       "  array([False, False, False, False, False, False,  True, False, False,\n",
       "         False]),\n",
       "  array([False, False,  True, False, False, False, False, False, False,\n",
       "         False]),\n",
       "  array([False,  True, False, False, False, False, False, False, False,\n",
       "         False]),\n",
       "  array([False, False, False, False, False, False,  True, False, False,\n",
       "         False]),\n",
       "  array([False, False, False, False, False, False,  True, False, False,\n",
       "         False]),\n",
       "  array([False, False,  True, False, False, False, False, False, False,\n",
       "         False]),\n",
       "  array([ True, False, False, False, False, False, False, False, False,\n",
       "         False]),\n",
       "  array([False, False, False, False, False, False, False, False, False,\n",
       "          True]),\n",
       "  array([False, False, False, False, False, False,  True, False, False,\n",
       "         False]),\n",
       "  array([False, False, False, False, False, False, False,  True, False,\n",
       "         False]),\n",
       "  array([False, False, False, False, False, False, False,  True, False,\n",
       "         False]),\n",
       "  array([False, False, False, False, False, False, False,  True, False,\n",
       "         False]),\n",
       "  array([False, False, False, False, False, False,  True, False, False,\n",
       "         False]),\n",
       "  array([False,  True, False, False, False, False, False, False, False,\n",
       "         False]),\n",
       "  array([False,  True, False, False, False, False, False, False, False,\n",
       "         False]),\n",
       "  array([False, False, False, False, False, False, False, False, False,\n",
       "          True]),\n",
       "  array([False, False, False, False, False, False,  True, False, False,\n",
       "         False]),\n",
       "  array([False, False, False, False, False, False, False,  True, False,\n",
       "         False]),\n",
       "  array([False, False, False, False, False, False,  True, False, False,\n",
       "         False]),\n",
       "  array([False, False, False, False, False, False, False, False, False,\n",
       "          True]),\n",
       "  array([False, False, False, False,  True, False, False, False, False,\n",
       "         False]),\n",
       "  array([False, False,  True, False, False, False, False, False, False,\n",
       "         False]),\n",
       "  array([False, False,  True, False, False, False, False, False, False,\n",
       "         False]),\n",
       "  array([False, False, False, False, False, False, False, False,  True,\n",
       "         False]),\n",
       "  array([False, False, False, False, False,  True, False, False, False,\n",
       "         False]),\n",
       "  array([ True, False, False, False, False, False, False, False, False,\n",
       "         False]),\n",
       "  array([False, False, False, False, False,  True, False, False, False,\n",
       "         False]),\n",
       "  array([False, False, False, False, False, False, False, False,  True,\n",
       "         False]),\n",
       "  array([False, False, False, False,  True, False, False, False, False,\n",
       "         False]),\n",
       "  array([False, False, False, False, False, False,  True, False, False,\n",
       "         False]),\n",
       "  array([False, False, False, False,  True, False, False, False, False,\n",
       "         False]),\n",
       "  array([False, False,  True, False, False, False, False, False, False,\n",
       "         False]),\n",
       "  array([False, False,  True, False, False, False, False, False, False,\n",
       "         False]),\n",
       "  array([ True, False, False, False, False, False, False, False, False,\n",
       "         False]),\n",
       "  array([False, False, False, False, False, False, False, False,  True,\n",
       "         False]),\n",
       "  array([False,  True, False, False, False, False, False, False, False,\n",
       "         False]),\n",
       "  array([False, False, False, False, False,  True, False, False, False,\n",
       "         False]),\n",
       "  array([False, False, False, False, False, False, False, False,  True,\n",
       "         False]),\n",
       "  array([ True, False, False, False, False, False, False, False, False,\n",
       "         False]),\n",
       "  array([False, False, False, False, False, False, False, False,  True,\n",
       "         False]),\n",
       "  array([False, False, False, False, False, False, False, False, False,\n",
       "          True]),\n",
       "  array([False,  True, False, False, False, False, False, False, False,\n",
       "         False]),\n",
       "  array([False,  True, False, False, False, False, False, False, False,\n",
       "         False]),\n",
       "  array([False, False, False, False, False, False,  True, False, False,\n",
       "         False]),\n",
       "  array([False,  True, False, False, False, False, False, False, False,\n",
       "         False]),\n",
       "  array([False,  True, False, False, False, False, False, False, False,\n",
       "         False]),\n",
       "  array([False, False, False, False, False, False, False, False,  True,\n",
       "         False]),\n",
       "  array([ True, False, False, False, False, False, False, False, False,\n",
       "         False]),\n",
       "  array([False, False, False, False, False, False, False, False, False,\n",
       "          True]),\n",
       "  array([ True, False, False, False, False, False, False, False, False,\n",
       "         False]),\n",
       "  array([False, False, False, False, False, False, False, False, False,\n",
       "          True]),\n",
       "  array([False, False, False,  True, False, False, False, False, False,\n",
       "         False]),\n",
       "  array([False, False, False, False, False, False, False, False, False,\n",
       "          True]),\n",
       "  array([False, False, False, False, False, False,  True, False, False,\n",
       "         False]),\n",
       "  array([False, False, False,  True, False, False, False, False, False,\n",
       "         False]),\n",
       "  array([False,  True, False, False, False, False, False, False, False,\n",
       "         False]),\n",
       "  array([False, False, False, False, False, False, False, False, False,\n",
       "          True]),\n",
       "  array([False, False, False, False, False, False, False,  True, False,\n",
       "         False]),\n",
       "  array([False, False,  True, False, False, False, False, False, False,\n",
       "         False]),\n",
       "  array([ True, False, False, False, False, False, False, False, False,\n",
       "         False]),\n",
       "  array([False, False, False, False, False, False, False,  True, False,\n",
       "         False]),\n",
       "  array([False, False, False, False, False, False,  True, False, False,\n",
       "         False]),\n",
       "  array([False, False, False, False, False, False, False, False, False,\n",
       "          True]),\n",
       "  array([False, False, False, False, False, False,  True, False, False,\n",
       "         False]),\n",
       "  array([False, False, False, False, False, False, False, False,  True,\n",
       "         False]),\n",
       "  array([False, False, False, False, False, False, False,  True, False,\n",
       "         False]),\n",
       "  array([False, False, False, False,  True, False, False, False, False,\n",
       "         False]),\n",
       "  array([False, False,  True, False, False, False, False, False, False,\n",
       "         False]),\n",
       "  array([False, False, False, False, False, False, False, False,  True,\n",
       "         False]),\n",
       "  array([False,  True, False, False, False, False, False, False, False,\n",
       "         False]),\n",
       "  array([False, False, False, False, False, False, False, False,  True,\n",
       "         False]),\n",
       "  array([False, False, False, False, False, False, False, False, False,\n",
       "          True]),\n",
       "  array([False, False, False, False, False,  True, False, False, False,\n",
       "         False]),\n",
       "  array([False, False, False, False, False, False, False, False, False,\n",
       "          True]),\n",
       "  array([ True, False, False, False, False, False, False, False, False,\n",
       "         False]),\n",
       "  array([False, False, False, False, False, False,  True, False, False,\n",
       "         False]),\n",
       "  array([False,  True, False, False, False, False, False, False, False,\n",
       "         False]),\n",
       "  array([False, False,  True, False, False, False, False, False, False,\n",
       "         False]),\n",
       "  array([False, False,  True, False, False, False, False, False, False,\n",
       "         False]),\n",
       "  array([False, False,  True, False, False, False, False, False, False,\n",
       "         False]),\n",
       "  array([False, False, False, False, False, False,  True, False, False,\n",
       "         False]),\n",
       "  array([False, False, False, False, False, False, False, False,  True,\n",
       "         False]),\n",
       "  array([False, False, False,  True, False, False, False, False, False,\n",
       "         False]),\n",
       "  array([False, False, False, False, False, False, False,  True, False,\n",
       "         False]),\n",
       "  array([False, False, False, False, False, False, False,  True, False,\n",
       "         False]),\n",
       "  array([False, False, False, False, False, False, False, False, False,\n",
       "          True]),\n",
       "  array([ True, False, False, False, False, False, False, False, False,\n",
       "         False]),\n",
       "  array([False, False, False, False, False, False, False,  True, False,\n",
       "         False]),\n",
       "  array([False,  True, False, False, False, False, False, False, False,\n",
       "         False]),\n",
       "  array([ True, False, False, False, False, False, False, False, False,\n",
       "         False]),\n",
       "  array([False, False,  True, False, False, False, False, False, False,\n",
       "         False]),\n",
       "  array([ True, False, False, False, False, False, False, False, False,\n",
       "         False]),\n",
       "  array([False, False, False, False,  True, False, False, False, False,\n",
       "         False]),\n",
       "  array([False, False,  True, False, False, False, False, False, False,\n",
       "         False]),\n",
       "  array([ True, False, False, False, False, False, False, False, False,\n",
       "         False]),\n",
       "  array([ True, False, False, False, False, False, False, False, False,\n",
       "         False]),\n",
       "  array([False, False, False,  True, False, False, False, False, False,\n",
       "         False]),\n",
       "  array([False, False, False,  True, False, False, False, False, False,\n",
       "         False]),\n",
       "  array([False, False,  True, False, False, False, False, False, False,\n",
       "         False]),\n",
       "  array([False, False, False, False, False, False, False, False,  True,\n",
       "         False]),\n",
       "  array([False, False, False,  True, False, False, False, False, False,\n",
       "         False]),\n",
       "  array([False, False, False, False, False, False, False, False,  True,\n",
       "         False]),\n",
       "  array([False, False, False, False, False, False, False, False, False,\n",
       "          True]),\n",
       "  array([False, False, False, False, False, False, False,  True, False,\n",
       "         False]),\n",
       "  array([False, False, False, False, False,  True, False, False, False,\n",
       "         False]),\n",
       "  array([False, False, False, False,  True, False, False, False, False,\n",
       "         False]),\n",
       "  array([False, False, False,  True, False, False, False, False, False,\n",
       "         False]),\n",
       "  array([False, False, False, False, False, False, False, False,  True,\n",
       "         False]),\n",
       "  array([False, False, False, False, False, False, False, False, False,\n",
       "          True]),\n",
       "  array([False, False,  True, False, False, False, False, False, False,\n",
       "         False]),\n",
       "  array([False, False, False,  True, False, False, False, False, False,\n",
       "         False]),\n",
       "  array([False, False, False, False, False, False,  True, False, False,\n",
       "         False]),\n",
       "  array([False, False, False, False,  True, False, False, False, False,\n",
       "         False]),\n",
       "  array([False, False, False, False,  True, False, False, False, False,\n",
       "         False]),\n",
       "  array([False, False, False, False, False, False,  True, False, False,\n",
       "         False]),\n",
       "  array([False, False,  True, False, False, False, False, False, False,\n",
       "         False]),\n",
       "  array([False, False,  True, False, False, False, False, False, False,\n",
       "         False]),\n",
       "  array([False, False, False,  True, False, False, False, False, False,\n",
       "         False]),\n",
       "  array([False, False, False, False,  True, False, False, False, False,\n",
       "         False]),\n",
       "  array([False, False, False, False, False, False, False, False, False,\n",
       "          True]),\n",
       "  array([False, False, False, False,  True, False, False, False, False,\n",
       "         False]),\n",
       "  array([False, False, False, False, False, False, False, False,  True,\n",
       "         False]),\n",
       "  array([False, False, False, False, False, False, False, False, False,\n",
       "          True]),\n",
       "  array([ True, False, False, False, False, False, False, False, False,\n",
       "         False]),\n",
       "  array([False, False, False, False, False, False, False, False,  True,\n",
       "         False]),\n",
       "  array([False, False,  True, False, False, False, False, False, False,\n",
       "         False]),\n",
       "  array([False, False, False, False, False, False, False, False, False,\n",
       "          True]),\n",
       "  array([False, False, False, False, False, False, False,  True, False,\n",
       "         False]),\n",
       "  array([False, False, False,  True, False, False, False, False, False,\n",
       "         False]),\n",
       "  array([False, False, False, False, False, False, False,  True, False,\n",
       "         False]),\n",
       "  array([False, False,  True, False, False, False, False, False, False,\n",
       "         False]),\n",
       "  array([False, False, False, False,  True, False, False, False, False,\n",
       "         False]),\n",
       "  array([False, False, False, False, False,  True, False, False, False,\n",
       "         False]),\n",
       "  array([False, False, False, False, False, False,  True, False, False,\n",
       "         False]),\n",
       "  array([False, False, False, False, False, False, False,  True, False,\n",
       "         False]),\n",
       "  array([False, False, False, False, False,  True, False, False, False,\n",
       "         False]),\n",
       "  array([False, False, False, False,  True, False, False, False, False,\n",
       "         False]),\n",
       "  array([False, False, False, False, False, False, False,  True, False,\n",
       "         False]),\n",
       "  array([False, False, False, False, False, False, False,  True, False,\n",
       "         False]),\n",
       "  array([False, False, False, False, False,  True, False, False, False,\n",
       "         False]),\n",
       "  array([False, False, False,  True, False, False, False, False, False,\n",
       "         False]),\n",
       "  array([ True, False, False, False, False, False, False, False, False,\n",
       "         False]),\n",
       "  array([False, False, False, False, False, False,  True, False, False,\n",
       "         False]),\n",
       "  array([False, False, False, False, False,  True, False, False, False,\n",
       "         False]),\n",
       "  array([False, False,  True, False, False, False, False, False, False,\n",
       "         False]),\n",
       "  array([False, False, False,  True, False, False, False, False, False,\n",
       "         False]),\n",
       "  array([False, False, False, False, False, False,  True, False, False,\n",
       "         False]),\n",
       "  array([False,  True, False, False, False, False, False, False, False,\n",
       "         False]),\n",
       "  array([False, False, False, False, False,  True, False, False, False,\n",
       "         False]),\n",
       "  array([False, False, False,  True, False, False, False, False, False,\n",
       "         False]),\n",
       "  array([ True, False, False, False, False, False, False, False, False,\n",
       "         False]),\n",
       "  array([False, False, False, False, False,  True, False, False, False,\n",
       "         False]),\n",
       "  array([False, False, False, False, False, False, False, False,  True,\n",
       "         False]),\n",
       "  array([ True, False, False, False, False, False, False, False, False,\n",
       "         False]),\n",
       "  array([False,  True, False, False, False, False, False, False, False,\n",
       "         False]),\n",
       "  array([False, False, False, False, False, False, False, False,  True,\n",
       "         False]),\n",
       "  array([ True, False, False, False, False, False, False, False, False,\n",
       "         False]),\n",
       "  array([False, False, False, False, False, False, False, False, False,\n",
       "          True]),\n",
       "  array([False, False, False, False, False, False,  True, False, False,\n",
       "         False]),\n",
       "  array([False, False, False,  True, False, False, False, False, False,\n",
       "         False]),\n",
       "  array([False, False, False,  True, False, False, False, False, False,\n",
       "         False]),\n",
       "  array([ True, False, False, False, False, False, False, False, False,\n",
       "         False]),\n",
       "  array([False, False, False, False, False, False, False,  True, False,\n",
       "         False]),\n",
       "  array([False, False, False, False, False, False,  True, False, False,\n",
       "         False]),\n",
       "  array([False, False, False, False, False, False, False, False,  True,\n",
       "         False]),\n",
       "  array([False,  True, False, False, False, False, False, False, False,\n",
       "         False]),\n",
       "  array([False,  True, False, False, False, False, False, False, False,\n",
       "         False]),\n",
       "  array([False, False, False, False,  True, False, False, False, False,\n",
       "         False]),\n",
       "  array([False,  True, False, False, False, False, False, False, False,\n",
       "         False]),\n",
       "  array([False, False,  True, False, False, False, False, False, False,\n",
       "         False]),\n",
       "  array([False, False, False, False, False, False, False, False,  True,\n",
       "         False]),\n",
       "  array([False, False,  True, False, False, False, False, False, False,\n",
       "         False]),\n",
       "  array([ True, False, False, False, False, False, False, False, False,\n",
       "         False]),\n",
       "  array([False, False, False, False, False, False,  True, False, False,\n",
       "         False]),\n",
       "  array([False, False, False, False,  True, False, False, False, False,\n",
       "         False]),\n",
       "  array([False, False, False, False, False, False, False, False, False,\n",
       "          True]),\n",
       "  array([False,  True, False, False, False, False, False, False, False,\n",
       "         False]),\n",
       "  array([False, False, False, False, False, False, False,  True, False,\n",
       "         False]),\n",
       "  array([False, False, False,  True, False, False, False, False, False,\n",
       "         False]),\n",
       "  array([False, False,  True, False, False, False, False, False, False,\n",
       "         False]),\n",
       "  array([False, False, False, False,  True, False, False, False, False,\n",
       "         False]),\n",
       "  array([False, False, False, False, False, False, False, False, False,\n",
       "          True]),\n",
       "  array([False, False, False, False, False, False, False, False, False,\n",
       "          True]),\n",
       "  array([False, False, False, False, False, False,  True, False, False,\n",
       "         False]),\n",
       "  array([False, False, False,  True, False, False, False, False, False,\n",
       "         False]),\n",
       "  array([False, False,  True, False, False, False, False, False, False,\n",
       "         False]),\n",
       "  array([False, False,  True, False, False, False, False, False, False,\n",
       "         False]),\n",
       "  array([ True, False, False, False, False, False, False, False, False,\n",
       "         False]),\n",
       "  array([False, False, False, False, False, False, False, False,  True,\n",
       "         False]),\n",
       "  array([False, False, False, False, False, False, False,  True, False,\n",
       "         False]),\n",
       "  array([False, False, False, False, False,  True, False, False, False,\n",
       "         False]),\n",
       "  array([False, False,  True, False, False, False, False, False, False,\n",
       "         False]),\n",
       "  array([ True, False, False, False, False, False, False, False, False,\n",
       "         False]),\n",
       "  array([ True, False, False, False, False, False, False, False, False,\n",
       "         False]),\n",
       "  array([False, False,  True, False, False, False, False, False, False,\n",
       "         False]),\n",
       "  array([False, False,  True, False, False, False, False, False, False,\n",
       "         False]),\n",
       "  array([ True, False, False, False, False, False, False, False, False,\n",
       "         False]),\n",
       "  array([False, False, False, False, False, False, False,  True, False,\n",
       "         False]),\n",
       "  array([False, False, False, False, False, False, False, False, False,\n",
       "          True]),\n",
       "  array([ True, False, False, False, False, False, False, False, False,\n",
       "         False]),\n",
       "  array([False, False, False, False, False,  True, False, False, False,\n",
       "         False]),\n",
       "  array([False,  True, False, False, False, False, False, False, False,\n",
       "         False]),\n",
       "  array([ True, False, False, False, False, False, False, False, False,\n",
       "         False]),\n",
       "  array([ True, False, False, False, False, False, False, False, False,\n",
       "         False]),\n",
       "  ...])"
      ]
     },
     "execution_count": 339,
     "metadata": {},
     "output_type": "execute_result"
    }
   ],
   "source": [
    "X_train.mean(),X_train.max()"
   ]
  },
  {
   "cell_type": "code",
   "execution_count": 340,
   "id": "c82b5c5d-3f67-4f84-8e1d-e72edb16806a",
   "metadata": {},
   "outputs": [],
   "source": [
    "model.save(\"D:\\AI Local\\practice_projects\\Model 58.5k Train, 32-64-128,X normalized Acc 98-71 perc.keras\", overwrite=False) "
   ]
  },
  {
   "cell_type": "code",
   "execution_count": 354,
   "id": "b21919ac-0ba3-4fc7-8f4c-267bc8dd766e",
   "metadata": {},
   "outputs": [],
   "source": [
    "model_trained=tf.keras.models.load_model(\"D:\\AI Local\\practice_projects\\Model 58.5k Train, 32-64-128,X normalized Acc 98-71 perc.keras\")"
   ]
  },
  {
   "cell_type": "code",
   "execution_count": 351,
   "id": "c34ac246-799f-41d7-b16a-022f4b30d6ae",
   "metadata": {},
   "outputs": [
    {
     "name": "stdout",
     "output_type": "stream",
     "text": [
      "Creating batches of data...\n"
     ]
    }
   ],
   "source": [
    "test_data=create_image_batches(X_test,y_test)"
   ]
  },
  {
   "cell_type": "code",
   "execution_count": 356,
   "id": "c20368c8-5140-4f53-bd7d-301967fce373",
   "metadata": {},
   "outputs": [
    {
     "name": "stdout",
     "output_type": "stream",
     "text": [
      "\u001b[1m102/102\u001b[0m \u001b[32m━━━━━━━━━━━━━━━━━━━━\u001b[0m\u001b[37m\u001b[0m \u001b[1m1s\u001b[0m 6ms/step - accuracy: 0.9891 - loss: 0.0977\n"
     ]
    }
   ],
   "source": [
    "test_evaluate=model_trained.evaluate(test_data)"
   ]
  },
  {
   "cell_type": "code",
   "execution_count": 357,
   "id": "740e3794-79ad-49d9-93db-ba5d056eb411",
   "metadata": {},
   "outputs": [
    {
     "name": "stdout",
     "output_type": "stream",
     "text": [
      "\u001b[1m102/102\u001b[0m \u001b[32m━━━━━━━━━━━━━━━━━━━━\u001b[0m\u001b[37m\u001b[0m \u001b[1m1s\u001b[0m 9ms/step\n"
     ]
    }
   ],
   "source": [
    "test_prediction=model.predict(test_data)"
   ]
  },
  {
   "cell_type": "code",
   "execution_count": 358,
   "id": "59323012-d793-425f-a1f8-9ccaf90528fb",
   "metadata": {},
   "outputs": [],
   "source": [
    "test_images,test_labels=next(test_data.as_numpy_iterator())"
   ]
  },
  {
   "cell_type": "code",
   "execution_count": 359,
   "id": "485a74b2-cab8-4826-90b1-450bf7417dd6",
   "metadata": {},
   "outputs": [
    {
     "data": {
      "image/png": "[encoded data removed]",
      "text/plain": [
       "<Figure size 1000x1000 with 32 Axes>"
      ]
     },
     "metadata": {},
     "output_type": "display_data"
    }
   ],
   "source": [
    "show_true_predict(test_images,test_labels,test_prediction[0:len(test_labels)])"
   ]
  },
  {
   "cell_type": "code",
   "execution_count": null,
   "id": "e5ae1ebf-9432-44a0-8860-79ee84922917",
   "metadata": {},
   "outputs": [],
   "source": []
  }
 ],
 "metadata": {
  "kernelspec": {
   "display_name": "Python 3 (ipykernel)",
   "language": "python",
   "name": "python3"
  },
  "language_info": {
   "codemirror_mode": {
    "name": "ipython",
    "version": 3
   },
   "file_extension": ".py",
   "mimetype": "text/x-python",
   "name": "python",
   "nbconvert_exporter": "python",
   "pygments_lexer": "ipython3",
   "version": "3.10.13"
  }
 },
 "nbformat": 4,
 "nbformat_minor": 5
}
